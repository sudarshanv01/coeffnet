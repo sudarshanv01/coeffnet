{
 "cells": [
  {
   "cell_type": "code",
   "execution_count": null,
   "metadata": {},
   "outputs": [],
   "source": [
    "from e3nn import o3\n",
    "from e3nn.util.test import assert_equivariant\n",
    "import torch"
   ]
  },
  {
   "cell_type": "code",
   "execution_count": null,
   "metadata": {},
   "outputs": [],
   "source": [
    "\"\"\"Cell to determine the input irreps\"\"\"\n",
    "# Compare the types of tensor products\n",
    "irrep_in = \"1x0e + 1x1o + 1x2e\"\n",
    "o3_type = o3.Irreps(irrep_in)\n",
    "print(f\"Dimension of the input: {o3_type.dim}\")\n",
    "\n",
    "x = torch.tensor([1.0, 0.0, 0.0, 1.0, 2.0, 3.0, 4.0, 5.0, 6.0])\n",
    "y = torch.tensor([0.0, 1.0, 0.0, 2.0, 1.0, 0.0, 3.0, 2.0, 1.0])\n",
    "\n",
    "# Full Tensor Product\n",
    "print(\"Full Tensor Product\")\n",
    "ftp = o3.FullTensorProduct(o3_type, o3_type)\n",
    "out = ftp(x, y)\n",
    "print(f\"Dimension of the output: {out.shape}\")\n",
    "print(f\"Output irreps: {ftp.irreps_out}\")\n",
    "\n",
    "print(\"Reduced Tensor Product\")\n",
    "rtp = o3.ReducedTensorProducts(\"ij=ji\", i=irrep_in)\n",
    "out = rtp(x, y)\n",
    "print(f\"Dimension of the output: {out.shape}\")\n",
    "print(f\"Output irreps: {rtp.irreps_out}\")"
   ]
  },
  {
   "cell_type": "code",
   "execution_count": null,
   "metadata": {},
   "outputs": [],
   "source": [
    "print(\"Performing full tensor product\")\n",
    "irrep_symmetric_matrix = o3.Irreps(\"3x0e+2x1o+1x2o+3x2e+1x3o+1x4e\")\n",
    "ftp_of_symm_matrices = o3.FullTensorProduct(\n",
    "    irrep_symmetric_matrix, irrep_symmetric_matrix\n",
    ")\n",
    "# ftp_of_symm_matrices.visualize()\n",
    "print(f\"Dimension of the output: {ftp_of_symm_matrices.irreps_out.dim}\")\n",
    "print(f\"Output irreps: {ftp_of_symm_matrices.irreps_out}\")\n",
    "print(f\"ftp_of_symm_matrices(x, y): {ftp_of_symm_matrices}\")"
   ]
  },
  {
   "cell_type": "code",
   "execution_count": null,
   "metadata": {},
   "outputs": [],
   "source": [
    "# Generate a 9x9 symmetric matrix\n",
    "symmetric_matrix_1 = torch.randn(9, 9)\n",
    "symmetric_matrix_1 = (symmetric_matrix_1 + symmetric_matrix_1.T) / 2\n",
    "symmetric_matrix_2 = torch.randn(9, 9)\n",
    "symmetric_matrix_2 = (symmetric_matrix_2 + symmetric_matrix_2.T) / 2\n",
    "\n",
    "# Create the input and output irreps\n",
    "irreps_out_symm_matrix = o3.Irreps(\"6x0o+25x0e+38x1o+22x1e+34x2o+50x2e\")\n",
    "print(f\"Irreps out of the output: {irreps_out_symm_matrix}\")\n",
    "print(f\"Dimension of the output: {o3.Irreps(irreps_out_symm_matrix).dim}\")"
   ]
  },
  {
   "cell_type": "code",
   "execution_count": null,
   "metadata": {},
   "outputs": [],
   "source": [
    "print(\"Performing fully connected tensor product\")\n",
    "fctp_of_symm_matrices = o3.FullyConnectedTensorProduct(\n",
    "    irrep_symmetric_matrix, irrep_symmetric_matrix, irreps_out_symm_matrix\n",
    ")\n",
    "fctp_of_symm_matrices.visualize()"
   ]
  },
  {
   "cell_type": "code",
   "execution_count": null,
   "metadata": {},
   "outputs": [],
   "source": [
    "assert_equivariant(\n",
    "    irreps_in=[irrep_symmetric_matrix, irrep_symmetric_matrix],\n",
    "    irreps_out=irreps_out_symm_matrix,\n",
    "    func=fctp_of_symm_matrices,\n",
    ")"
   ]
  },
  {
   "cell_type": "code",
   "execution_count": null,
   "metadata": {},
   "outputs": [],
   "source": [
    "# Generate the 45 element vector from the symmetric matrix\n",
    "def generate_equi_rep_from_matrix(matrix):\n",
    "    \"\"\"Take out the relevant parts of the symmetric matrix to generate the 45 element vector\"\"\"\n",
    "    s_comp = matrix[0:1, 0:1]\n",
    "    p_comp = matrix[1:4, 1:4]\n",
    "    d_comp = matrix[4:, 4:]\n",
    "    sp_comp = matrix[0:1, 1:4]\n",
    "    sd_comp = matrix[0:1, 4:]\n",
    "    pd_comp = matrix[1:4, 4:]\n",
    "\n",
    "    def create_voigt_notation_vector(component):\n",
    "        \"\"\"For a given component, create the voigt notation vector\"\"\"\n",
    "        diagonal = torch.diagonal(component)\n",
    "        off_diagonal = torch.triu(component, diagonal=1)\n",
    "        off_diagonal = off_diagonal[off_diagonal != 0]\n",
    "        return torch.cat([diagonal, off_diagonal])\n",
    "\n",
    "    # Create the voigt notation vector for the s_component, p_component, d_component\n",
    "    s_contrib = create_voigt_notation_vector(s_comp)\n",
    "    p_contrib = create_voigt_notation_vector(p_comp)\n",
    "    d_contrib = create_voigt_notation_vector(d_comp)\n",
    "\n",
    "    # Flatten the sp, sd, pd components\n",
    "    sp_contrib = sp_comp.flatten()\n",
    "    sd_contrib = sd_comp.flatten()\n",
    "    pd_contrib = pd_comp.flatten()\n",
    "\n",
    "    # Concatenate the components to get the 45 element vector\n",
    "    equi_rep = torch.cat(\n",
    "        [s_contrib, p_contrib, d_contrib, sp_contrib, sd_contrib, pd_contrib]\n",
    "    )\n",
    "\n",
    "    return equi_rep"
   ]
  },
  {
   "cell_type": "code",
   "execution_count": null,
   "metadata": {},
   "outputs": [],
   "source": [
    "equi_rep_1 = generate_equi_rep_from_matrix(symmetric_matrix_1)\n",
    "equi_rep_2 = generate_equi_rep_from_matrix(symmetric_matrix_2)\n",
    "\n",
    "# Take the tensor product of the 45 element vectors\n",
    "output_tp = fctp_of_symm_matrices(equi_rep_1, equi_rep_2)"
   ]
  },
  {
   "cell_type": "code",
   "execution_count": null,
   "metadata": {},
   "outputs": [],
   "source": [
    "# Test equivariance based on the data generated above\n",
    "angles = o3.rand_angles()\n",
    "D_g = irrep_symmetric_matrix.D_from_angles(*angles)\n",
    "D_prime_g = irreps_out_symm_matrix.D_from_angles(*angles)\n",
    "\n",
    "applied_to_inputs = fctp_of_symm_matrices(D_g @ equi_rep_1, D_g @ equi_rep_2)\n",
    "applied_to_outputs = D_prime_g @ fctp_of_symm_matrices(equi_rep_1, equi_rep_2)\n",
    "difference = applied_to_inputs - applied_to_outputs\n",
    "print(f\"Maximum absolute difference: {torch.max(torch.abs(difference))}\")"
   ]
  },
  {
   "cell_type": "code",
   "execution_count": null,
   "metadata": {},
   "outputs": [],
   "source": []
  }
 ],
 "metadata": {
  "kernelspec": {
   "display_name": "molml",
   "language": "python",
   "name": "python3"
  },
  "language_info": {
   "codemirror_mode": {
    "name": "ipython",
    "version": 3
   },
   "file_extension": ".py",
   "mimetype": "text/x-python",
   "name": "python",
   "nbconvert_exporter": "python",
   "pygments_lexer": "ipython3",
   "version": "3.9.15"
  },
  "vscode": {
   "interpreter": {
    "hash": "c0de598c4e13c0bc0daa0f1515205270a88f8656cf701de288f6c6743b0ef60d"
   }
  }
 },
 "nbformat": 4,
 "nbformat_minor": 2
}
