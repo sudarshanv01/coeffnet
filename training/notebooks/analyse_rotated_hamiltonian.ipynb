{
 "cells": [
  {
   "attachments": {},
   "cell_type": "markdown",
   "metadata": {
    "slideshow": {
     "slide_type": "slide"
    }
   },
   "source": [
    "## Using coefficients of molecular orbitals to learn activation barriers for (electro-)chemical reactions computed with DFT"
   ]
  },
  {
   "attachments": {},
   "cell_type": "markdown",
   "metadata": {
    "slideshow": {
     "slide_type": "slide"
    }
   },
   "source": [
    "DFT computes the energies by solving the generalised eigenvalue problem:\n",
    "\n",
    "$$\n",
    "\\boldsymbol{H(R)}\\psi_i = \\epsilon_i \\boldsymbol{S(R)}\\psi_i\n",
    "$$\n",
    "\n",
    "where $\\boldsymbol{H(R)}$ is the Hamiltonian Matrix, $\\boldsymbol{S(R)}$ is the overlap matrix, $\\epsilon_i$ is the computed eigenvalue for state i, with an eigenvector $\\psi_i$.\n",
    "\n",
    "- This document will go through all of these quantities and explore their behaviour with rotation. \n",
    "- All quantities are computed for water using a minimal basis representation."
   ]
  },
  {
   "cell_type": "code",
   "execution_count": null,
   "metadata": {
    "slideshow": {
     "slide_type": "skip"
    }
   },
   "outputs": [],
   "source": [
    "import numpy as np\n",
    "import plotly.express as px\n",
    "import plotly.io as pio\n",
    "\n",
    "# This ensures Plotly output works in multiple places:\n",
    "# plotly_mimetype: VS Code notebook UI\n",
    "# notebook: \"Jupyter: Export to HTML\" command in VS Code\n",
    "# See https://plotly.com/python/renderers/#multiple-renderers\n",
    "pio.renderers.default = \"plotly_mimetype+notebook\"\n",
    "from instance_mongodb import instance_mongodb_sei\n",
    "\n",
    "from pymatgen.core.structure import Molecule\n",
    "\n",
    "import torch\n",
    "\n",
    "from monty.serialization import loadfn, dumpfn\n",
    "\n",
    "from e3nn import o3\n",
    "\n",
    "from utils import rotate_three_dimensions, subdiagonalize_matrix"
   ]
  },
  {
   "cell_type": "code",
   "execution_count": null,
   "metadata": {
    "slideshow": {
     "slide_type": "skip"
    }
   },
   "outputs": [],
   "source": [
    "def add_bounds_to_figure(fig):\n",
    "\n",
    "    fig.add_shape(\n",
    "        type=\"line\",\n",
    "        x0=-0.5,\n",
    "        y0=4.5,\n",
    "        x1=6.5,\n",
    "        y1=4.5,\n",
    "        line=dict(color=\"black\", width=2),\n",
    "    )\n",
    "    fig.add_shape(\n",
    "        type=\"line\",\n",
    "        x0=-0.5,\n",
    "        y0=5.5,\n",
    "        x1=6.5,\n",
    "        y1=5.5,\n",
    "        line=dict(color=\"black\", width=2),\n",
    "    )\n",
    "    fig.add_shape(\n",
    "        type=\"line\",\n",
    "        x0=-0.5,\n",
    "        y0=-0.5,\n",
    "        x1=-0.5,\n",
    "        y1=6.5,\n",
    "        line=dict(color=\"black\", width=2),\n",
    "    )\n",
    "    fig.add_shape(\n",
    "        type=\"line\",\n",
    "        x0=4.5,\n",
    "        y0=-0.5,\n",
    "        x1=4.5,\n",
    "        y1=6.5,\n",
    "        line=dict(color=\"black\", width=2),\n",
    "    )\n",
    "\n",
    "    fig.update_xaxes(\n",
    "        ticktext=[ \"O1s\", \"O2s\", \"O2p\", \"O2p\", \"O2p\", \"H1s\", \"H1s\",],\n",
    "        tickvals=np.arange(11),\n",
    "    )\n",
    "    fig.update_yaxes(\n",
    "        ticktext=[\"O1s\", \"O2s\", \"O2p\", \"O2p\", \"O2p\", \"H1s\", \"H1s\"],\n",
    "        tickvals=np.arange(11),\n",
    "    )\n",
    "\n",
    "    return fig"
   ]
  },
  {
   "cell_type": "code",
   "execution_count": null,
   "metadata": {
    "slideshow": {
     "slide_type": "skip"
    }
   },
   "outputs": [],
   "source": [
    "db = instance_mongodb_sei(project=\"mlts\")\n",
    "collection = db.rotated_waters_dataset\n",
    "\n",
    "hamiltonians = []\n",
    "angles = []\n",
    "structures = []\n",
    "overlap_matrices = []\n",
    "coefficients = []\n",
    "eigenvalues = []\n",
    "\n",
    "for doc in collection.find({}).limit(10):\n",
    "    hamiltonians.append(doc[\"fock_matrices\"][0])\n",
    "    overlap_matrices.append(doc[\"overlap_matrices\"][0])\n",
    "    structure = Molecule.from_dict(doc[\"structures\"][0])\n",
    "    structures.append(structure)\n",
    "    coefficients.append(doc[\"coeff_matrices\"][0])\n",
    "    angles.append(doc[\"angles\"])\n",
    "    eigenvalues.append(doc[\"eigenvalues\"][0])\n",
    "\n",
    "hamiltonians = np.array(hamiltonians)\n",
    "overlap_matrices = np.array(overlap_matrices)\n",
    "coefficients = np.array(coefficients)\n",
    "angles = np.array(angles)\n",
    "eigenvalues = np.array(eigenvalues)\n",
    "eigenvalues = eigenvalues[..., np.newaxis, :]"
   ]
  },
  {
   "cell_type": "code",
   "execution_count": null,
   "metadata": {
    "slideshow": {
     "slide_type": "slide"
    }
   },
   "outputs": [],
   "source": [
    "fig = px.imshow(\n",
    "    hamiltonians[:, 1, ...], animation_frame=0, labels=dict(x=\"Basis\", y=\"Basis\", color=\"Value\"),\n",
    "    range_color=[-1, 1],\n",
    ")\n",
    "add_bounds_to_figure(fig)\n",
    "fig.update_layout(title_text='DFT computed Hamiltonian for a rotated water molecule', title_x=0.5)\n",
    "fig.show()"
   ]
  },
  {
   "cell_type": "code",
   "execution_count": null,
   "metadata": {
    "slideshow": {
     "slide_type": "slide"
    }
   },
   "outputs": [],
   "source": [
    "fig = px.imshow(\n",
    "    overlap_matrices[:, 1, ...], animation_frame=0, labels=dict(x=\"Basis\", y=\"Basis\", color=\"Value\"),\n",
    "    range_color=[0, 1],\n",
    ")\n",
    "add_bounds_to_figure(fig)\n",
    "fig.update_layout(title_text='DFT computed overlap matrix for a rotated water molecule', title_x=0.5)\n",
    "fig.show()\n"
   ]
  },
  {
   "cell_type": "code",
   "execution_count": null,
   "metadata": {
    "slideshow": {
     "slide_type": "slide"
    }
   },
   "outputs": [],
   "source": [
    "fig = px.imshow(\n",
    "    eigenvalues[:,0,...], animation_frame=0, labels=dict(x=\"Basis\", y=\"Eigenvalues\", color=\"Value\"),\n",
    ")\n",
    "fig.update_layout(title_text='DFT computed eigenvalues for a rotated water molecule', title_x=0.5)\n",
    "fig.update_yaxes(tickmode='array', tickvals=np.arange(11))\n",
    "fig.update_xaxes(tickmode='array', tickvals=np.arange(11))\n",
    "fig.show()"
   ]
  },
  {
   "cell_type": "code",
   "execution_count": null,
   "metadata": {
    "slideshow": {
     "slide_type": "slide"
    }
   },
   "outputs": [],
   "source": [
    "fig = px.imshow(\n",
    "    coefficients[:, 0, ...], animation_frame=0, labels=dict(x=\"Basis\", y=\"Basis\", color=\"Value\"),\n",
    ")\n",
    "add_bounds_to_figure(fig)\n",
    "fig.update_layout(title_text='DFT computed coefficient matrix for a rotated water molecule', title_x=0.5)\n",
    "# Remove tick labels from the yaxis\n",
    "# Change y-label to be `eigenvalues index`\n",
    "fig.update_xaxes(title_text=\"Eigenvalues index\")\n",
    "# Change the x-axis labels to be the integral labels\n",
    "fig.update_xaxes(\n",
    "    ticktext=np.arange(8),\n",
    "    tickvals=np.arange(8),\n",
    ")\n",
    "fig.show()\n"
   ]
  },
  {
   "attachments": {},
   "cell_type": "markdown",
   "metadata": {
    "slideshow": {
     "slide_type": "skip"
    }
   },
   "source": [
    "### Change coefficient matrix to orthonormal basis\n",
    "\n",
    "- For each structure and spin, $\\sigma$ find the eigenvalues and eigenvectors of the overlap matrix as $\\mathbf{S}\\Lambda = \\lambda \\Lambda$\n",
    "- Create an orthogonalization matrix, $\\mathbf{S}^{-1/2} = \\lambda \\Lambda^{-1/2} \\lambda$\n",
    "- Orthogonalize the Fock matrix as $\\mathbf{S}^{-1/2, T} F \\mathbf{S}^{-1/2}$\n",
    "- Find the eigenvalues and eigenvectors of the orgonalized Hamiltonian. These eigenvectors are the coefficient matrix in the orthonormal basis. Hence, the sum of the square of these elements for each row and column is 1."
   ]
  },
  {
   "cell_type": "code",
   "execution_count": null,
   "metadata": {
    "slideshow": {
     "slide_type": "skip"
    }
   },
   "outputs": [],
   "source": [
    "specific_coeff = coefficients[0, 0, ...]\n",
    "specific_overlap = overlap_matrices[0, 0, ...]\n",
    "specific_hamiltonian = hamiltonians[0, 0, ...]\n",
    "specific_eigenvalues = eigenvalues[0, 0, ...]\n",
    "print(\"Original eigenvalues: \", specific_eigenvalues)\n",
    "\n",
    "\n",
    "eigenval_overlap, eigenvec_overlap = np.linalg.eigh(specific_overlap) \n",
    "orthogonalisation_matrix = np.dot(eigenvec_overlap, np.dot(np.diag(1 / np.sqrt(eigenval_overlap)), eigenvec_overlap.T))\n",
    "\n",
    "orthogonalised_hamiltonian = np.dot(orthogonalisation_matrix.T, np.dot(specific_hamiltonian, orthogonalisation_matrix))\n",
    "eigenval_hamiltonian, eigenvec_hamiltonian = np.linalg.eigh(orthogonalised_hamiltonian)\n",
    "sum_of_squares = np.sum(eigenvec_hamiltonian ** 2, axis=-1)\n",
    "print(\"Sum of squares of the eigenvectors: \", sum_of_squares)\n",
    "print(\"Eigenvalues of orthogonlised hamiltonian: \", eigenval_hamiltonian)\n",
    "\n",
    "# Convert back to the original basis\n",
    "orig_eigenvec = np.dot(orthogonalisation_matrix, eigenvec_hamiltonian)\n",
    "print(\"Sum of squares of the original eigenvectors: \", np.sum(orig_eigenvec ** 2, axis=-1))\n",
    "print(\"Sum of squares of the original eigenvectors: \", np.sum(specific_coeff ** 2, axis=-1))\n",
    "\n",
    "eigenvec_hamiltonian = np.abs(eigenvec_hamiltonian)\n",
    "orig_eigenvec = np.abs(orig_eigenvec)\n",
    "specific_coeff = np.abs(specific_coeff)\n",
    "\n",
    "to_plot_eigenvec = [ eigenvec_hamiltonian, orig_eigenvec, specific_coeff]\n",
    "to_plot_eigenvec = np.array(to_plot_eigenvec)\n",
    "fig = px.imshow(\n",
    "    to_plot_eigenvec, animation_frame=0, labels=dict(x=\"Basis\", y=\"Basis\", color=\"Value\"),\n",
    "    # range_color=[0, 2]\n",
    ")\n",
    "add_bounds_to_figure(fig)\n",
    "fig.show()"
   ]
  },
  {
   "attachments": {},
   "cell_type": "markdown",
   "metadata": {
    "slideshow": {
     "slide_type": "skip"
    }
   },
   "source": [
    "In order to determine _how_ the Hamiltonian changes as a function of rotation $\\left (\\alpha, \\beta, \\gamma \\right)$, we create the Wigner-D matrix.\n",
    "\n",
    "$$\n",
    "\\boldsymbol{H}\\left( \\alpha, \\beta, \\gamma \\right) = D\\left(\\alpha, \\beta, \\gamma\\right) \\boldsymbol{H} D\\left(\\alpha, \\beta, \\gamma\\right)^T\n",
    "$$"
   ]
  },
  {
   "cell_type": "code",
   "execution_count": null,
   "metadata": {
    "slideshow": {
     "slide_type": "skip"
    }
   },
   "outputs": [],
   "source": [
    "irreps_hamiltonian = o3.Irreps(\"1x0e+1x0e+1x1o+1x0e+1x0e\")\n",
    "\n",
    "D_matrices = []\n",
    "for idx, angle in enumerate(angles):\n",
    "    alpha, beta, gamma = angle\n",
    "\n",
    "    rotation_matrix = rotate_three_dimensions(alpha, beta, gamma)\n",
    "    rotation_matrix = torch.tensor(rotation_matrix)\n",
    "    if idx == 0:\n",
    "        rotation_matrix_0 = rotation_matrix\n",
    "\n",
    "    # Reference the rotation matrix to the first one\n",
    "    rotation_matrix = rotation_matrix @ rotation_matrix_0.T\n",
    "\n",
    "    D_matrix = irreps_hamiltonian.D_from_matrix(rotation_matrix)\n",
    "    D_matrices.append(D_matrix)\n",
    "\n",
    "D_matrices = torch.stack(D_matrices)\n",
    "# Convert to numpy array\n",
    "D_matrices = D_matrices.detach().numpy()\n",
    "\n",
    "fig = px.imshow(\n",
    "    D_matrices, animation_frame=0, labels=dict(x=\"Basis\", y=\"Basis\", color=\"Value\")\n",
    ")\n",
    "\n",
    "fig.update_layout(title_text='Wigner Matrix (D)', title_x=0.5)\n",
    "add_bounds_to_figure(fig)\n",
    "fig.show()"
   ]
  },
  {
   "cell_type": "code",
   "execution_count": null,
   "metadata": {
    "slideshow": {
     "slide_type": "skip"
    }
   },
   "outputs": [],
   "source": [
    "# Referencing all the angles to the first angle, compute the Hamiltonian in the rotated basis\n",
    "hamiltonians_rotated = []\n",
    "for i in range(len(angles)):\n",
    "    hamiltonian_rotated = D_matrices[i] @ hamiltonians[0, ..., :, :] @ D_matrices[i].T\n",
    "    hamiltonians_rotated.append(hamiltonian_rotated)\n",
    "\n",
    "hamiltonians_rotated = np.array(hamiltonians_rotated)\n",
    "hamiltonians_rotated_diff = hamiltonians_rotated - hamiltonians\n",
    "\n",
    "fig = px.imshow(\n",
    "    hamiltonians_rotated_diff[:, 0, ...],\n",
    "    animation_frame=0,\n",
    "    labels=dict(x=\"Basis\", y=\"Basis\", color=\"Value\"),\n",
    "    range_color=[-1, 1],\n",
    ")\n",
    "\n",
    "add_bounds_to_figure(fig)\n",
    "\n",
    "fig.update_layout(title_text='Difference between computed and rotated H', title_x=0.5)\n",
    "\n",
    "fig.show()"
   ]
  },
  {
   "cell_type": "code",
   "execution_count": null,
   "metadata": {
    "slideshow": {
     "slide_type": "skip"
    }
   },
   "outputs": [],
   "source": [
    "# Check the rotation of the overlap matrix\n",
    "overlap_matrices_rotated = []\n",
    "for i in range(len(angles)):\n",
    "    overlap_matrix_rotated = D_matrices[i] @ overlap_matrices[0, ..., :, :] @ D_matrices[i].T\n",
    "    overlap_matrices_rotated.append(overlap_matrix_rotated)\n",
    "\n",
    "overlap_matrices_rotated = np.array(overlap_matrices_rotated)\n",
    "overlap_matrices_rotated_diff = overlap_matrices_rotated - overlap_matrices\n",
    "\n",
    "fig = px.imshow(\n",
    "    overlap_matrices_rotated_diff[:, 0, ...],\n",
    "    animation_frame=0,\n",
    "    labels=dict(x=\"Basis\", y=\"Basis\", color=\"Value\"),\n",
    "    range_color=[-1, 1],\n",
    ")\n",
    "add_bounds_to_figure(fig)\n",
    "fig.show()"
   ]
  },
  {
   "cell_type": "code",
   "execution_count": null,
   "metadata": {
    "slideshow": {
     "slide_type": "skip"
    }
   },
   "outputs": [],
   "source": [
    "# Check the rotation of the coefficient matrix\n",
    "coeff_chosen_idx = 2\n",
    "all_data = []\n",
    "for i in range(len(angles)):\n",
    "    init_coeff = coefficients[0, 0, :, coeff_chosen_idx] \n",
    "    calc_coeff = coefficients[i, 0, :, coeff_chosen_idx]\n",
    "    coeff_rotated =  init_coeff @ D_matrices[i].T \n",
    "    _coefficients_rotated_diff = coeff_rotated - calc_coeff\n",
    "    _coefficients_rotated_add = coeff_rotated + calc_coeff\n",
    "    _max_diff = np.max(np.abs(_coefficients_rotated_diff))\n",
    "    _max_add = np.max(np.abs(_coefficients_rotated_add))\n",
    "    print(f\"Max diff: {_max_diff}, max add: {_max_add}\")\n",
    "    coefficients_rotated_diff = _coefficients_rotated_diff if _max_diff < _max_add else _coefficients_rotated_add \n",
    "    _all_data = np.stack([calc_coeff, coeff_rotated, coefficients_rotated_diff])\n",
    "    all_data.append(_all_data)\n",
    "\n",
    "all_data = np.array(all_data)\n",
    "\n",
    "fig = px.imshow(\n",
    "    all_data,\n",
    "    animation_frame=0,\n",
    "    labels=dict(x=\"Eigenvalue index\", color=\"Value\"),\n",
    "    # range_color=[0, 1],\n",
    "    title=\"Rotation of the coefficient matrix\"\n",
    ")\n",
    "fig.update_yaxes(tickmode='array', tickvals=np.arange(3), ticktext=['computed', 'rotated', 'difference'])\n",
    "fig.show()\n"
   ]
  }
 ],
 "metadata": {
  "celltoolbar": "Slideshow",
  "kernelspec": {
   "display_name": "Python 3 (ipykernel)",
   "language": "python",
   "name": "python3"
  },
  "language_info": {
   "codemirror_mode": {
    "name": "ipython",
    "version": 3
   },
   "file_extension": ".py",
   "mimetype": "text/x-python",
   "name": "python",
   "nbconvert_exporter": "python",
   "pygments_lexer": "ipython3",
   "version": "3.9.15"
  },
  "vscode": {
   "interpreter": {
    "hash": "c0de598c4e13c0bc0daa0f1515205270a88f8656cf701de288f6c6743b0ef60d"
   }
  }
 },
 "nbformat": 4,
 "nbformat_minor": 2
}
