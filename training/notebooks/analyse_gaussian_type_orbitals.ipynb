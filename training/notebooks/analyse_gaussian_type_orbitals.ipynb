{
 "cells": [
  {
   "cell_type": "code",
   "execution_count": null,
   "metadata": {},
   "outputs": [],
   "source": [
    "import numpy as np\n",
    "import torch\n",
    "from e3nn.o3 import spherical_harmonics\n",
    "import plotly.express as px\n",
    "import plotly.graph_objects as go"
   ]
  },
  {
   "cell_type": "code",
   "execution_count": null,
   "metadata": {},
   "outputs": [],
   "source": [
    "# Create a tensor which is a grid of x, y, z positions in space with center at (0, 0, 0)\n",
    "# and with a spacing of 0.1 between each point\n",
    "x = torch.linspace(-100, 100, 21)\n",
    "y = torch.linspace(-100, 100, 21)\n",
    "z = torch.linspace(-100, 100, 21)\n",
    "grid = torch.stack(torch.meshgrid(x, y, z), dim=-1).reshape(-1, 3)\n",
    "print(grid.shape)"
   ]
  },
  {
   "cell_type": "code",
   "execution_count": null,
   "metadata": {},
   "outputs": [],
   "source": [
    "s_sh = spherical_harmonics(1, grid, normalize=True)\n",
    "print(s_sh.shape)\n",
    "# Plot the spherical harmonic\n",
    "fig = px.scatter_3d(grid, x=0, y=1, z=2, color=s_sh[:, 2])\n",
    "fig.show()\n",
    "# Plot the z-averaged dimension by reshaping the tensor\n",
    "reshaped_s = s_sh.reshape(21, 21, 21, 3)\n",
    "\n",
    "xy_averaged_s = reshaped_s[...,2].mean(dim=(0, 1))\n",
    "fig = px.scatter(x=z, y=xy_averaged_s)\n",
    "fig.show()"
   ]
  },
  {
   "cell_type": "code",
   "execution_count": null,
   "metadata": {},
   "outputs": [],
   "source": [
    "# Plot the iso-surface of the spherical harmonic\n",
    "fig = go.Figure(data=go.Isosurface(\n",
    "    x=grid[:, 0], y=grid[:, 1], z=grid[:, 2],\n",
    "    value=s_sh[:, 0],\n",
    "    isomin=-0.1,\n",
    "    isomax=0.1,\n",
    "    surface_count=1,\n",
    "    # caps=dict(x_show=False, y_show=False, z_show=False)\n",
    "))\n",
    "fig.show()"
   ]
  }
 ],
 "metadata": {
  "kernelspec": {
   "display_name": "molml",
   "language": "python",
   "name": "python3"
  },
  "language_info": {
   "codemirror_mode": {
    "name": "ipython",
    "version": 3
   },
   "file_extension": ".py",
   "mimetype": "text/x-python",
   "name": "python",
   "nbconvert_exporter": "python",
   "pygments_lexer": "ipython3",
   "version": "3.9.15"
  }
 },
 "nbformat": 4,
 "nbformat_minor": 2
}
