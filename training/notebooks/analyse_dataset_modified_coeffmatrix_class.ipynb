{
 "cells": [
  {
   "cell_type": "code",
   "execution_count": null,
   "metadata": {},
   "outputs": [],
   "source": [
    "import numpy as np\n",
    "import plotly.express as px\n",
    "from instance_mongodb import instance_mongodb_sei\n",
    "\n",
    "from pymatgen.core.structure import Molecule\n",
    "from pymatgen.analysis.local_env import OpenBabelNN\n",
    "from pymatgen.analysis.graphs import MoleculeGraph\n",
    "\n",
    "from monty.serialization import loadfn, dumpfn\n",
    "\n",
    "import torch\n",
    "\n",
    "from e3nn import o3\n",
    "\n",
    "from minimal_basis.data.data_reaction import ModifiedCoefficientMatrix\n",
    "\n",
    "from utils import rotate_three_dimensions, subdiagonalize_matrix"
   ]
  },
  {
   "cell_type": "code",
   "execution_count": null,
   "metadata": {},
   "outputs": [],
   "source": [
    "def add_bounds_to_figure(fig):\n",
    "\n",
    "    fig.add_shape(\n",
    "        type=\"line\",\n",
    "        x0=-0.5,\n",
    "        y0=4.5,\n",
    "        x1=6.5,\n",
    "        y1=4.5,\n",
    "        line=dict(color=\"black\", width=2),\n",
    "    )\n",
    "    fig.add_shape(\n",
    "        type=\"line\",\n",
    "        x0=-0.5,\n",
    "        y0=5.5,\n",
    "        x1=6.5,\n",
    "        y1=5.5,\n",
    "        line=dict(color=\"black\", width=2),\n",
    "    )\n",
    "    fig.add_shape(\n",
    "        type=\"line\",\n",
    "        x0=-0.5,\n",
    "        y0=-0.5,\n",
    "        x1=-0.5,\n",
    "        y1=6.5,\n",
    "        line=dict(color=\"black\", width=2),\n",
    "    )\n",
    "    fig.add_shape(\n",
    "        type=\"line\",\n",
    "        x0=4.5,\n",
    "        y0=-0.5,\n",
    "        x1=4.5,\n",
    "        y1=6.5,\n",
    "        line=dict(color=\"black\", width=2),\n",
    "    )\n",
    "\n",
    "    fig.update_xaxes(\n",
    "        ticktext=[ \"O1s\", \"O2s\", \"O2p\", \"O2p\", \"O2p\", \"H1s\", \"H1s\",],\n",
    "        tickvals=np.arange(11),\n",
    "    )\n",
    "    fig.update_yaxes(\n",
    "        ticktext=[\"O1s\", \"O2s\", \"O2p\", \"O2p\", \"O2p\", \"H1s\", \"H1s\"],\n",
    "        tickvals=np.arange(11),\n",
    "    )\n",
    "\n",
    "    return fig"
   ]
  },
  {
   "cell_type": "code",
   "execution_count": null,
   "metadata": {},
   "outputs": [],
   "source": [
    "db = instance_mongodb_sei(project=\"mlts\")\n",
    "collection = db.rotated_waters_dataset\n",
    "\n",
    "hamiltonians = []\n",
    "angles = []\n",
    "structures = []\n",
    "overlap_matrices = []\n",
    "coefficients = []\n",
    "eigenvalues = []\n",
    "\n",
    "for doc in collection.find({}).limit(10):\n",
    "    hamiltonians.append(doc[\"fock_matrices\"][0])\n",
    "    overlap_matrices.append(doc[\"overlap_matrices\"][0])\n",
    "    structure = Molecule.from_dict(doc[\"structures\"][0])\n",
    "    structures.append(structure)\n",
    "    coefficients.append(doc[\"coeff_matrices\"][0])\n",
    "    angles.append(doc[\"angles\"])\n",
    "    eigenvalues.append(doc[\"eigenvalues\"][0])\n",
    "\n",
    "hamiltonians = np.array(hamiltonians)\n",
    "overlap_matrices = np.array(overlap_matrices)\n",
    "coefficients = np.array(coefficients)\n",
    "angles = np.array(angles)\n",
    "eigenvalues = np.array(eigenvalues)\n",
    "eigenvalues = eigenvalues[..., np.newaxis, :]"
   ]
  },
  {
   "cell_type": "code",
   "execution_count": null,
   "metadata": {},
   "outputs": [],
   "source": [
    "# Analyse one molecule's input to the CoefficientMatrix\n",
    "alpha_coeff_matrix = coefficients[0,0]\n",
    "chosen_eigenstate = 3\n",
    "molecule_graph = MoleculeGraph.with_local_env_strategy(structures[0], OpenBabelNN())\n",
    "coeff_matrix = ModifiedCoefficientMatrix(\n",
    "    molecule_graph=molecule_graph,\n",
    "    basis_info_raw=loadfn(\"input_files/sto-3g.json\"),\n",
    "    coefficient_matrix=alpha_coeff_matrix,\n",
    "    store_idx_only=chosen_eigenstate,\n",
    "    set_to_absolute=True,\n",
    "    max_s_functions=2,\n",
    "    max_p_functions=1,\n",
    "    max_d_functions=1,\n",
    ")"
   ]
  },
  {
   "cell_type": "code",
   "execution_count": null,
   "metadata": {},
   "outputs": [],
   "source": [
    "# Plot the coefficient matrix as it is\n",
    "padded_coeff_matrix = coeff_matrix.get_padded_representation()\n",
    "fig = px.imshow(coeff_matrix.get_padded_representation(), animation_frame=0)\n",
    "\n",
    "fig.update_layout(title_text='DFT computed coefficient matrix for a rotated water molecule', title_x=0.5)\n",
    "fig.update_xaxes(title_text=\"Eigenvalues index\")\n",
    "fig.update_xaxes(\n",
    "    ticktext=np.arange(8),\n",
    "    tickvals=np.arange(8),\n",
    ")\n",
    "fig.update_yaxes(\n",
    "    ticktext=5*[\"s\"] + 15*[\"p\"],\n",
    "    tickvals=np.arange(20),\n",
    ")\n",
    "fig.show()"
   ]
  },
  {
   "cell_type": "code",
   "execution_count": null,
   "metadata": {},
   "outputs": [],
   "source": [
    "# Plot the padded coefficient matrix for each atom\n",
    "all_padded_coeff_matrices = []\n",
    "for atom_idx, atom in enumerate(coeff_matrix.molecule_graph.molecule):\n",
    "    padded_coeff_matrix = coeff_matrix.get_minimal_basis_representation_atom(atom_idx)\n",
    "    all_padded_coeff_matrices.append(padded_coeff_matrix)\n",
    "all_padded_coeff_matrices = np.array(all_padded_coeff_matrices)\n",
    "\n",
    "fig = px.imshow(all_padded_coeff_matrices, animation_frame=0) \n",
    "fig.update_yaxes(\n",
    "    ticktext=[\"s\", \"p\", \"p\", \"p\"],\n",
    "    tickvals=np.arange(4),\n",
    ")\n",
    "fig.update_xaxes(\n",
    "    ticktext=[],\n",
    "    tickvals=[],\n",
    ")\n",
    "fig.show()"
   ]
  },
  {
   "cell_type": "code",
   "execution_count": null,
   "metadata": {},
   "outputs": [],
   "source": []
  }
 ],
 "metadata": {
  "kernelspec": {
   "display_name": "molml",
   "language": "python",
   "name": "python3"
  },
  "language_info": {
   "codemirror_mode": {
    "name": "ipython",
    "version": 3
   },
   "file_extension": ".py",
   "mimetype": "text/x-python",
   "name": "python",
   "nbconvert_exporter": "python",
   "pygments_lexer": "ipython3",
   "version": "3.9.15"
  },
  "vscode": {
   "interpreter": {
    "hash": "c0de598c4e13c0bc0daa0f1515205270a88f8656cf701de288f6c6743b0ef60d"
   }
  }
 },
 "nbformat": 4,
 "nbformat_minor": 2
}
