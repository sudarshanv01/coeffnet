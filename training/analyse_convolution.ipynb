{
 "cells": [
  {
   "cell_type": "code",
   "execution_count": 47,
   "metadata": {},
   "outputs": [],
   "source": [
    "import torch\n",
    "import e3nn\n",
    "from minimal_basis.model.model_hamiltonian import generate_equi_rep_from_matrix\n",
    "import matplotlib.pyplot as plt\n",
    "from torch_cluster import radius_graph\n",
    "from torch_scatter import scatter\n",
    "from e3nn.math import soft_one_hot_linspace"
   ]
  },
  {
   "cell_type": "code",
   "execution_count": 12,
   "metadata": {},
   "outputs": [
    {
     "name": "stdout",
     "output_type": "stream",
     "text": [
      "Number of atoms: 10\n",
      "Number of bonds: 22\n"
     ]
    }
   ],
   "source": [
    "# Create an arbitrary atom with some atoms and bonds\n",
    "num_nodes = 10\n",
    "pos = torch.randn(num_nodes, 3)\n",
    "max_radius = 1.8\n",
    "row, col = radius_graph(pos, max_radius, max_num_neighbors=num_nodes - 1)\n",
    "edge_vec = pos[row] - pos[col]\n",
    "print(f\"Number of atoms: {pos.shape[0]}\")\n",
    "print(f\"Number of bonds: {row.shape[0]}\")"
   ]
  },
  {
   "cell_type": "code",
   "execution_count": 37,
   "metadata": {},
   "outputs": [
    {
     "name": "stdout",
     "output_type": "stream",
     "text": [
      "Dimensions of the input node features: torch.Size([10, 2, 45])\n",
      "Dimensions of the input edge features: torch.Size([22, 2, 45])\n",
      "Dimension of the input irreps: 45\n",
      "Dimension of the output irreps: 291\n"
     ]
    }
   ],
   "source": [
    "# Create the node and edge feature matrices as an alias for the Hamiltonian \n",
    "# for the atomistic system\n",
    "node_features_matrix = torch.randn(num_nodes, 2, 9, 9)\n",
    "node_features_matrix_matrix = (node_features_matrix + node_features_matrix.transpose(3, 2)) / 2\n",
    "edge_features_matrix = torch.randn(row.shape[0], 2, 9, 9)\n",
    "edge_features_matrix = (edge_features_matrix + edge_features_matrix.transpose(3, 2)) / 2 \n",
    "\n",
    "# Generate the representation fit for the model\n",
    "node_features = generate_equi_rep_from_matrix(node_features_matrix)\n",
    "edge_features = generate_equi_rep_from_matrix(edge_features_matrix)\n",
    "\n",
    "# Irreps of the input are determined by construction\n",
    "irreps_in = e3nn.o3.Irreps(\"1x0e+1x2e+1x4e+1x6e+1x8e\")\n",
    "irreps_out = e3nn.o3.Irreps(\"5x0e+4x1e+12x2e+10x3e+16x4e\")\n",
    "print(f\"Dimensions of the input node features: {node_features.shape}\")\n",
    "print(f\"Dimensions of the input edge features: {edge_features.shape}\")\n",
    "print(f\"Dimension of the input irreps: {irreps_in.dim}\")\n",
    "print(f\"Dimension of the output irreps: {irreps_out.dim}\")"
   ]
  },
  {
   "attachments": {},
   "cell_type": "markdown",
   "metadata": {},
   "source": [
    "For any random input graph, generate the output from a node ($f_i^\\prime$) as,\n",
    "\n",
    "$$\n",
    "f_i^\\prime = \\sum_{\\sigma=\\{\\uparrow, \\downarrow\\}}\\frac{1}{\\sqrt{z}} \\sum_{j \\in NN(i)} f_n^i \\otimes h\\left( ||x_{ij}|| \\right) f_e^i\n",
    "$$"
   ]
  },
  {
   "cell_type": "code",
   "execution_count": 14,
   "metadata": {},
   "outputs": [
    {
     "name": "stdout",
     "output_type": "stream",
     "text": [
      "Weights required by the tensor product: 541\n"
     ]
    },
    {
     "name": "stderr",
     "output_type": "stream",
     "text": [
      "/Users/sudarshanvijay/miniconda3/envs/molml/lib/python3.9/site-packages/torch/jit/_check.py:181: UserWarning: The TorchScript type system doesn't support instance-level annotations on empty non-base types in `__init__`. Instead, either 1) use a type annotation in the class body, or 2) wrap the type in `torch.jit.Attribute`.\n",
      "  warnings.warn(\"The TorchScript type system doesn't support \"\n"
     ]
    }
   ],
   "source": [
    "# Start by analysing the TensorProduct that we need to carry out\n",
    "tp = e3nn.o3.FullyConnectedTensorProduct(irreps_in, irreps_in, irreps_out, shared_weights=False)\n",
    "print(f\"Weights required by the tensor product: {tp.weight_numel}\")"
   ]
  },
  {
   "cell_type": "code",
   "execution_count": 32,
   "metadata": {},
   "outputs": [
    {
     "name": "stdout",
     "output_type": "stream",
     "text": [
      "Dimensions of the edge length embedding: torch.Size([22, 4])\n"
     ]
    },
    {
     "data": {
      "text/plain": [
       "Text(0.5, 0, 'Distance')"
      ]
     },
     "execution_count": 32,
     "metadata": {},
     "output_type": "execute_result"
    },
    {
     "data": {
      "image/png": "[encoded data removed]",
      "text/plain": [
       "<Figure size 432x288 with 1 Axes>"
      ]
     },
     "metadata": {
      "needs_background": "light"
     },
     "output_type": "display_data"
    }
   ],
   "source": [
    "# Embed the distance between any two nodes into h\n",
    "num_basis = 4\n",
    "edge_length_embedding = soft_one_hot_linspace(\n",
    "    edge_vec.norm(dim=1),\n",
    "    start=0.0,\n",
    "    end=max_radius,\n",
    "    number=num_basis,\n",
    "    basis='smooth_finite',\n",
    "    cutoff=True,\n",
    ")\n",
    "edge_length_embedding = edge_length_embedding.mul(num_basis**0.5)\n",
    "print(f\"Dimensions of the edge length embedding: {edge_length_embedding.shape}\")\n",
    "plt.plot( edge_vec.norm(dim=1), edge_length_embedding.detach().numpy(), 'o', color='k')\n",
    "\n",
    "# Plot a smooth version of the plot above\n",
    "plt.plot( torch.linspace(0, max_radius, 100), soft_one_hot_linspace(\n",
    "    torch.linspace(0, max_radius, 100),\n",
    "    start=0.0,\n",
    "    end=max_radius,\n",
    "    number=num_basis,\n",
    "    basis='smooth_finite',\n",
    "    cutoff=True,\n",
    ").mul(num_basis**0.5).detach().numpy(), ls='--')\n",
    "plt.ylabel(\"Embedding\")\n",
    "plt.xlabel(\"Distance\")"
   ]
  },
  {
   "cell_type": "code",
   "execution_count": 34,
   "metadata": {},
   "outputs": [
    {
     "name": "stdout",
     "output_type": "stream",
     "text": [
      "Dimensions of the weights from the embedding: torch.Size([22, 541])\n",
      "Mean of the weights from the embedding: 0.029150886461138725\n",
      "Standard deviation of the weights from the embedding: 0.6254556775093079\n"
     ]
    }
   ],
   "source": [
    "# Create a Fully Connected Network\n",
    "hidden_channels = 100\n",
    "fc = e3nn.nn.FullyConnectedNet(\n",
    "    [num_basis, hidden_channels, tp.weight_numel],\n",
    "    torch.relu\n",
    ")\n",
    "weights_from_embedding = fc(edge_length_embedding)\n",
    "print(f\"Dimensions of the weights from the embedding: {weights_from_embedding.shape}\")\n",
    "print(f\"Mean of the weights from the embedding: {weights_from_embedding.mean()}\")\n",
    "print(f\"Standard deviation of the weights from the embedding: {weights_from_embedding.std()}\")"
   ]
  },
  {
   "cell_type": "code",
   "execution_count": 46,
   "metadata": {},
   "outputs": [
    {
     "name": "stdout",
     "output_type": "stream",
     "text": [
      "Dimensions of the node features: torch.Size([22, 2, 45])\n",
      "Dimensions of the edge features: torch.Size([22, 2, 45])\n",
      "Dimensions of the weights from the embedding: torch.Size([22, 541])\n",
      "Dimensions of the summand up: torch.Size([22, 291])\n",
      "Dimensions of the summand down: torch.Size([22, 291])\n"
     ]
    }
   ],
   "source": [
    "# Take the tensor product between the nodes and features\n",
    "print(f\"Dimensions of the node features: {node_features[row].shape}\")\n",
    "print(f\"Dimensions of the edge features: {edge_features.shape}\")\n",
    "print(f\"Dimensions of the weights from the embedding: {weights_from_embedding.shape}\")\n",
    "summand_up = tp(node_features[row][:,0,:], edge_features[:,0,:], weights_from_embedding)\n",
    "summand_down = tp(node_features[row][:,1,:], edge_features[:,1,:], weights_from_embedding)\n",
    "print(f\"Dimensions of the summand up: {summand_up.shape}\")\n",
    "print(f\"Dimensions of the summand down: {summand_down.shape}\")"
   ]
  },
  {
   "cell_type": "code",
   "execution_count": 50,
   "metadata": {},
   "outputs": [
    {
     "name": "stdout",
     "output_type": "stream",
     "text": [
      "Dimensions of the output up: torch.Size([10, 291])\n",
      "Dimensions of the output down: torch.Size([10, 291])\n"
     ]
    }
   ],
   "source": [
    "# Scatter to the nearest neighbours\n",
    "f_out_up = scatter(summand_up, col, dim=0, dim_size=num_nodes)\n",
    "f_out_down = scatter(summand_down, col, dim=0, dim_size=num_nodes)\n",
    "print(f\"Dimensions of the output up: {f_out_up.shape}\")\n",
    "print(f\"Dimensions of the output down: {f_out_down.shape}\")"
   ]
  }
 ],
 "metadata": {
  "kernelspec": {
   "display_name": "molml",
   "language": "python",
   "name": "python3"
  },
  "language_info": {
   "codemirror_mode": {
    "name": "ipython",
    "version": 3
   },
   "file_extension": ".py",
   "mimetype": "text/x-python",
   "name": "python",
   "nbconvert_exporter": "python",
   "pygments_lexer": "ipython3",
   "version": "3.9.15"
  },
  "orig_nbformat": 4,
  "vscode": {
   "interpreter": {
    "hash": "c0de598c4e13c0bc0daa0f1515205270a88f8656cf701de288f6c6743b0ef60d"
   }
  }
 },
 "nbformat": 4,
 "nbformat_minor": 2
}
