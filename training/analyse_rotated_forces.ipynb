{
 "cells": [
  {
   "attachments": {},
   "cell_type": "markdown",
   "metadata": {},
   "source": [
    "## Rotation of the force vector\n",
    "\n",
    "Analyse how the force vector rotates based on the rotation of a water molecule computed in minimal basis."
   ]
  },
  {
   "cell_type": "code",
   "execution_count": null,
   "metadata": {},
   "outputs": [],
   "source": [
    "import numpy as np\n",
    "import plotly.express as px\n",
    "from instance_mongodb import instance_mongodb_sei\n",
    "\n",
    "from pymatgen.core.structure import Molecule\n",
    "\n",
    "import torch\n",
    "\n",
    "from monty.serialization import loadfn, dumpfn\n",
    "\n",
    "from e3nn import o3\n",
    "\n",
    "from utils import rotate_three_dimensions, subdiagonalize_matrix"
   ]
  },
  {
   "cell_type": "code",
   "execution_count": null,
   "metadata": {},
   "outputs": [],
   "source": [
    "db = instance_mongodb_sei(project=\"mlts\")\n",
    "collection = db.minimal_basis\n",
    "\n",
    "forces = []\n",
    "angles = []\n",
    "\n",
    "for doc in collection.find({'tags.group': 'rotated_water_molecules', 'orig.rem.basis': 'sto-3g', 'input.job_type': 'force'}):\n",
    "    _force = doc['output']['gradients']\n",
    "    forces.append(_force)\n",
    "    angles.append(doc['tags']['angles'])\n",
    "\n",
    "forces = np.array(forces)\n",
    "angles = np.array(angles)"
   ]
  },
  {
   "cell_type": "code",
   "execution_count": null,
   "metadata": {},
   "outputs": [],
   "source": [
    "# Plot the forces\n",
    "fig = px.imshow(\n",
    "    forces, animation_frame=0, labels=dict(x=\"Direction\", y=\"Atom\", color=\"Force (Ha/Bohr)\"),\n",
    ")\n",
    "fig.update_xaxes(ticktext=['x', 'y', 'z'], tickvals=[0, 1, 2])\n",
    "# Set integer ticks on the y-axis\n",
    "fig.update_yaxes(tickmode='array', tickvals=[0, 1, 2])\n",
    "fig.show()"
   ]
  },
  {
   "cell_type": "code",
   "execution_count": null,
   "metadata": {},
   "outputs": [],
   "source": [
    "irreps_hamiltonian = o3.Irreps('1x1o')\n",
    "\n",
    "D_matrices = []\n",
    "for idx, angle in enumerate(angles):\n",
    "    alpha, beta, gamma = angle\n",
    "\n",
    "    rotation_matrix = rotate_three_dimensions(alpha, beta, gamma)\n",
    "    rotation_matrix = torch.tensor(rotation_matrix)\n",
    "    if idx == 0:\n",
    "        rotation_matrix_0 = rotation_matrix\n",
    "\n",
    "    # Reference the rotation matrix to the first one\n",
    "    rotation_matrix = rotation_matrix @ rotation_matrix_0.T\n",
    "\n",
    "    D_matrix = irreps_hamiltonian.D_from_matrix(rotation_matrix)\n",
    "    D_matrices.append(D_matrix)\n",
    "\n",
    "D_matrices = torch.stack(D_matrices)\n",
    "# Convert to numpy array\n",
    "D_matrices = D_matrices.detach().numpy()\n",
    "\n",
    "fig = px.imshow(\n",
    "    D_matrices, animation_frame=0, labels=dict(x=\"Basis\", y=\"Basis\", color=\"Value\")\n",
    ")\n",
    "\n",
    "fig.update_layout(title_text='Wigner Matrix (D)', title_x=0.5)\n",
    "fig.show()"
   ]
  },
  {
   "cell_type": "code",
   "execution_count": null,
   "metadata": {},
   "outputs": [],
   "source": [
    "forces_rotated = []\n",
    "forces_computed = []\n",
    "all_data = []\n",
    "\n",
    "for i in range(len(angles)):\n",
    "    forces_computed.append(forces[i, 0, :])\n",
    "\n",
    "    force_rotated = forces[0, 0, :] @ D_matrices[i].T\n",
    "    forces_rotated.append(force_rotated)\n",
    "\n",
    "    difference = force_rotated - forces[i, 0, :]\n",
    "\n",
    "    all_data.append(np.stack([force_rotated, forces[i, 0, :], difference]))\n",
    "\n",
    "all_data = np.array(all_data)\n",
    "print(all_data.shape)\n",
    "# Plot with max and min values of -0.05 and 0.05\n",
    "fig = px.imshow(\n",
    "    all_data, animation_frame=0, labels=dict(x=\"Direction\", y=\"Atom\", color=\"Force (Ha/Bohr)\"),\n",
    "    range_color=[-0.05, 0.05]\n",
    ")\n",
    "fig.show()\n"
   ]
  }
 ],
 "metadata": {
  "kernelspec": {
   "display_name": "molml",
   "language": "python",
   "name": "python3"
  },
  "language_info": {
   "codemirror_mode": {
    "name": "ipython",
    "version": 3
   },
   "file_extension": ".py",
   "mimetype": "text/x-python",
   "name": "python",
   "nbconvert_exporter": "python",
   "pygments_lexer": "ipython3",
   "version": "3.9.15"
  },
  "vscode": {
   "interpreter": {
    "hash": "c0de598c4e13c0bc0daa0f1515205270a88f8656cf701de288f6c6743b0ef60d"
   }
  }
 },
 "nbformat": 4,
 "nbformat_minor": 2
}
