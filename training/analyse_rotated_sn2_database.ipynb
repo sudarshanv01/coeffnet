{
 "cells": [
  {
   "cell_type": "code",
   "execution_count": null,
   "metadata": {
    "slideshow": {
     "slide_type": "skip"
    }
   },
   "outputs": [],
   "source": [
    "import os\n",
    "import numpy as np\n",
    "from e3nn import o3\n",
    "from minimal_basis.dataset.dataset_hamiltonian import HamiltonianDataset\n",
    "from minimal_basis.model.model_hamiltonian import (\n",
    "    EquivariantConv,\n",
    "    SimpleHamiltonianModel,\n",
    ")\n",
    "import warnings\n",
    "import plotly.express as px\n",
    "import torch\n",
    "from torch_geometric.loader import DataLoader\n",
    "warnings.simplefilter(action='ignore', category=FutureWarning)\n",
    "warnings.simplefilter(action='ignore', category=UserWarning)"
   ]
  },
  {
   "cell_type": "markdown",
   "metadata": {
    "slideshow": {
     "slide_type": "slide"
    }
   },
   "source": [
    "# Features from the Hamiltonian for chemical reactions\n",
    "\n",
    "Looking at a single reaction which has been rotated 20 different times. Ideally our features must encode these atomic interactions while doing away with the rotation dependence."
   ]
  },
  {
   "cell_type": "code",
   "execution_count": null,
   "metadata": {
    "slideshow": {
     "slide_type": "skip"
    }
   },
   "outputs": [],
   "source": [
    "dataset = HamiltonianDataset(\n",
    "    root=\"./output\",\n",
    "    filename=\"input_files/train_data_rotated_sn2.json\",\n",
    "    basis_file=\"input_files/sto-3g.json\",\n",
    ")"
   ]
  },
  {
   "cell_type": "code",
   "execution_count": null,
   "metadata": {
    "slideshow": {
     "slide_type": "subslide"
    }
   },
   "outputs": [],
   "source": [
    "fock_matrices = []\n",
    "overlap_matrices = []\n",
    "for input_data in dataset.input_data:\n",
    "    idx_init_state = input_data['state'].index('initial_state')\n",
    "    fock_matrices.append(input_data['fock_matrices'][idx_init_state][0])\n",
    "    overlap_matrices.append(input_data['overlap_matrices'][idx_init_state][0])\n",
    "fock_matrices = np.array(fock_matrices)\n",
    "overlap_matrices = np.array(overlap_matrices)\n",
    "# Visualise the fock and overlap matrices as heatmap animations\n",
    "\n",
    "fig = px.imshow(\n",
    "    fock_matrices,\n",
    "    animation_frame=0,\n",
    "    color_continuous_scale='RdBu',\n",
    "    range_color=(-1, 1),\n",
    "    title='Fock matrix',\n",
    "    labels={'x': 'Basis function', 'y': 'Basis function', 'animation_frame': 'Snapshot'},\n",
    ")\n",
    "fig.show()\n"
   ]
  },
  {
   "cell_type": "code",
   "execution_count": null,
   "metadata": {
    "slideshow": {
     "slide_type": "subslide"
    }
   },
   "outputs": [],
   "source": [
    "fig = px.imshow(\n",
    "    overlap_matrices,\n",
    "    animation_frame=0,\n",
    "    color_continuous_scale='RdBu',\n",
    "    range_color=(-1, 1),\n",
    "    title='Overlap matrix',\n",
    "    labels={'x': 'Basis function', 'y': 'Basis function', 'animation_frame': 'Snapshot'},\n",
    ")\n",
    "fig.show()"
   ]
  },
  {
   "cell_type": "code",
   "execution_count": null,
   "metadata": {
    "slideshow": {
     "slide_type": "skip"
    }
   },
   "outputs": [],
   "source": [
    "loader = DataLoader(dataset, batch_size=1, shuffle=False)"
   ]
  },
  {
   "cell_type": "code",
   "execution_count": null,
   "metadata": {
    "slideshow": {
     "slide_type": "skip"
    }
   },
   "outputs": [],
   "source": [
    "def rotate_three_dimensions(alpha, beta, gamma):\n",
    "    \"\"\"Rotate the molecule by arbitrary angles alpha\n",
    "    beta and gamma.\"\"\"\n",
    "    cos = np.cos\n",
    "    sin = np.sin\n",
    "\n",
    "    r_matrix = [\n",
    "        [\n",
    "            cos(alpha) * cos(beta),\n",
    "            cos(alpha) * sin(beta) * sin(gamma) - sin(alpha) * cos(gamma),\n",
    "            cos(alpha) * sin(beta) * cos(gamma) + sin(alpha) * sin(gamma),\n",
    "        ],\n",
    "        [\n",
    "            sin(alpha) * cos(beta),\n",
    "            sin(alpha) * sin(beta) * sin(gamma) + cos(alpha) * cos(gamma),\n",
    "            sin(alpha) * sin(beta) * cos(gamma) - cos(alpha) * sin(gamma),\n",
    "        ],\n",
    "        [-sin(beta), cos(beta) * sin(gamma), cos(beta) * cos(gamma)],\n",
    "    ]\n",
    "\n",
    "    r_matrix = np.array(r_matrix)\n",
    "\n",
    "    return r_matrix\n"
   ]
  },
  {
   "cell_type": "code",
   "execution_count": null,
   "metadata": {
    "slideshow": {
     "slide_type": "skip"
    }
   },
   "outputs": [],
   "source": [
    "node_features = []\n",
    "global_features = []\n",
    "angles = []\n",
    "irreps_fock_matrices = []\n",
    "minimal_fock_matrices = []\n",
    "\n",
    "for data in loader:\n",
    "    node_feature = data.x\n",
    "    node_feature = node_feature.detach().numpy()\n",
    "    node_features.append(node_feature)\n",
    "\n",
    "    dim_global_attr = data.irreps_minimal_basis[0].dim\n",
    "    irreps_fock_matrices.append(data.irreps_minimal_basis[0])\n",
    "\n",
    "    global_attr = data.global_attr\n",
    "    global_attr = global_attr.detach().numpy()\n",
    "    global_features.append(global_attr)\n",
    "\n",
    "    minimal_fock_matrix = data.minimal_fock_matrix['initial_state'] \n",
    "    minimal_fock_matrix = np.array(minimal_fock_matrix)\n",
    "    minimal_fock_matrices.append(minimal_fock_matrix)\n",
    "\n",
    "    angles.append(data.angles[0])\n",
    "\n",
    "node_features = np.array(node_features)\n",
    "global_features = np.array(global_features)\n",
    "global_features = global_features.reshape(-1, 1, global_features.shape[-1])\n",
    "angles = np.array(angles)\n",
    "minimal_fock_matrices = np.array(minimal_fock_matrices)"
   ]
  },
  {
   "cell_type": "code",
   "execution_count": null,
   "metadata": {
    "slideshow": {
     "slide_type": "skip"
    }
   },
   "outputs": [],
   "source": [
    "D_matrices = []\n",
    "\n",
    "for idx, angle in enumerate(angles):\n",
    "    alpha, beta, gamma = angle\n",
    "\n",
    "    irreps_fock = irreps_fock_matrices[idx]\n",
    "\n",
    "    rotation_matrix = rotate_three_dimensions(alpha, beta, gamma)\n",
    "    rotation_matrix = torch.tensor(rotation_matrix)\n",
    "\n",
    "    if idx == 0:\n",
    "        rotation_matrix_0 = rotation_matrix\n",
    "\n",
    "    # Reference the rotation matrix to the first one\n",
    "    rotation_matrix = rotation_matrix @ rotation_matrix_0.T\n",
    "\n",
    "    D_matrix = irreps_fock.D_from_matrix(rotation_matrix)\n",
    "    D_matrices.append(D_matrix)\n",
    "\n",
    "D_matrices = torch.stack(D_matrices)\n",
    "\n",
    "# Convert to numpy array\n",
    "D_matrices = D_matrices.detach().numpy()"
   ]
  },
  {
   "cell_type": "code",
   "execution_count": null,
   "metadata": {
    "slideshow": {
     "slide_type": "slide"
    }
   },
   "outputs": [],
   "source": [
    "minimal_fock_matrices_rotated = np.zeros_like(minimal_fock_matrices)\n",
    "\n",
    "for i in range(len(angles)):\n",
    "    minimal_fock_matrices_rotated[i, ...] =  D_matrices[i].T @ minimal_fock_matrices[0, ..., :, :] @ D_matrices[i].T\n",
    "\n",
    "minimal_fock_matrices_rotated_diff = minimal_fock_matrices - minimal_fock_matrices_rotated \n",
    "\n",
    "fig = px.imshow(\n",
    "    minimal_fock_matrices_rotated_diff[:, 0, 0, ...],\n",
    "    animation_frame=0,\n",
    "    labels=dict(x=\"Basis\", y=\"Basis\", color=\"Value\"),\n",
    "    range_color=[-1, 1],\n",
    "    title=\"Difference between the computed and rotated Fock matrix\"\n",
    ")\n",
    "fig.show()"
   ]
  },
  {
   "cell_type": "markdown",
   "metadata": {
    "slideshow": {
     "slide_type": "slide"
    }
   },
   "source": [
    "- **Node features**: The diagonal elements of the sub-diagonalised Hamiltonian matrix\n",
    "- **Edge features**: Bond lengths of the _z_-matrix interpolated transition state structures\n",
    "- **Global features**: Eigenvalues of the minimal basis representation of the Hamiltonian matrix"
   ]
  },
  {
   "cell_type": "code",
   "execution_count": null,
   "metadata": {
    "slideshow": {
     "slide_type": "subslide"
    }
   },
   "outputs": [],
   "source": [
    "fig = px.imshow(\n",
    "    node_features,\n",
    "    animation_frame=0,\n",
    "    color_continuous_scale='RdBu',\n",
    "    title='Node features',\n",
    "    labels={'x': 'Dimension of Irreducible Representation', 'y': 'Node feature', 'animation_frame': 'Snapshot'},\n",
    ")\n",
    "fig.show()"
   ]
  },
  {
   "cell_type": "code",
   "execution_count": null,
   "metadata": {
    "slideshow": {
     "slide_type": "subslide"
    }
   },
   "outputs": [],
   "source": [
    "# Plot the global attribute for the first spin\n",
    "fig = px.imshow(\n",
    "    global_features,\n",
    "    animation_frame=0,\n",
    "    color_continuous_scale='RdBu',\n",
    "    title='Global Features',\n",
    "    range_color=(-1, 1),\n",
    "    labels={'x': '(Minimal) Basis function', 'animation_frame': 'Snapshot'},\n",
    ")\n",
    "fig.update_yaxes(showticklabels=False)\n",
    "fig.show()"
   ]
  },
  {
   "cell_type": "markdown",
   "metadata": {},
   "source": [
    "## Simple model\n",
    "\n",
    "For each node and global attribute, generate the following model:\n",
    "\n",
    "- Take the tensor product between the features of the reactants and products\n",
    "- Parameterise the weights of these tensor products by the bond lengths of the _interpolated_ transition state structure\n",
    "\n",
    "$$\n",
    "f_{\\mathrm{output}} = \\frac{1}{\\mathrm{norm}} f_{i} \\otimes h\\left (||x_{ij}|| \\right ) f_j\n",
    "$$"
   ]
  },
  {
   "cell_type": "code",
   "execution_count": null,
   "metadata": {},
   "outputs": [],
   "source": [
    "irreps_in = o3.Irreps(f\"{dataset[0].irreps_node_features.dim}x0e\")\n",
    "irreps_out = o3.Irreps(\"20x0e\") \n",
    "\n",
    "rot = o3.rand_matrix()\n",
    "D_in = irreps_in.D_from_matrix(rot)\n",
    "D_out = irreps_out.D_from_matrix(rot)\n",
    "D_out = D_out.detach().numpy()\n",
    "\n",
    "conv = EquivariantConv(\n",
    "    irreps_in=irreps_in,\n",
    "    irreps_out=irreps_out,\n",
    "    hidden_layers=64,\n",
    "    num_basis=10,\n",
    "    max_radius=4.0,\n",
    ")\n",
    "equivart_output_model = []\n",
    "equivart_rotated_output_model = []\n",
    "\n",
    "for idx, data in enumerate(loader):\n",
    "    output = conv(\n",
    "        data.x,\n",
    "        data.x_final_state,\n",
    "        data.edge_index_interpolated_TS,\n",
    "        data.pos_interpolated_TS,\n",
    "    )\n",
    "    equivart_output_model.append(output.detach().numpy())\n",
    "    rotated_output = conv(\n",
    "        data.x @ D_in.T,\n",
    "        data.x_final_state @ D_in.T,\n",
    "        data.edge_index_interpolated_TS,\n",
    "        data.pos_interpolated_TS @ rot.T,\n",
    "    )\n",
    "    equivart_rotated_output_model.append(rotated_output.detach().numpy())\n",
    "\n",
    "equivart_output_model = np.array(equivart_output_model)\n",
    "equivart_rotated_output_model = np.array(equivart_rotated_output_model)\n",
    "\n",
    "# Plot the output of the equivariant model\n",
    "fig = px.imshow(\n",
    "    equivart_output_model,\n",
    "    animation_frame=0,\n",
    "    color_continuous_scale='RdBu',\n",
    "    title='Output of the equivariant model',\n",
    "    labels={'x': 'Dimension of Irreducible Representation', 'y': 'Node feature', 'animation_frame': 'Snapshot'},\n",
    ")\n",
    "fig.show()\n"
   ]
  },
  {
   "cell_type": "code",
   "execution_count": null,
   "metadata": {},
   "outputs": [],
   "source": [
    "# Perform the rotation of the outputs\n",
    "rotated_equivart_output_model = equivart_output_model[:, ...] @ D_out.T \n",
    "\n",
    "# Subtract the rotated output from the original output\n",
    "equivart_output_model_diff = equivart_output_model - rotated_equivart_output_model\n",
    "\n",
    "# Plot the difference between the original and rotated output\n",
    "fig = px.imshow(\n",
    "    equivart_output_model_diff,\n",
    "    animation_frame=0,\n",
    "    color_continuous_scale='RdBu',\n",
    "    title='Difference between the original and rotated output of the equivariant model',\n",
    "    labels={'x': 'Dimension of Irreducible Representation', 'y': 'Node feature', 'animation_frame': 'Snapshot'},\n",
    ")\n",
    "fig.show()"
   ]
  },
  {
   "cell_type": "code",
   "execution_count": null,
   "metadata": {},
   "outputs": [],
   "source": [
    "# Create the SimpleHamiltonianModel and see the output\n",
    "\n",
    "model = SimpleHamiltonianModel(\n",
    "    irreps_in=irreps_in,\n",
    "    irreps_intermediate=irreps_out,\n",
    "    hidden_layers=64,\n",
    "    num_basis=10,\n",
    "    max_radius=4.0,\n",
    ")\n",
    "\n",
    "for data in loader:\n",
    "    output = model(data)\n",
    "    print(output)"
   ]
  },
  {
   "cell_type": "code",
   "execution_count": null,
   "metadata": {},
   "outputs": [],
   "source": []
  }
 ],
 "metadata": {
  "celltoolbar": "Slideshow",
  "kernelspec": {
   "display_name": "molml",
   "language": "python",
   "name": "python3"
  },
  "language_info": {
   "codemirror_mode": {
    "name": "ipython",
    "version": 3
   },
   "file_extension": ".py",
   "mimetype": "text/x-python",
   "name": "python",
   "nbconvert_exporter": "python",
   "pygments_lexer": "ipython3",
   "version": "3.9.15"
  },
  "vscode": {
   "interpreter": {
    "hash": "c0de598c4e13c0bc0daa0f1515205270a88f8656cf701de288f6c6743b0ef60d"
   }
  }
 },
 "nbformat": 4,
 "nbformat_minor": 2
}
