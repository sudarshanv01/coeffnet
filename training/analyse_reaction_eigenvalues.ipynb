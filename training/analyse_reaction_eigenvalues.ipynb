{
 "cells": [
  {
   "cell_type": "code",
   "execution_count": 7,
   "metadata": {},
   "outputs": [],
   "source": [
    "import random\n",
    "\n",
    "from pathlib import Path\n",
    "\n",
    "import numpy as np\n",
    "\n",
    "import plotly.express as px\n",
    "\n",
    "from pymatgen.core.structure import Molecule\n",
    "from pymatgen.analysis.local_env import OpenBabelNN\n",
    "from pymatgen.analysis.graphs import MoleculeGraph\n",
    "\n",
    "import pandas as pd\n",
    "\n",
    "import matplotlib.pyplot as plt\n",
    "import matplotlib as mpl\n",
    "mpl.rcParams['figure.dpi']= 150\n",
    "\n",
    "from minimal_basis.data.data_reaction import CoefficientMatrix, ModifiedCoefficientMatrix\n",
    "\n",
    "from instance_mongodb import instance_mongodb_sei\n",
    "\n",
    "from monty.serialization import loadfn, dumpfn\n",
    "\n",
    "\n",
    "basis_set = loadfn( Path(\"input_files\") / \"sto-3g.json\")"
   ]
  },
  {
   "cell_type": "code",
   "execution_count": 28,
   "metadata": {},
   "outputs": [
    {
     "data": {
      "application/vnd.plotly.v1+json": {
       "config": {
        "plotlyServerURL": "https://plot.ly"
       },
       "data": [
        {
         "coloraxis": "coloraxis",
         "hovertemplate": "x: %{x}<br>y: %{y}<br>color: %{z}<extra></extra>",
         "name": "0",
         "type": "heatmap",
         "xaxis": "x",
         "yaxis": "y",
         "z": [
          [
           0.1264244
          ],
          [
           0.0228917
          ],
          [
           0.0386285
          ],
          [
           0.0062467
          ]
         ]
        }
       ],
       "frames": [
        {
         "data": [
          {
           "coloraxis": "coloraxis",
           "name": "0",
           "type": "heatmap",
           "z": [
            [
             0.1264244
            ],
            [
             0.0228917
            ],
            [
             0.0386285
            ],
            [
             0.0062467
            ]
           ]
          }
         ],
         "layout": {
          "coloraxis": {
           "cmax": 0.1,
           "cmin": 0,
           "colorscale": [
            [
             0,
             "rgb(5,48,97)"
            ],
            [
             0.1,
             "rgb(33,102,172)"
            ],
            [
             0.2,
             "rgb(67,147,195)"
            ],
            [
             0.3,
             "rgb(146,197,222)"
            ],
            [
             0.4,
             "rgb(209,229,240)"
            ],
            [
             0.5,
             "rgb(247,247,247)"
            ],
            [
             0.6,
             "rgb(253,219,199)"
            ],
            [
             0.7,
             "rgb(244,165,130)"
            ],
            [
             0.8,
             "rgb(214,96,77)"
            ],
            [
             0.9,
             "rgb(178,24,43)"
            ],
            [
             1,
             "rgb(103,0,31)"
            ]
           ]
          },
          "margin": {
           "t": 60
          },
          "xaxis": {
           "constrain": "domain",
           "scaleanchor": "y"
          },
          "yaxis": {
           "autorange": "reversed",
           "constrain": "domain"
          }
         },
         "name": "0"
        },
        {
         "data": [
          {
           "coloraxis": "coloraxis",
           "name": "1",
           "type": "heatmap",
           "z": [
            [
             0.1318782
            ],
            [
             0.0415954
            ],
            [
             0.0428851
            ],
            [
             0.0079487
            ]
           ]
          }
         ],
         "layout": {
          "coloraxis": {
           "cmax": 0.1,
           "cmin": 0,
           "colorscale": [
            [
             0,
             "rgb(5,48,97)"
            ],
            [
             0.1,
             "rgb(33,102,172)"
            ],
            [
             0.2,
             "rgb(67,147,195)"
            ],
            [
             0.3,
             "rgb(146,197,222)"
            ],
            [
             0.4,
             "rgb(209,229,240)"
            ],
            [
             0.5,
             "rgb(247,247,247)"
            ],
            [
             0.6,
             "rgb(253,219,199)"
            ],
            [
             0.7,
             "rgb(244,165,130)"
            ],
            [
             0.8,
             "rgb(214,96,77)"
            ],
            [
             0.9,
             "rgb(178,24,43)"
            ],
            [
             1,
             "rgb(103,0,31)"
            ]
           ]
          },
          "margin": {
           "t": 60
          },
          "xaxis": {
           "constrain": "domain",
           "scaleanchor": "y"
          },
          "yaxis": {
           "autorange": "reversed",
           "constrain": "domain"
          }
         },
         "name": "1"
        },
        {
         "data": [
          {
           "coloraxis": "coloraxis",
           "name": "2",
           "type": "heatmap",
           "z": [
            [
             0.134566
            ],
            [
             0.0486103
            ],
            [
             0.0472802
            ],
            [
             0.0091875
            ]
           ]
          }
         ],
         "layout": {
          "coloraxis": {
           "cmax": 0.1,
           "cmin": 0,
           "colorscale": [
            [
             0,
             "rgb(5,48,97)"
            ],
            [
             0.1,
             "rgb(33,102,172)"
            ],
            [
             0.2,
             "rgb(67,147,195)"
            ],
            [
             0.3,
             "rgb(146,197,222)"
            ],
            [
             0.4,
             "rgb(209,229,240)"
            ],
            [
             0.5,
             "rgb(247,247,247)"
            ],
            [
             0.6,
             "rgb(253,219,199)"
            ],
            [
             0.7,
             "rgb(244,165,130)"
            ],
            [
             0.8,
             "rgb(214,96,77)"
            ],
            [
             0.9,
             "rgb(178,24,43)"
            ],
            [
             1,
             "rgb(103,0,31)"
            ]
           ]
          },
          "margin": {
           "t": 60
          },
          "xaxis": {
           "constrain": "domain",
           "scaleanchor": "y"
          },
          "yaxis": {
           "autorange": "reversed",
           "constrain": "domain"
          }
         },
         "name": "2"
        },
        {
         "data": [
          {
           "coloraxis": "coloraxis",
           "name": "3",
           "type": "heatmap",
           "z": [
            [
             0.1434259
            ],
            [
             0.0378453
            ],
            [
             0.0469658
            ],
            [
             0.0073235
            ]
           ]
          }
         ],
         "layout": {
          "coloraxis": {
           "cmax": 0.1,
           "cmin": 0,
           "colorscale": [
            [
             0,
             "rgb(5,48,97)"
            ],
            [
             0.1,
             "rgb(33,102,172)"
            ],
            [
             0.2,
             "rgb(67,147,195)"
            ],
            [
             0.3,
             "rgb(146,197,222)"
            ],
            [
             0.4,
             "rgb(209,229,240)"
            ],
            [
             0.5,
             "rgb(247,247,247)"
            ],
            [
             0.6,
             "rgb(253,219,199)"
            ],
            [
             0.7,
             "rgb(244,165,130)"
            ],
            [
             0.8,
             "rgb(214,96,77)"
            ],
            [
             0.9,
             "rgb(178,24,43)"
            ],
            [
             1,
             "rgb(103,0,31)"
            ]
           ]
          },
          "margin": {
           "t": 60
          },
          "xaxis": {
           "constrain": "domain",
           "scaleanchor": "y"
          },
          "yaxis": {
           "autorange": "reversed",
           "constrain": "domain"
          }
         },
         "name": "3"
        },
        {
         "data": [
          {
           "coloraxis": "coloraxis",
           "name": "4",
           "type": "heatmap",
           "z": [
            [
             0.1452568
            ],
            [
             0.005443
            ],
            [
             0.0510603
            ],
            [
             0.0075032
            ]
           ]
          }
         ],
         "layout": {
          "coloraxis": {
           "cmax": 0.1,
           "cmin": 0,
           "colorscale": [
            [
             0,
             "rgb(5,48,97)"
            ],
            [
             0.1,
             "rgb(33,102,172)"
            ],
            [
             0.2,
             "rgb(67,147,195)"
            ],
            [
             0.3,
             "rgb(146,197,222)"
            ],
            [
             0.4,
             "rgb(209,229,240)"
            ],
            [
             0.5,
             "rgb(247,247,247)"
            ],
            [
             0.6,
             "rgb(253,219,199)"
            ],
            [
             0.7,
             "rgb(244,165,130)"
            ],
            [
             0.8,
             "rgb(214,96,77)"
            ],
            [
             0.9,
             "rgb(178,24,43)"
            ],
            [
             1,
             "rgb(103,0,31)"
            ]
           ]
          },
          "margin": {
           "t": 60
          },
          "xaxis": {
           "constrain": "domain",
           "scaleanchor": "y"
          },
          "yaxis": {
           "autorange": "reversed",
           "constrain": "domain"
          }
         },
         "name": "4"
        },
        {
         "data": [
          {
           "coloraxis": "coloraxis",
           "name": "5",
           "type": "heatmap",
           "z": [
            [
             0.1345496
            ],
            [
             0.0139134
            ],
            [
             0.057203
            ],
            [
             0.012671
            ]
           ]
          }
         ],
         "layout": {
          "coloraxis": {
           "cmax": 0.1,
           "cmin": 0,
           "colorscale": [
            [
             0,
             "rgb(5,48,97)"
            ],
            [
             0.1,
             "rgb(33,102,172)"
            ],
            [
             0.2,
             "rgb(67,147,195)"
            ],
            [
             0.3,
             "rgb(146,197,222)"
            ],
            [
             0.4,
             "rgb(209,229,240)"
            ],
            [
             0.5,
             "rgb(247,247,247)"
            ],
            [
             0.6,
             "rgb(253,219,199)"
            ],
            [
             0.7,
             "rgb(244,165,130)"
            ],
            [
             0.8,
             "rgb(214,96,77)"
            ],
            [
             0.9,
             "rgb(178,24,43)"
            ],
            [
             1,
             "rgb(103,0,31)"
            ]
           ]
          },
          "margin": {
           "t": 60
          },
          "xaxis": {
           "constrain": "domain",
           "scaleanchor": "y"
          },
          "yaxis": {
           "autorange": "reversed",
           "constrain": "domain"
          }
         },
         "name": "5"
        },
        {
         "data": [
          {
           "coloraxis": "coloraxis",
           "name": "6",
           "type": "heatmap",
           "z": [
            [
             0.1228589
            ],
            [
             0.0107464
            ],
            [
             0.057774
            ],
            [
             0.0172398
            ]
           ]
          }
         ],
         "layout": {
          "coloraxis": {
           "cmax": 0.1,
           "cmin": 0,
           "colorscale": [
            [
             0,
             "rgb(5,48,97)"
            ],
            [
             0.1,
             "rgb(33,102,172)"
            ],
            [
             0.2,
             "rgb(67,147,195)"
            ],
            [
             0.3,
             "rgb(146,197,222)"
            ],
            [
             0.4,
             "rgb(209,229,240)"
            ],
            [
             0.5,
             "rgb(247,247,247)"
            ],
            [
             0.6,
             "rgb(253,219,199)"
            ],
            [
             0.7,
             "rgb(244,165,130)"
            ],
            [
             0.8,
             "rgb(214,96,77)"
            ],
            [
             0.9,
             "rgb(178,24,43)"
            ],
            [
             1,
             "rgb(103,0,31)"
            ]
           ]
          },
          "margin": {
           "t": 60
          },
          "xaxis": {
           "constrain": "domain",
           "scaleanchor": "y"
          },
          "yaxis": {
           "autorange": "reversed",
           "constrain": "domain"
          }
         },
         "name": "6"
        },
        {
         "data": [
          {
           "coloraxis": "coloraxis",
           "name": "7",
           "type": "heatmap",
           "z": [
            [
             0.11739229999999999
            ],
            [
             0.0016264
            ],
            [
             0.054179
            ],
            [
             0.0196593
            ]
           ]
          }
         ],
         "layout": {
          "coloraxis": {
           "cmax": 0.1,
           "cmin": 0,
           "colorscale": [
            [
             0,
             "rgb(5,48,97)"
            ],
            [
             0.1,
             "rgb(33,102,172)"
            ],
            [
             0.2,
             "rgb(67,147,195)"
            ],
            [
             0.3,
             "rgb(146,197,222)"
            ],
            [
             0.4,
             "rgb(209,229,240)"
            ],
            [
             0.5,
             "rgb(247,247,247)"
            ],
            [
             0.6,
             "rgb(253,219,199)"
            ],
            [
             0.7,
             "rgb(244,165,130)"
            ],
            [
             0.8,
             "rgb(214,96,77)"
            ],
            [
             0.9,
             "rgb(178,24,43)"
            ],
            [
             1,
             "rgb(103,0,31)"
            ]
           ]
          },
          "margin": {
           "t": 60
          },
          "xaxis": {
           "constrain": "domain",
           "scaleanchor": "y"
          },
          "yaxis": {
           "autorange": "reversed",
           "constrain": "domain"
          }
         },
         "name": "7"
        },
        {
         "data": [
          {
           "coloraxis": "coloraxis",
           "name": "8",
           "type": "heatmap",
           "z": [
            [
             0.1128922
            ],
            [
             0.0190058
            ],
            [
             0.049728
            ],
            [
             0.0221773
            ]
           ]
          }
         ],
         "layout": {
          "coloraxis": {
           "cmax": 0.1,
           "cmin": 0,
           "colorscale": [
            [
             0,
             "rgb(5,48,97)"
            ],
            [
             0.1,
             "rgb(33,102,172)"
            ],
            [
             0.2,
             "rgb(67,147,195)"
            ],
            [
             0.3,
             "rgb(146,197,222)"
            ],
            [
             0.4,
             "rgb(209,229,240)"
            ],
            [
             0.5,
             "rgb(247,247,247)"
            ],
            [
             0.6,
             "rgb(253,219,199)"
            ],
            [
             0.7,
             "rgb(244,165,130)"
            ],
            [
             0.8,
             "rgb(214,96,77)"
            ],
            [
             0.9,
             "rgb(178,24,43)"
            ],
            [
             1,
             "rgb(103,0,31)"
            ]
           ]
          },
          "margin": {
           "t": 60
          },
          "xaxis": {
           "constrain": "domain",
           "scaleanchor": "y"
          },
          "yaxis": {
           "autorange": "reversed",
           "constrain": "domain"
          }
         },
         "name": "8"
        },
        {
         "data": [
          {
           "coloraxis": "coloraxis",
           "name": "9",
           "type": "heatmap",
           "z": [
            [
             0.1056757
            ],
            [
             0.03822
            ],
            [
             0.0465189
            ],
            [
             0.0254853
            ]
           ]
          }
         ],
         "layout": {
          "coloraxis": {
           "cmax": 0.1,
           "cmin": 0,
           "colorscale": [
            [
             0,
             "rgb(5,48,97)"
            ],
            [
             0.1,
             "rgb(33,102,172)"
            ],
            [
             0.2,
             "rgb(67,147,195)"
            ],
            [
             0.3,
             "rgb(146,197,222)"
            ],
            [
             0.4,
             "rgb(209,229,240)"
            ],
            [
             0.5,
             "rgb(247,247,247)"
            ],
            [
             0.6,
             "rgb(253,219,199)"
            ],
            [
             0.7,
             "rgb(244,165,130)"
            ],
            [
             0.8,
             "rgb(214,96,77)"
            ],
            [
             0.9,
             "rgb(178,24,43)"
            ],
            [
             1,
             "rgb(103,0,31)"
            ]
           ]
          },
          "margin": {
           "t": 60
          },
          "xaxis": {
           "constrain": "domain",
           "scaleanchor": "y"
          },
          "yaxis": {
           "autorange": "reversed",
           "constrain": "domain"
          }
         },
         "name": "9"
        },
        {
         "data": [
          {
           "coloraxis": "coloraxis",
           "name": "10",
           "type": "heatmap",
           "z": [
            [
             0.0955561
            ],
            [
             0.0557828
            ],
            [
             0.0458519
            ],
            [
             0.0301585
            ]
           ]
          }
         ],
         "layout": {
          "coloraxis": {
           "cmax": 0.1,
           "cmin": 0,
           "colorscale": [
            [
             0,
             "rgb(5,48,97)"
            ],
            [
             0.1,
             "rgb(33,102,172)"
            ],
            [
             0.2,
             "rgb(67,147,195)"
            ],
            [
             0.3,
             "rgb(146,197,222)"
            ],
            [
             0.4,
             "rgb(209,229,240)"
            ],
            [
             0.5,
             "rgb(247,247,247)"
            ],
            [
             0.6,
             "rgb(253,219,199)"
            ],
            [
             0.7,
             "rgb(244,165,130)"
            ],
            [
             0.8,
             "rgb(214,96,77)"
            ],
            [
             0.9,
             "rgb(178,24,43)"
            ],
            [
             1,
             "rgb(103,0,31)"
            ]
           ]
          },
          "margin": {
           "t": 60
          },
          "xaxis": {
           "constrain": "domain",
           "scaleanchor": "y"
          },
          "yaxis": {
           "autorange": "reversed",
           "constrain": "domain"
          }
         },
         "name": "10"
        }
       ],
       "layout": {
        "coloraxis": {
         "cmax": 0.1,
         "cmin": 0,
         "colorscale": [
          [
           0,
           "rgb(5,48,97)"
          ],
          [
           0.1,
           "rgb(33,102,172)"
          ],
          [
           0.2,
           "rgb(67,147,195)"
          ],
          [
           0.3,
           "rgb(146,197,222)"
          ],
          [
           0.4,
           "rgb(209,229,240)"
          ],
          [
           0.5,
           "rgb(247,247,247)"
          ],
          [
           0.6,
           "rgb(253,219,199)"
          ],
          [
           0.7,
           "rgb(244,165,130)"
          ],
          [
           0.8,
           "rgb(214,96,77)"
          ],
          [
           0.9,
           "rgb(178,24,43)"
          ],
          [
           1,
           "rgb(103,0,31)"
          ]
         ]
        },
        "margin": {
         "t": 60
        },
        "sliders": [
         {
          "active": 0,
          "currentvalue": {
           "prefix": "animation_frame="
          },
          "len": 0.9,
          "pad": {
           "b": 10,
           "t": 60
          },
          "steps": [
           {
            "args": [
             [
              "0"
             ],
             {
              "frame": {
               "duration": 0,
               "redraw": true
              },
              "fromcurrent": true,
              "mode": "immediate",
              "transition": {
               "duration": 0,
               "easing": "linear"
              }
             }
            ],
            "label": "0",
            "method": "animate"
           },
           {
            "args": [
             [
              "1"
             ],
             {
              "frame": {
               "duration": 0,
               "redraw": true
              },
              "fromcurrent": true,
              "mode": "immediate",
              "transition": {
               "duration": 0,
               "easing": "linear"
              }
             }
            ],
            "label": "1",
            "method": "animate"
           },
           {
            "args": [
             [
              "2"
             ],
             {
              "frame": {
               "duration": 0,
               "redraw": true
              },
              "fromcurrent": true,
              "mode": "immediate",
              "transition": {
               "duration": 0,
               "easing": "linear"
              }
             }
            ],
            "label": "2",
            "method": "animate"
           },
           {
            "args": [
             [
              "3"
             ],
             {
              "frame": {
               "duration": 0,
               "redraw": true
              },
              "fromcurrent": true,
              "mode": "immediate",
              "transition": {
               "duration": 0,
               "easing": "linear"
              }
             }
            ],
            "label": "3",
            "method": "animate"
           },
           {
            "args": [
             [
              "4"
             ],
             {
              "frame": {
               "duration": 0,
               "redraw": true
              },
              "fromcurrent": true,
              "mode": "immediate",
              "transition": {
               "duration": 0,
               "easing": "linear"
              }
             }
            ],
            "label": "4",
            "method": "animate"
           },
           {
            "args": [
             [
              "5"
             ],
             {
              "frame": {
               "duration": 0,
               "redraw": true
              },
              "fromcurrent": true,
              "mode": "immediate",
              "transition": {
               "duration": 0,
               "easing": "linear"
              }
             }
            ],
            "label": "5",
            "method": "animate"
           },
           {
            "args": [
             [
              "6"
             ],
             {
              "frame": {
               "duration": 0,
               "redraw": true
              },
              "fromcurrent": true,
              "mode": "immediate",
              "transition": {
               "duration": 0,
               "easing": "linear"
              }
             }
            ],
            "label": "6",
            "method": "animate"
           },
           {
            "args": [
             [
              "7"
             ],
             {
              "frame": {
               "duration": 0,
               "redraw": true
              },
              "fromcurrent": true,
              "mode": "immediate",
              "transition": {
               "duration": 0,
               "easing": "linear"
              }
             }
            ],
            "label": "7",
            "method": "animate"
           },
           {
            "args": [
             [
              "8"
             ],
             {
              "frame": {
               "duration": 0,
               "redraw": true
              },
              "fromcurrent": true,
              "mode": "immediate",
              "transition": {
               "duration": 0,
               "easing": "linear"
              }
             }
            ],
            "label": "8",
            "method": "animate"
           },
           {
            "args": [
             [
              "9"
             ],
             {
              "frame": {
               "duration": 0,
               "redraw": true
              },
              "fromcurrent": true,
              "mode": "immediate",
              "transition": {
               "duration": 0,
               "easing": "linear"
              }
             }
            ],
            "label": "9",
            "method": "animate"
           },
           {
            "args": [
             [
              "10"
             ],
             {
              "frame": {
               "duration": 0,
               "redraw": true
              },
              "fromcurrent": true,
              "mode": "immediate",
              "transition": {
               "duration": 0,
               "easing": "linear"
              }
             }
            ],
            "label": "10",
            "method": "animate"
           }
          ],
          "x": 0.1,
          "xanchor": "left",
          "y": 0,
          "yanchor": "top"
         }
        ],
        "template": {
         "data": {
          "bar": [
           {
            "error_x": {
             "color": "#2a3f5f"
            },
            "error_y": {
             "color": "#2a3f5f"
            },
            "marker": {
             "line": {
              "color": "#E5ECF6",
              "width": 0.5
             },
             "pattern": {
              "fillmode": "overlay",
              "size": 10,
              "solidity": 0.2
             }
            },
            "type": "bar"
           }
          ],
          "barpolar": [
           {
            "marker": {
             "line": {
              "color": "#E5ECF6",
              "width": 0.5
             },
             "pattern": {
              "fillmode": "overlay",
              "size": 10,
              "solidity": 0.2
             }
            },
            "type": "barpolar"
           }
          ],
          "carpet": [
           {
            "aaxis": {
             "endlinecolor": "#2a3f5f",
             "gridcolor": "white",
             "linecolor": "white",
             "minorgridcolor": "white",
             "startlinecolor": "#2a3f5f"
            },
            "baxis": {
             "endlinecolor": "#2a3f5f",
             "gridcolor": "white",
             "linecolor": "white",
             "minorgridcolor": "white",
             "startlinecolor": "#2a3f5f"
            },
            "type": "carpet"
           }
          ],
          "choropleth": [
           {
            "colorbar": {
             "outlinewidth": 0,
             "ticks": ""
            },
            "type": "choropleth"
           }
          ],
          "contour": [
           {
            "colorbar": {
             "outlinewidth": 0,
             "ticks": ""
            },
            "colorscale": [
             [
              0,
              "#0d0887"
             ],
             [
              0.1111111111111111,
              "#46039f"
             ],
             [
              0.2222222222222222,
              "#7201a8"
             ],
             [
              0.3333333333333333,
              "#9c179e"
             ],
             [
              0.4444444444444444,
              "#bd3786"
             ],
             [
              0.5555555555555556,
              "#d8576b"
             ],
             [
              0.6666666666666666,
              "#ed7953"
             ],
             [
              0.7777777777777778,
              "#fb9f3a"
             ],
             [
              0.8888888888888888,
              "#fdca26"
             ],
             [
              1,
              "#f0f921"
             ]
            ],
            "type": "contour"
           }
          ],
          "contourcarpet": [
           {
            "colorbar": {
             "outlinewidth": 0,
             "ticks": ""
            },
            "type": "contourcarpet"
           }
          ],
          "heatmap": [
           {
            "colorbar": {
             "outlinewidth": 0,
             "ticks": ""
            },
            "colorscale": [
             [
              0,
              "#0d0887"
             ],
             [
              0.1111111111111111,
              "#46039f"
             ],
             [
              0.2222222222222222,
              "#7201a8"
             ],
             [
              0.3333333333333333,
              "#9c179e"
             ],
             [
              0.4444444444444444,
              "#bd3786"
             ],
             [
              0.5555555555555556,
              "#d8576b"
             ],
             [
              0.6666666666666666,
              "#ed7953"
             ],
             [
              0.7777777777777778,
              "#fb9f3a"
             ],
             [
              0.8888888888888888,
              "#fdca26"
             ],
             [
              1,
              "#f0f921"
             ]
            ],
            "type": "heatmap"
           }
          ],
          "heatmapgl": [
           {
            "colorbar": {
             "outlinewidth": 0,
             "ticks": ""
            },
            "colorscale": [
             [
              0,
              "#0d0887"
             ],
             [
              0.1111111111111111,
              "#46039f"
             ],
             [
              0.2222222222222222,
              "#7201a8"
             ],
             [
              0.3333333333333333,
              "#9c179e"
             ],
             [
              0.4444444444444444,
              "#bd3786"
             ],
             [
              0.5555555555555556,
              "#d8576b"
             ],
             [
              0.6666666666666666,
              "#ed7953"
             ],
             [
              0.7777777777777778,
              "#fb9f3a"
             ],
             [
              0.8888888888888888,
              "#fdca26"
             ],
             [
              1,
              "#f0f921"
             ]
            ],
            "type": "heatmapgl"
           }
          ],
          "histogram": [
           {
            "marker": {
             "pattern": {
              "fillmode": "overlay",
              "size": 10,
              "solidity": 0.2
             }
            },
            "type": "histogram"
           }
          ],
          "histogram2d": [
           {
            "colorbar": {
             "outlinewidth": 0,
             "ticks": ""
            },
            "colorscale": [
             [
              0,
              "#0d0887"
             ],
             [
              0.1111111111111111,
              "#46039f"
             ],
             [
              0.2222222222222222,
              "#7201a8"
             ],
             [
              0.3333333333333333,
              "#9c179e"
             ],
             [
              0.4444444444444444,
              "#bd3786"
             ],
             [
              0.5555555555555556,
              "#d8576b"
             ],
             [
              0.6666666666666666,
              "#ed7953"
             ],
             [
              0.7777777777777778,
              "#fb9f3a"
             ],
             [
              0.8888888888888888,
              "#fdca26"
             ],
             [
              1,
              "#f0f921"
             ]
            ],
            "type": "histogram2d"
           }
          ],
          "histogram2dcontour": [
           {
            "colorbar": {
             "outlinewidth": 0,
             "ticks": ""
            },
            "colorscale": [
             [
              0,
              "#0d0887"
             ],
             [
              0.1111111111111111,
              "#46039f"
             ],
             [
              0.2222222222222222,
              "#7201a8"
             ],
             [
              0.3333333333333333,
              "#9c179e"
             ],
             [
              0.4444444444444444,
              "#bd3786"
             ],
             [
              0.5555555555555556,
              "#d8576b"
             ],
             [
              0.6666666666666666,
              "#ed7953"
             ],
             [
              0.7777777777777778,
              "#fb9f3a"
             ],
             [
              0.8888888888888888,
              "#fdca26"
             ],
             [
              1,
              "#f0f921"
             ]
            ],
            "type": "histogram2dcontour"
           }
          ],
          "mesh3d": [
           {
            "colorbar": {
             "outlinewidth": 0,
             "ticks": ""
            },
            "type": "mesh3d"
           }
          ],
          "parcoords": [
           {
            "line": {
             "colorbar": {
              "outlinewidth": 0,
              "ticks": ""
             }
            },
            "type": "parcoords"
           }
          ],
          "pie": [
           {
            "automargin": true,
            "type": "pie"
           }
          ],
          "scatter": [
           {
            "fillpattern": {
             "fillmode": "overlay",
             "size": 10,
             "solidity": 0.2
            },
            "type": "scatter"
           }
          ],
          "scatter3d": [
           {
            "line": {
             "colorbar": {
              "outlinewidth": 0,
              "ticks": ""
             }
            },
            "marker": {
             "colorbar": {
              "outlinewidth": 0,
              "ticks": ""
             }
            },
            "type": "scatter3d"
           }
          ],
          "scattercarpet": [
           {
            "marker": {
             "colorbar": {
              "outlinewidth": 0,
              "ticks": ""
             }
            },
            "type": "scattercarpet"
           }
          ],
          "scattergeo": [
           {
            "marker": {
             "colorbar": {
              "outlinewidth": 0,
              "ticks": ""
             }
            },
            "type": "scattergeo"
           }
          ],
          "scattergl": [
           {
            "marker": {
             "colorbar": {
              "outlinewidth": 0,
              "ticks": ""
             }
            },
            "type": "scattergl"
           }
          ],
          "scattermapbox": [
           {
            "marker": {
             "colorbar": {
              "outlinewidth": 0,
              "ticks": ""
             }
            },
            "type": "scattermapbox"
           }
          ],
          "scatterpolar": [
           {
            "marker": {
             "colorbar": {
              "outlinewidth": 0,
              "ticks": ""
             }
            },
            "type": "scatterpolar"
           }
          ],
          "scatterpolargl": [
           {
            "marker": {
             "colorbar": {
              "outlinewidth": 0,
              "ticks": ""
             }
            },
            "type": "scatterpolargl"
           }
          ],
          "scatterternary": [
           {
            "marker": {
             "colorbar": {
              "outlinewidth": 0,
              "ticks": ""
             }
            },
            "type": "scatterternary"
           }
          ],
          "surface": [
           {
            "colorbar": {
             "outlinewidth": 0,
             "ticks": ""
            },
            "colorscale": [
             [
              0,
              "#0d0887"
             ],
             [
              0.1111111111111111,
              "#46039f"
             ],
             [
              0.2222222222222222,
              "#7201a8"
             ],
             [
              0.3333333333333333,
              "#9c179e"
             ],
             [
              0.4444444444444444,
              "#bd3786"
             ],
             [
              0.5555555555555556,
              "#d8576b"
             ],
             [
              0.6666666666666666,
              "#ed7953"
             ],
             [
              0.7777777777777778,
              "#fb9f3a"
             ],
             [
              0.8888888888888888,
              "#fdca26"
             ],
             [
              1,
              "#f0f921"
             ]
            ],
            "type": "surface"
           }
          ],
          "table": [
           {
            "cells": {
             "fill": {
              "color": "#EBF0F8"
             },
             "line": {
              "color": "white"
             }
            },
            "header": {
             "fill": {
              "color": "#C8D4E3"
             },
             "line": {
              "color": "white"
             }
            },
            "type": "table"
           }
          ]
         },
         "layout": {
          "annotationdefaults": {
           "arrowcolor": "#2a3f5f",
           "arrowhead": 0,
           "arrowwidth": 1
          },
          "autotypenumbers": "strict",
          "coloraxis": {
           "colorbar": {
            "outlinewidth": 0,
            "ticks": ""
           }
          },
          "colorscale": {
           "diverging": [
            [
             0,
             "#8e0152"
            ],
            [
             0.1,
             "#c51b7d"
            ],
            [
             0.2,
             "#de77ae"
            ],
            [
             0.3,
             "#f1b6da"
            ],
            [
             0.4,
             "#fde0ef"
            ],
            [
             0.5,
             "#f7f7f7"
            ],
            [
             0.6,
             "#e6f5d0"
            ],
            [
             0.7,
             "#b8e186"
            ],
            [
             0.8,
             "#7fbc41"
            ],
            [
             0.9,
             "#4d9221"
            ],
            [
             1,
             "#276419"
            ]
           ],
           "sequential": [
            [
             0,
             "#0d0887"
            ],
            [
             0.1111111111111111,
             "#46039f"
            ],
            [
             0.2222222222222222,
             "#7201a8"
            ],
            [
             0.3333333333333333,
             "#9c179e"
            ],
            [
             0.4444444444444444,
             "#bd3786"
            ],
            [
             0.5555555555555556,
             "#d8576b"
            ],
            [
             0.6666666666666666,
             "#ed7953"
            ],
            [
             0.7777777777777778,
             "#fb9f3a"
            ],
            [
             0.8888888888888888,
             "#fdca26"
            ],
            [
             1,
             "#f0f921"
            ]
           ],
           "sequentialminus": [
            [
             0,
             "#0d0887"
            ],
            [
             0.1111111111111111,
             "#46039f"
            ],
            [
             0.2222222222222222,
             "#7201a8"
            ],
            [
             0.3333333333333333,
             "#9c179e"
            ],
            [
             0.4444444444444444,
             "#bd3786"
            ],
            [
             0.5555555555555556,
             "#d8576b"
            ],
            [
             0.6666666666666666,
             "#ed7953"
            ],
            [
             0.7777777777777778,
             "#fb9f3a"
            ],
            [
             0.8888888888888888,
             "#fdca26"
            ],
            [
             1,
             "#f0f921"
            ]
           ]
          },
          "colorway": [
           "#636efa",
           "#EF553B",
           "#00cc96",
           "#ab63fa",
           "#FFA15A",
           "#19d3f3",
           "#FF6692",
           "#B6E880",
           "#FF97FF",
           "#FECB52"
          ],
          "font": {
           "color": "#2a3f5f"
          },
          "geo": {
           "bgcolor": "white",
           "lakecolor": "white",
           "landcolor": "#E5ECF6",
           "showlakes": true,
           "showland": true,
           "subunitcolor": "white"
          },
          "hoverlabel": {
           "align": "left"
          },
          "hovermode": "closest",
          "mapbox": {
           "style": "light"
          },
          "paper_bgcolor": "white",
          "plot_bgcolor": "#E5ECF6",
          "polar": {
           "angularaxis": {
            "gridcolor": "white",
            "linecolor": "white",
            "ticks": ""
           },
           "bgcolor": "#E5ECF6",
           "radialaxis": {
            "gridcolor": "white",
            "linecolor": "white",
            "ticks": ""
           }
          },
          "scene": {
           "xaxis": {
            "backgroundcolor": "#E5ECF6",
            "gridcolor": "white",
            "gridwidth": 2,
            "linecolor": "white",
            "showbackground": true,
            "ticks": "",
            "zerolinecolor": "white"
           },
           "yaxis": {
            "backgroundcolor": "#E5ECF6",
            "gridcolor": "white",
            "gridwidth": 2,
            "linecolor": "white",
            "showbackground": true,
            "ticks": "",
            "zerolinecolor": "white"
           },
           "zaxis": {
            "backgroundcolor": "#E5ECF6",
            "gridcolor": "white",
            "gridwidth": 2,
            "linecolor": "white",
            "showbackground": true,
            "ticks": "",
            "zerolinecolor": "white"
           }
          },
          "shapedefaults": {
           "line": {
            "color": "#2a3f5f"
           }
          },
          "ternary": {
           "aaxis": {
            "gridcolor": "white",
            "linecolor": "white",
            "ticks": ""
           },
           "baxis": {
            "gridcolor": "white",
            "linecolor": "white",
            "ticks": ""
           },
           "bgcolor": "#E5ECF6",
           "caxis": {
            "gridcolor": "white",
            "linecolor": "white",
            "ticks": ""
           }
          },
          "title": {
           "x": 0.05
          },
          "xaxis": {
           "automargin": true,
           "gridcolor": "white",
           "linecolor": "white",
           "ticks": "",
           "title": {
            "standoff": 15
           },
           "zerolinecolor": "white",
           "zerolinewidth": 2
          },
          "yaxis": {
           "automargin": true,
           "gridcolor": "white",
           "linecolor": "white",
           "ticks": "",
           "title": {
            "standoff": 15
           },
           "zerolinecolor": "white",
           "zerolinewidth": 2
          }
         }
        },
        "updatemenus": [
         {
          "buttons": [
           {
            "args": [
             null,
             {
              "frame": {
               "duration": 500,
               "redraw": true
              },
              "fromcurrent": true,
              "mode": "immediate",
              "transition": {
               "duration": 500,
               "easing": "linear"
              }
             }
            ],
            "label": "&#9654;",
            "method": "animate"
           },
           {
            "args": [
             [
              null
             ],
             {
              "frame": {
               "duration": 0,
               "redraw": true
              },
              "fromcurrent": true,
              "mode": "immediate",
              "transition": {
               "duration": 0,
               "easing": "linear"
              }
             }
            ],
            "label": "&#9724;",
            "method": "animate"
           }
          ],
          "direction": "left",
          "pad": {
           "r": 10,
           "t": 70
          },
          "showactive": false,
          "type": "buttons",
          "x": 0.1,
          "xanchor": "right",
          "y": 0,
          "yanchor": "top"
         }
        ],
        "xaxis": {
         "anchor": "y",
         "constrain": "domain",
         "domain": [
          0,
          1
         ],
         "scaleanchor": "y"
        },
        "yaxis": {
         "anchor": "x",
         "autorange": "reversed",
         "constrain": "domain",
         "domain": [
          0,
          1
         ]
        }
       }
      }
     },
     "metadata": {},
     "output_type": "display_data"
    }
   ],
   "source": [
    "def get_quantities(cursor):\n",
    "    \"\"\"Get quantities that are needed for plotting.\"\"\"\n",
    "    for document in cursor:\n",
    "\n",
    "        alpha_eigenvalues = document[\"calcs_reversed\"][0][\"alpha_eigenvalues\"]\n",
    "        final_energy = document[\"output\"][\"final_energy\"]\n",
    "        alpha_coeff_matrix = document[\"calcs_reversed\"][0][\"alpha_coeff_matrix\"]\n",
    "        alpha_coeff_matrix = np.array(alpha_coeff_matrix)\n",
    "\n",
    "        alpha_eigenvalues = np.sort(alpha_eigenvalues)\n",
    "        positive_alpha_eigenvalues = alpha_eigenvalues[alpha_eigenvalues > 0]\n",
    "        negative_alpha_eigenvalues = alpha_eigenvalues[alpha_eigenvalues < 0]\n",
    "\n",
    "        molecule = document[\"input\"][\"initial_molecule\"]\n",
    "        molecule = Molecule.from_dict(molecule)\n",
    "        molecule_graph = MoleculeGraph.with_local_env_strategy(molecule, OpenBabelNN())\n",
    "\n",
    "        yield {\n",
    "            \"final_energy\": final_energy,\n",
    "            \"alpha_eigenvalues\": alpha_eigenvalues,\n",
    "            \"alpha_coeff_matrix\": alpha_coeff_matrix,\n",
    "            \"molecule_graph\": molecule_graph,\n",
    "        } \n",
    "\n",
    "db = instance_mongodb_sei(project=\"mlts\")\n",
    "\n",
    "collections_data = db.minimal_basis\n",
    "\n",
    "# Create a new collection to store the data in\n",
    "collections_data_new = db.minimal_basis_interpolated_sn2\n",
    "groupname = \"sn2_interpolated_from_transition_states\"\n",
    "\n",
    "# Find all unique reaction labels\n",
    "reaction_labels = collections_data.distinct(\"tags.label\")\n",
    "\n",
    "df = pd.DataFrame()\n",
    "\n",
    "atom_idx = 0\n",
    "\n",
    "for reaction_label in reaction_labels:\n",
    "\n",
    "    cursor = (\n",
    "        collections_data.find(\n",
    "            {\n",
    "                \"tags.label\": reaction_label,\n",
    "                \"tags.group\": groupname,\n",
    "            }\n",
    "        )\n",
    "        .sort(\"tags.scaling\", 1)\n",
    "    )\n",
    "    data_to_plot = list(get_quantities(cursor))\n",
    "\n",
    "    selected_eigenval = data_to_plot[0][\"alpha_eigenvalues\"]\n",
    "    selected_eigenval = selected_eigenval[selected_eigenval < 0]\n",
    "    selected_eigenval = np.sort(selected_eigenval)\n",
    "    selected_eigenval = selected_eigenval[-1]\n",
    "    selected_eigenval_index = np.where(\n",
    "        data_to_plot[0][\"alpha_eigenvalues\"] == selected_eigenval\n",
    "    )[0][0]\n",
    "\n",
    "    selected_coeff_matrix = []\n",
    "\n",
    "    for data in data_to_plot:\n",
    "        coeff_matrix = ModifiedCoefficientMatrix(\n",
    "            molecule_graph=data[\"molecule_graph\"],\n",
    "            basis_info_raw=basis_set,\n",
    "            coefficient_matrix=data[\"alpha_coeff_matrix\"],\n",
    "            store_idx_only=selected_eigenval_index,\n",
    "            set_to_absolute=True,\n",
    "        )\n",
    "        minimal_basis_representation = coeff_matrix.get_minimal_basis_representation_atom(atom_idx)\n",
    "        selected_coeff_matrix.append(minimal_basis_representation)\n",
    "    \n",
    "    selected_coeff_matrix = np.array(selected_coeff_matrix)\n",
    "    \n",
    "    fig = px.imshow(selected_coeff_matrix, color_continuous_scale=\"RdBu_r\", animation_frame=0, \n",
    "                    range_color=[0, 0.1],)\n",
    "    fig.show()\n",
    "\n",
    "    break\n",
    "\n"
   ]
  }
 ],
 "metadata": {
  "kernelspec": {
   "display_name": "molml",
   "language": "python",
   "name": "python3"
  },
  "language_info": {
   "codemirror_mode": {
    "name": "ipython",
    "version": 3
   },
   "file_extension": ".py",
   "mimetype": "text/x-python",
   "name": "python",
   "nbconvert_exporter": "python",
   "pygments_lexer": "ipython3",
   "version": "3.9.15"
  },
  "orig_nbformat": 4
 },
 "nbformat": 4,
 "nbformat_minor": 2
}
