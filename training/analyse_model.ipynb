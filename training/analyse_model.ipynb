{
 "cells": [
  {
   "cell_type": "markdown",
   "metadata": {},
   "source": [
    "# Analyse Reaction Model"
   ]
  },
  {
   "cell_type": "code",
   "execution_count": null,
   "metadata": {},
   "outputs": [],
   "source": [
    "import os\n",
    "\n",
    "import numpy as np\n",
    "\n",
    "import plotly.express as px\n",
    "import plotly.graph_objects as go\n",
    "\n",
    "import torch\n",
    "from torch_geometric.loader import DataLoader\n",
    "import torch_geometric.transforms as T\n",
    "\n",
    "from minimal_basis.dataset.reaction import ReactionDataset\n",
    "\n",
    "from utils import (\n",
    "    get_test_data_path,\n",
    "    get_validation_data_path,\n",
    "    get_train_data_path,\n",
    "    read_inputs_yaml,\n",
    ")\n",
    "\n",
    "from ase import units as ase_units\n",
    "from ase.data import atomic_numbers, atomic_names\n",
    "\n",
    "import matplotlib.pyplot as plt\n",
    "plt.rcParams['figure.dpi'] = 200\n",
    "\n",
    "import warnings\n",
    "warnings.simplefilter(action='ignore', category=FutureWarning)\n",
    "warnings.simplefilter(action='ignore', category=UserWarning)\n",
    "\n",
    "import wandb\n",
    "run = wandb.init()"
   ]
  },
  {
   "cell_type": "markdown",
   "metadata": {},
   "source": [
    "## Inputs"
   ]
  },
  {
   "cell_type": "code",
   "execution_count": null,
   "metadata": {},
   "outputs": [],
   "source": [
    "# Run this notebook with this `model_name`\n",
    "model_name = \"rudorff_lilienfeld_sn2_model\""
   ]
  },
  {
   "cell_type": "code",
   "execution_count": null,
   "metadata": {},
   "outputs": [],
   "source": [
    "# Choose the artifacts that will present the model in this code block\n",
    "artifact_coeff = run.use_artifact(f'sudarshanvj/{model_name}/{model_name}:v7', type='model')\n",
    "artifact_dir_coeff = artifact_coeff.download()\n",
    "artifact_barrier = run.use_artifact(f'sudarshanvj/{model_name}/{model_name}:v4', type='model')\n",
    "artifact_dir_barrier = artifact_barrier.download()"
   ]
  },
  {
   "cell_type": "markdown",
   "metadata": {},
   "source": [
    "## Setup"
   ]
  },
  {
   "cell_type": "code",
   "execution_count": null,
   "metadata": {},
   "outputs": [],
   "source": [
    "config_filename = os.path.join(\"config\", f\"{model_name}.yaml\")\n",
    "inputs = read_inputs_yaml(config_filename)\n",
    "\n",
    "train_json_filename = inputs[\"train_json\"]\n",
    "validate_json_filename = inputs[\"validate_json\"]\n",
    "test_json_filename = inputs[\"test_json\"]\n",
    "kwargs_dataset = inputs[\"dataset_options\"]\n",
    "kwargs_dataset[\"use_minimal_basis_node_features\"] = inputs[\n",
    "    \"use_minimal_basis_node_features\"\n",
    "]\n",
    "\n",
    "train_dataset = ReactionDataset( \n",
    "    root=get_train_data_path(model_name),\n",
    "    filename=train_json_filename,\n",
    "    basis_filename=inputs[\"basis_file\"],\n",
    "    **kwargs_dataset\n",
    ")\n",
    "\n",
    "validation_dataset = ReactionDataset(\n",
    "    root=get_validation_data_path(model_name),\n",
    "    filename=validate_json_filename,\n",
    "    basis_filename=inputs[\"basis_file\"],\n",
    "    **kwargs_dataset\n",
    ")\n",
    "\n",
    "test_dataset = ReactionDataset(\n",
    "    root=get_test_data_path(model_name),\n",
    "    filename=test_json_filename,\n",
    "    basis_filename=inputs[\"basis_file\"],\n",
    "    **kwargs_dataset\n",
    ")    "
   ]
  },
  {
   "cell_type": "code",
   "execution_count": null,
   "metadata": {},
   "outputs": [],
   "source": [
    "train_loader = DataLoader(train_dataset, batch_size=1, shuffle=True)\n",
    "validation_loader = DataLoader(validation_dataset, batch_size=1, shuffle=True)\n",
    "test_loader = DataLoader(test_dataset, batch_size=1, shuffle=True)"
   ]
  },
  {
   "cell_type": "markdown",
   "metadata": {},
   "source": [
    "## Performance of the structure interpolator"
   ]
  },
  {
   "cell_type": "code",
   "execution_count": null,
   "metadata": {},
   "outputs": [],
   "source": [
    "all_mae_norms = []\n",
    "\n",
    "for idx, data in enumerate(validation_loader):\n",
    "\n",
    "    interpolated_ts_coords = data.pos_interpolated_transition_state.detach().numpy()\n",
    "    real_ts_coords = data.pos_transition_state.detach().numpy()\n",
    "    difference_ts_coords = interpolated_ts_coords - real_ts_coords\n",
    "    norm_difference_ts_coords = np.linalg.norm(difference_ts_coords, axis=1)\n",
    "\n",
    "    mae = np.mean(norm_difference_ts_coords)\n",
    "    all_mae_norms.append(mae)\n",
    "\n",
    "fig = px.histogram(x=all_mae_norms, nbins=20, template=\"simple_white\")\n",
    "\n",
    "fig.update_layout(title=\"MAE structure prediction (Å)\")\n",
    "fig.update_xaxes(title_text=\"MAE (Å)\")\n",
    "fig.update_yaxes(title_text=\"Frequency\")\n",
    "\n",
    "fig.update_layout(\n",
    "    autosize=False,\n",
    "    width=600,\n",
    "    height=500,\n",
    ")\n",
    "\n",
    "fig.show()"
   ]
  },
  {
   "cell_type": "markdown",
   "metadata": {},
   "source": [
    "## Performance of the Coefficient Model"
   ]
  },
  {
   "cell_type": "code",
   "execution_count": null,
   "metadata": {},
   "outputs": [],
   "source": [
    "model = torch.load(os.path.join(artifact_dir_coeff, f\"{model_name}.pt\"), map_location=torch.device('cpu'))\n",
    "\n",
    "for idx, data in enumerate(train_loader):\n",
    "    output = model(data)\n",
    "    output = output.detach().numpy()\n",
    "    output = np.abs(output)\n",
    "    sum_squares_ouput = np.sum(output**2)\n",
    "    print(f\"Sum of squares of output: {sum_squares_ouput:.3f}\")\n",
    "\n",
    "    expected = data.x_transition_state.detach().numpy()\n",
    "    expected = np.abs(expected)\n",
    "    sum_squares_expected = np.sum(expected**2)\n",
    "    print(f\"Sum of squares of expected: {sum_squares_expected:.3f}\")\n",
    "\n",
    "    difference = output - expected\n",
    "    difference = np.abs(difference)\n",
    "    sum_differences = np.sum(np.abs(difference))\n",
    "    sumsq_differences = np.sum(difference**2)\n",
    "    print(f\"Sum of differences: {sum_differences:.3f}\")\n",
    "    print(f\"Sum of squares of differences: {sumsq_differences:.3f}\")\n",
    "    print(f\"Max differences\", np.max(np.abs(difference)))\n",
    "\n",
    "    fig, axs = plt.subplots(3, 1, figsize=(12,8),  sharey=True, sharex=True, facecolor='w')\n",
    "    cax = axs[0].imshow(output, cmap=\"cividis\")\n",
    "    fig.colorbar(cax, ax=axs[0])\n",
    "    axs[0].set_title(r\"$\\mathbf{C}_{\\mathrm{model}}$\")\n",
    "    cax = axs[1].imshow(expected, cmap=\"cividis\")\n",
    "    fig.colorbar(cax, ax=axs[1])\n",
    "    cax.set_clim(axs[0].get_images()[0].get_clim())\n",
    "    axs[1].set_title(r\"$\\mathbf{C}_{\\mathrm{DFT}}$\")\n",
    "    cax = axs[2].imshow(difference, cmap=\"Blues\")\n",
    "    fig.colorbar(cax, ax=axs[2])\n",
    "    axs[2].set_title(r\"$\\left | \\mathbf{C}_{\\mathrm{model}} - \\mathbf{C}_{\\mathrm{DFT}} \\right | $\")\n",
    "\n",
    "    tickvals = data.species.view(-1).detach().numpy().flatten()\n",
    "    tickvals_species = [atomic_names[int(tickval)] for tickval in tickvals]\n",
    "    axs[0].set_yticks(np.arange(len(tickvals)))\n",
    "    axs[0].set_yticklabels(tickvals_species)\n",
    "    axs[1].set_yticks(np.arange(len(tickvals)))\n",
    "    axs[1].set_yticklabels(tickvals_species)\n",
    "    axs[2].set_yticks(np.arange(len(tickvals)))\n",
    "    axs[2].set_yticklabels(tickvals_species)\n",
    "    axs[0].set_xticks(np.arange(17))\n",
    "    axs[0].set_xticklabels(5 *[\"s\"] + 12*[\"p\"])\n",
    "\n",
    "    fig.tight_layout()\n",
    "    fig.set_dpi(100)\n",
    "    plt.show()\n",
    "\n",
    "    break"
   ]
  },
  {
   "cell_type": "markdown",
   "metadata": {},
   "source": [
    "## Performance of the Barrier Model"
   ]
  },
  {
   "cell_type": "code",
   "execution_count": null,
   "metadata": {},
   "outputs": [],
   "source": [
    "model = torch.load(os.path.join(artifact_dir_barrier, f\"{model_name}.pt\"), map_location=torch.device('cpu'))\n",
    "\n",
    "outputs = []\n",
    "expecteds = []\n",
    "\n",
    "for idx, data in enumerate(validation_loader):\n",
    "    output = model(data)\n",
    "    output = output.mean(dim=1)\n",
    "    \n",
    "    output = output.detach().numpy()\n",
    "    expected = data.total_energy_transition_state - data.total_energy\n",
    "    expected = expected.detach().numpy()\n",
    "\n",
    "    outputs.append(output[0])\n",
    "    expecteds.append(expected[0])\n",
    "\n",
    "\n",
    "# Make a parity plot of the output vs. expected\n",
    "outputs = np.array(outputs).flatten()\n",
    "expecteds = np.array(expecteds).flatten()\n",
    "outputs *= ase_units.Ha\n",
    "expecteds *= ase_units.Ha\n",
    "\n",
    "# Remove entries from output and expected that less than 0\n",
    "# idx_to_remove = np.where(expecteds < 0)[0]\n",
    "# outputs = np.delete(outputs, idx_to_remove)\n",
    "# expecteds = np.delete(expecteds, idx_to_remove)\n",
    "\n",
    "\n",
    "print(f\"Number of points: {len(outputs)}\")\n",
    "mae = np.mean(np.abs(outputs - expecteds))\n",
    "print(f\"Mean absolute error: {mae:.3f} eV\")\n",
    "\n",
    "fig = px.scatter(x=expecteds, y=outputs, template=\"simple_white\")\n",
    "fig.update_xaxes(title_text=\"DFT Computed Barrier (eV)\")\n",
    "fig.update_yaxes(title_text=\"Model Output Barrier (eV)\")\n",
    "fig.add_shape(\n",
    "    type=\"line\",\n",
    "    x0=outputs.min(),\n",
    "    y0=outputs.min(),\n",
    "    x1=outputs.max(),\n",
    "    y1=outputs.max(),\n",
    "    line=dict(\n",
    "        color=\"Red\",\n",
    "        width=4,\n",
    "        dash=\"dashdot\",\n",
    "    )\n",
    ")\n",
    "fig.update_layout(\n",
    "    autosize=False,\n",
    "    width=600,\n",
    "    height=500,\n",
    ")\n",
    "\n",
    "\n",
    "fig.show()"
   ]
  },
  {
   "cell_type": "code",
   "execution_count": null,
   "metadata": {},
   "outputs": [],
   "source": []
  }
 ],
 "metadata": {
  "kernelspec": {
   "display_name": "molml",
   "language": "python",
   "name": "molml"
  },
  "language_info": {
   "codemirror_mode": {
    "name": "ipython",
    "version": 3
   },
   "file_extension": ".py",
   "mimetype": "text/x-python",
   "name": "python",
   "nbconvert_exporter": "python",
   "pygments_lexer": "ipython3",
   "version": "3.9.13"
  },
  "vscode": {
   "interpreter": {
    "hash": "c0de598c4e13c0bc0daa0f1515205270a88f8656cf701de288f6c6743b0ef60d"
   }
  }
 },
 "nbformat": 4,
 "nbformat_minor": 4
}
