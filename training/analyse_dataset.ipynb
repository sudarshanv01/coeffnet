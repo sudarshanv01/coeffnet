{
 "cells": [
  {
   "cell_type": "markdown",
   "metadata": {},
   "source": [
    "## Analyse output of dataset"
   ]
  },
  {
   "cell_type": "code",
   "execution_count": null,
   "metadata": {},
   "outputs": [],
   "source": [
    "import os\n",
    "\n",
    "import numpy as np\n",
    "\n",
    "import plotly.express as px\n",
    "import plotly.graph_objects as go\n",
    "\n",
    "import torch\n",
    "from torch_geometric.loader import DataLoader\n",
    "import torch_geometric.transforms as T\n",
    "\n",
    "from minimal_basis.dataset.reaction import ReactionDataset\n",
    "\n",
    "from utils import (\n",
    "    get_test_data_path,\n",
    "    get_validation_data_path,\n",
    "    get_train_data_path,\n",
    "    read_inputs_yaml,\n",
    ")\n",
    "\n",
    "from ase import units as ase_units\n",
    "from ase.data import atomic_numbers, atomic_names\n",
    "\n",
    "import matplotlib.pyplot as plt\n",
    "plt.rcParams['figure.dpi'] = 200\n",
    "\n",
    "import warnings\n",
    "warnings.simplefilter(action='ignore', category=FutureWarning)\n",
    "warnings.simplefilter(action='ignore', category=UserWarning)\n",
    "\n",
    "import wandb\n",
    "run = wandb.init()"
   ]
  },
  {
   "cell_type": "code",
   "execution_count": null,
   "metadata": {},
   "outputs": [],
   "source": [
    "model_name = \"rudorff_lilienfeld_e2\"\n",
    "config_filename = os.path.join(\"config\", f\"{model_name}_model.yaml\")\n",
    "inputs = read_inputs_yaml(config_filename)\n",
    "\n",
    "train_json_filename = inputs[\"train_json\"]\n",
    "validate_json_filename = inputs[\"validate_json\"]\n",
    "kwargs_dataset = inputs[\"dataset_options\"]\n",
    "kwargs_dataset[\"use_minimal_basis_node_features\"] = inputs[\n",
    "    \"use_minimal_basis_node_features\"\n",
    "]\n",
    "\n",
    "train_dataset = ReactionDataset( \n",
    "    root=get_train_data_path(model_name),\n",
    "    filename=train_json_filename,\n",
    "    basis_filename=inputs[\"basis_file\"],\n",
    "    **kwargs_dataset\n",
    ")\n",
    "\n",
    "validation_dataset = ReactionDataset(\n",
    "    root=get_validation_data_path(model_name),\n",
    "    filename=validate_json_filename,\n",
    "    basis_filename=inputs[\"basis_file\"],\n",
    "    **kwargs_dataset\n",
    ")"
   ]
  },
  {
   "cell_type": "code",
   "execution_count": null,
   "metadata": {},
   "outputs": [],
   "source": [
    "# Visualize the coefficient matrix of the initial and final state\n",
    "# as well as the interpolated matrix\n",
    "matrices_to_visualize = []\n",
    "matrices_to_visualize.append(data[0].x.detach().numpy())\n",
    "matrices_to_visualize.append(data[0].x_final_state.detach().numpy())\n",
    "matrices_to_visualize.append(data[0].x_transition_state.detach().numpy())\n",
    "matrices_to_visualize = np.abs(matrices_to_visualize)\n",
    "# Set a maximum value for the coefficient matrix\n",
    "fig = px.imshow(matrices_to_visualize, template=\"simple_white\", color_continuous_scale=\"RdBu\",\n",
    "    labels=dict(x=\"Basis Functions\", y=\"Atoms\", color=\"Coefficient\"), animation_frame=0,\n",
    "    range_color=[0, 1 ])\n",
    "x_tick_label = 5 *[\"s\"] + 12*[\"p\"] + 3*[\"d\" , \"d\" , \"d\" , \"d\" , \"d\"]\n",
    "fig.update_xaxes(ticktext=x_tick_label, tickvals=np.arange(35))\n",
    "tickvals = data.species.view(-1).detach().numpy().flatten()\n",
    "y_tickvals_species = [atomic_names[int(tickval)] for tickval in tickvals]\n",
    "fig.update_yaxes(ticktext=y_tickvals_species, tickvals=np.arange(len(tickvals)))\n",
    "fig.show()"
   ]
  },
  {
   "cell_type": "code",
   "execution_count": null,
   "metadata": {},
   "outputs": [],
   "source": []
  }
 ],
 "metadata": {
  "kernelspec": {
   "display_name": "molml",
   "language": "python",
   "name": "molml"
  },
  "language_info": {
   "codemirror_mode": {
    "name": "ipython",
    "version": 3
   },
   "file_extension": ".py",
   "mimetype": "text/x-python",
   "name": "python",
   "nbconvert_exporter": "python",
   "pygments_lexer": "ipython3",
   "version": "3.9.13"
  }
 },
 "nbformat": 4,
 "nbformat_minor": 4
}
