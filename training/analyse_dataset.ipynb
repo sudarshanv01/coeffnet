{
 "cells": [
  {
   "attachments": {},
   "cell_type": "markdown",
   "metadata": {},
   "source": [
    "## Analyse dataset "
   ]
  },
  {
   "cell_type": "code",
   "execution_count": null,
   "metadata": {},
   "outputs": [],
   "source": [
    "import os\n",
    "\n",
    "from pathlib import Path\n",
    "\n",
    "import numpy as np\n",
    "\n",
    "import plotly.express as px\n",
    "import plotly.graph_objects as go\n",
    "\n",
    "import torch\n",
    "from torch_geometric.loader import DataLoader\n",
    "import torch_geometric.transforms as T\n",
    "\n",
    "from minimal_basis.dataset.reaction import ReactionDataset\n",
    "\n",
    "from utils import (\n",
    "    get_test_data_path,\n",
    "    get_validation_data_path,\n",
    "    get_train_data_path,\n",
    "    read_inputs_yaml,\n",
    ")\n",
    "\n",
    "import matplotlib.pyplot as plt\n",
    "plt.rcParams['figure.dpi'] = 200\n",
    "\n",
    "import warnings\n",
    "warnings.simplefilter(action='ignore', category=FutureWarning)\n",
    "warnings.simplefilter(action='ignore', category=UserWarning)\n",
    "\n",
    "from model_functions import construct_model_name"
   ]
  },
  {
   "cell_type": "code",
   "execution_count": null,
   "metadata": {},
   "outputs": [],
   "source": [
    "input_foldername = Path(\"input\")\n",
    "train_json_filename = input_foldername / \"train.json\"\n",
    "validate_json_filename = input_foldername / \"validate.json\"\n",
    "dataset_name = \"rudorff_lilienfeld_sn2_dataset\"\n",
    "debug_model = False\n",
    "model_config = Path(\"config\") / \"grambow_green_message_passing.yaml\"\n",
    "inputs = read_inputs_yaml(model_config)\n",
    "\n",
    "model_name = construct_model_name(\n",
    "    dataset_name=dataset_name,\n",
    "    debug=debug_model,\n",
    ")\n",
    "\n",
    "basis_set_type = \"full\"\n",
    "\n",
    "train_dataset = ReactionDataset(\n",
    "    root=get_train_data_path(model_name),\n",
    "    filename=train_json_filename,\n",
    "    **inputs[\"dataset_options\"][f\"{basis_set_type}_basis\"],\n",
    ")\n",
    "validate_dataset = ReactionDataset(\n",
    "    root=get_validation_data_path(model_name),\n",
    "    filename=validate_json_filename,\n",
    "    **inputs[\"dataset_options\"][f\"{basis_set_type}_basis\"],\n",
    ")\n",
    "test_dataset = ReactionDataset(\n",
    "    root=get_test_data_path(model_name),\n",
    "    filename=validate_json_filename,\n",
    "    **inputs[\"dataset_options\"][f\"{basis_set_type}_basis\"],\n",
    ")"
   ]
  }
 ],
 "metadata": {
  "kernelspec": {
   "display_name": "Python 3",
   "language": "python",
   "name": "python3"
  },
  "language_info": {
   "codemirror_mode": {
    "name": "ipython",
    "version": 3
   },
   "file_extension": ".py",
   "mimetype": "text/x-python",
   "name": "python",
   "nbconvert_exporter": "python",
   "pygments_lexer": "ipython3",
   "version": "3.9.16"
  }
 },
 "nbformat": 4,
 "nbformat_minor": 4
}
