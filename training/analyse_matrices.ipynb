{
 "cells": [
  {
   "cell_type": "code",
   "execution_count": 45,
   "metadata": {},
   "outputs": [],
   "source": [
    "from e3nn import o3\n",
    "import torch"
   ]
  },
  {
   "cell_type": "code",
   "execution_count": 46,
   "metadata": {},
   "outputs": [
    {
     "name": "stdout",
     "output_type": "stream",
     "text": [
      "Dimension of the input: 5\n",
      "Full Tensor Product\n",
      "Dimension of the output: torch.Size([25])\n",
      "Output irreps: 1x0e+1x1e+1x2e+1x3e+1x4e\n",
      "Reduced Tensor Product\n",
      "Dimension of the output: torch.Size([15])\n",
      "Output irreps: 1x0e+1x2e+1x4e\n"
     ]
    }
   ],
   "source": [
    "# Compare the types of tensor products\n",
    "irrep_in = \"1x2o\"\n",
    "o3_type = o3.Irreps(irrep_in)\n",
    "print(f\"Dimension of the input: {o3_type.dim}\")\n",
    "\n",
    "x = torch.tensor([1.0, 0.0, 0.0, 1.0, 2.0])\n",
    "y = torch.tensor([0.0, 1.0, 0.0, 2.0, 1.0])\n",
    "\n",
    "# Full Tensor Product\n",
    "print(\"Full Tensor Product\")\n",
    "ftp = o3.FullTensorProduct(o3_type, o3_type)\n",
    "out = ftp(x, y)\n",
    "print(f\"Dimension of the output: {out.shape}\")\n",
    "print(f\"Output irreps: {ftp.irreps_out}\")\n",
    "\n",
    "print(\"Reduced Tensor Product\")\n",
    "rtp = o3.ReducedTensorProducts(\"ij=ji\", i=irrep_in)\n",
    "out = rtp(x, y)\n",
    "print(f\"Dimension of the output: {out.shape}\")\n",
    "print(f\"Output irreps: {rtp.irreps_out}\")"
   ]
  },
  {
   "cell_type": "code",
   "execution_count": null,
   "metadata": {},
   "outputs": [],
   "source": []
  }
 ],
 "metadata": {
  "kernelspec": {
   "display_name": "molml",
   "language": "python",
   "name": "python3"
  },
  "language_info": {
   "codemirror_mode": {
    "name": "ipython",
    "version": 3
   },
   "file_extension": ".py",
   "mimetype": "text/x-python",
   "name": "python",
   "nbconvert_exporter": "python",
   "pygments_lexer": "ipython3",
   "version": "3.9.15"
  },
  "orig_nbformat": 4,
  "vscode": {
   "interpreter": {
    "hash": "c0de598c4e13c0bc0daa0f1515205270a88f8656cf701de288f6c6743b0ef60d"
   }
  }
 },
 "nbformat": 4,
 "nbformat_minor": 2
}
