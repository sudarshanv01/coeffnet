{
 "cells": [
  {
   "cell_type": "code",
   "execution_count": null,
   "metadata": {},
   "outputs": [],
   "source": [
    "from e3nn import o3\n",
    "import torch"
   ]
  },
  {
   "cell_type": "code",
   "execution_count": null,
   "metadata": {},
   "outputs": [],
   "source": [
    "# Create a symmetric 3x3 matrix\n",
    "M = torch.randn(3, 3)\n",
    "M = M + M.transpose(-1, -2)\n",
    "M = M / M.norm()\n",
    "print(M)"
   ]
  },
  {
   "cell_type": "code",
   "execution_count": null,
   "metadata": {},
   "outputs": [],
   "source": [
    "irrep = o3.Irreps(\"1x0e + 1x2e\")\n",
    "irrep.dim"
   ]
  },
  {
   "cell_type": "code",
   "execution_count": null,
   "metadata": {},
   "outputs": [],
   "source": [
    "# Analyse the tensor products\n",
    "irreps_in1 = o3.Irreps(\"1x1o + 1x1o\")\n",
    "irreps_in2 = o3.Irreps(\"1x0e + 1x1o\")\n",
    "irreps_out = o3.Irreps(\"1x0e + 1x1o\")\n",
    "\n",
    "print(f\"Dimension of the input1: {irreps_in1.dim}\")\n",
    "print(f\"Dimension of the input2: {irreps_in2.dim}\")\n",
    "print(f\"Dimension of the output: {irreps_out.dim}\")\n",
    "\n",
    "tp = o3.FullyConnectedTensorProduct(irreps_in1, irreps_in2, irreps_out)\n",
    "x1 = torch.tensor([1.0, 0.0, 0.0,  2.0, 1.0, 0.0])\n",
    "x2 = torch.tensor([123.4,          0.0, 1.0, 5.0])\n",
    "out = tp(x1, x2)\n",
    "out"
   ]
  },
  {
   "cell_type": "code",
   "execution_count": null,
   "metadata": {},
   "outputs": [],
   "source": [
    "irreps_in1 = o3.Irreps(\"1x0e + 1x2e\")\n",
    "irreps_in2 = o3.Irreps(\"1x0e + 1x2e\")\n",
    "# irreps_out = o3.Irreps(\"1x0e + 1x1o\")\n",
    "\n",
    "print(f\"Dimension of the input1: {irreps_in1.dim}\")\n",
    "print(f\"Dimension of the input2: {irreps_in2.dim}\")\n",
    "# print(f\"Dimension of the output: {irreps_out.dim}\")\n",
    "\n",
    "tp = o3.FullTensorProduct(irreps_in1, irreps_in2) \n",
    "tp.visualize()\n",
    "x1 = torch.tensor([1.0,    0.0, 0.0, 2.0, 1.0, 0.0])\n",
    "x2 = torch.tensor([1.4,    1.0, 2.0, 0.0, 1.0, 5.0])\n",
    "out = tp(x1, x2)\n",
    "out"
   ]
  },
  {
   "cell_type": "code",
   "execution_count": null,
   "metadata": {},
   "outputs": [],
   "source": [
    "# Compare the types of tensor products\n",
    "irrep_in = \"1x2o\"\n",
    "o3_type = o3.Irreps(irrep_in)\n",
    "print(f\"Dimension of the input: {o3_type.dim}\")\n",
    "\n",
    "x = torch.tensor([1.0, 0.0, 0.0, 1.0, 2.0])\n",
    "y = torch.tensor([0.0, 1.0, 0.0, 2.0, 1.0])\n",
    "\n",
    "# Full Tensor Product\n",
    "print(\"Full Tensor Product\")\n",
    "ftp = o3.FullTensorProduct(o3_type, o3_type)\n",
    "out = ftp(x, y)\n",
    "print(f\"Dimension of the output: {out.shape}\")\n",
    "print(f\"Output irreps: {ftp.irreps_out}\")\n",
    "\n",
    "print(\"Reduced Tensor Product\")\n",
    "rtp = o3.ReducedTensorProducts(\"ij=ji\", i=irrep_in)\n",
    "out = rtp(x, y)\n",
    "print(f\"Dimension of the output: {out.shape}\")\n",
    "print(f\"Output irreps: {rtp.irreps_out}\")"
   ]
  },
  {
   "cell_type": "code",
   "execution_count": null,
   "metadata": {},
   "outputs": [],
   "source": []
  }
 ],
 "metadata": {
  "kernelspec": {
   "display_name": "molml",
   "language": "python",
   "name": "python3"
  },
  "language_info": {
   "codemirror_mode": {
    "name": "ipython",
    "version": 3
   },
   "file_extension": ".py",
   "mimetype": "text/x-python",
   "name": "python",
   "nbconvert_exporter": "python",
   "pygments_lexer": "ipython3",
   "version": "3.9.15"
  },
  "orig_nbformat": 4,
  "vscode": {
   "interpreter": {
    "hash": "c0de598c4e13c0bc0daa0f1515205270a88f8656cf701de288f6c6743b0ef60d"
   }
  }
 },
 "nbformat": 4,
 "nbformat_minor": 2
}
