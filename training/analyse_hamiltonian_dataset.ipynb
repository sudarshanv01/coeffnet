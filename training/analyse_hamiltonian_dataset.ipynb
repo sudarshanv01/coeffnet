{
 "cells": [
  {
   "cell_type": "code",
   "execution_count": null,
   "metadata": {},
   "outputs": [],
   "source": [
    "import os\n",
    "import numpy as np\n",
    "from e3nn import o3\n",
    "from minimal_basis.dataset.dataset_hamiltonian import HamiltonianDataset\n",
    "from minimal_basis.model.model_hamiltonian import (\n",
    "    EquivariantConv,\n",
    "    SimpleHamiltonianModel,\n",
    ")\n",
    "import warnings\n",
    "import plotly.express as px\n",
    "import torch\n",
    "from torch_geometric.loader import DataLoader\n",
    "\n",
    "from utils import (\n",
    "    get_test_data_path,\n",
    "    get_validation_data_path,\n",
    "    get_train_data_path,\n",
    "    read_inputs_yaml,\n",
    ")\n",
    "from ase import units as ase_units\n",
    "\n",
    "warnings.simplefilter(action='ignore', category=FutureWarning)\n",
    "warnings.simplefilter(action='ignore', category=UserWarning)\n",
    "\n",
    "import wandb\n"
   ]
  },
  {
   "cell_type": "code",
   "execution_count": null,
   "metadata": {},
   "outputs": [],
   "source": [
    "import wandb\n",
    "wandb_run = wandb.init(project=\"hamiltonian\", entity=\"sudarshanvj\")"
   ]
  },
  {
   "cell_type": "code",
   "execution_count": null,
   "metadata": {},
   "outputs": [],
   "source": [
    "inputs = read_inputs_yaml(os.path.join(\"input_files\", \"hamiltonian_model.yaml\"))\n",
    "\n",
    "train_json_filename = inputs[\"debug_train_json\"]\n",
    "validate_json_filename = inputs[\"debug_validate_json\"]\n",
    "\n",
    "train_dataset = HamiltonianDataset(\n",
    "    root=get_train_data_path(),\n",
    "    filename=train_json_filename,\n",
    "    basis_file=inputs[\"basis_file\"],\n",
    ")\n",
    "validation_dataset = HamiltonianDataset(\n",
    "    root=get_validation_data_path(),\n",
    "    filename=validate_json_filename,\n",
    "    basis_file=inputs[\"basis_file\"],\n",
    ")"
   ]
  },
  {
   "cell_type": "code",
   "execution_count": null,
   "metadata": {},
   "outputs": [],
   "source": [
    "train_loader = DataLoader(train_dataset, batch_size=1, shuffle=False)\n",
    "validation_loader = DataLoader(validation_dataset, batch_size=1, shuffle=False)"
   ]
  },
  {
   "cell_type": "code",
   "execution_count": null,
   "metadata": {},
   "outputs": [],
   "source": [
    "# Get the model\n",
    "artifact = wandb_run.use_artifact('sudarshanvj/hamiltonian/hamiltonian_model:v3', type='model')\n",
    "artifact_dir = artifact.download()\n",
    "model = torch.load(os.path.join(artifact_dir, \"hamiltonian_model.pt\"), map_location=torch.device('cpu') )\n",
    "model.eval()"
   ]
  },
  {
   "cell_type": "code",
   "execution_count": null,
   "metadata": {},
   "outputs": [],
   "source": [
    "all_mae_norms = []\n",
    "output_comparison = [] \n",
    "\n",
    "for idx, data in enumerate(train_loader):\n",
    "\n",
    "    interpolated_ts_coords = data.pos_interpolated_TS.detach().numpy()\n",
    "    real_ts_coords = data.pos_real_TS\n",
    "    real_ts_coords = np.array(real_ts_coords[0])\n",
    "\n",
    "    difference_ts_coords = interpolated_ts_coords - real_ts_coords\n",
    "\n",
    "    norm_difference_ts_coords = np.linalg.norm(difference_ts_coords, axis=1)\n",
    "    # Mean absolute error\n",
    "    mae = np.mean(norm_difference_ts_coords)\n",
    "    all_mae_norms.append(mae)\n",
    "\n",
    "    # Plot the real and interpolated TS structures\n",
    "    # with two different colors on the same plot\n",
    "    fig = px.scatter_3d(\n",
    "        x=np.concatenate((real_ts_coords[:, 0], interpolated_ts_coords[:, 0])),\n",
    "        y=np.concatenate((real_ts_coords[:, 1], interpolated_ts_coords[:, 1])),\n",
    "        z=np.concatenate((real_ts_coords[:, 2], interpolated_ts_coords[:, 2])),\n",
    "        color=np.concatenate((np.zeros(len(real_ts_coords)), np.ones(len(interpolated_ts_coords)))),\n",
    "    )\n",
    "    # Set the title of the plot as the mean absolute error\n",
    "    fig.update_layout(title=f\"MAE: {mae:.3f} Å\")\n",
    "    fig.write_html(f\"plots/hamiltonian_model/interpolated_ts_{idx}_mae_{mae:.3f}.html\")\n",
    "\n",
    "    real_y = data.y\n",
    "    predicted_y = model(data)\n",
    "    output_comparison.append([real_y.detach().numpy(), predicted_y.detach().numpy()])\n",
    "\n",
    "# Plot a histogram of the MAE\n",
    "fig = px.histogram(x=all_mae_norms, nbins=20)\n",
    "fig.update_layout(title=\"Histogram of MAE\")\n",
    "fig.show()\n",
    "\n",
    "output_comparison = np.array(output_comparison).T\n",
    "output_comparison = np.squeeze(output_comparison)\n",
    "# Multiply the energies with the Hartree to eV conversion factor\n",
    "output_comparison[0] *= ase_units.Hartree\n",
    "output_comparison[1] *= ase_units.Hartree\n"
   ]
  },
  {
   "cell_type": "code",
   "execution_count": null,
   "metadata": {},
   "outputs": [],
   "source": [
    "# Make a parity plot of the real and predicted energies\n",
    "fig = px.scatter(\n",
    "    x=output_comparison[0].flatten(),\n",
    "    y=output_comparison[1].flatten(),\n",
    ")\n",
    "# Draw a parity x=y line\n",
    "fig.add_shape(\n",
    "    type=\"line\",\n",
    "    x0= min(output_comparison[0].min(), output_comparison[1].min()),\n",
    "    y0= min(output_comparison[0].min(), output_comparison[1].min()),\n",
    "    x1 = max(output_comparison[0].max(), output_comparison[1].max()),\n",
    "    y1 = max(output_comparison[0].max(), output_comparison[1].max()),\n",
    "    line=dict(\n",
    "        color=\"Red\",\n",
    "        width=4,\n",
    "        dash=\"dashdot\",\n",
    "    )\n",
    ")\n",
    "# Make the aspect ratio of the plot equa\n",
    "fig.update_xaxes(scaleanchor=\"y\", scaleratio=1)\n",
    "fig.update_yaxes(scaleanchor=\"x\", scaleratio=1)\n",
    "fig.update_layout(title=\"Parity plot of real and predicted energies\")\n",
    "fig.update_xaxes(title_text=\"Real energies (eV)\")\n",
    "fig.update_yaxes(title_text=\"Predicted energies (eV)\")\n",
    "\n",
    "fig.show()"
   ]
  }
 ],
 "metadata": {
  "kernelspec": {
   "display_name": "molml",
   "language": "python",
   "name": "python3"
  },
  "language_info": {
   "codemirror_mode": {
    "name": "ipython",
    "version": 3
   },
   "file_extension": ".py",
   "mimetype": "text/x-python",
   "name": "python",
   "nbconvert_exporter": "python",
   "pygments_lexer": "ipython3",
   "version": "3.9.15"
  },
  "orig_nbformat": 4,
  "vscode": {
   "interpreter": {
    "hash": "c0de598c4e13c0bc0daa0f1515205270a88f8656cf701de288f6c6743b0ef60d"
   }
  }
 },
 "nbformat": 4,
 "nbformat_minor": 2
}
