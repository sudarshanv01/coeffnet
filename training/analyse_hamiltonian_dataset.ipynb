{
 "cells": [
  {
   "cell_type": "code",
   "execution_count": 1,
   "metadata": {},
   "outputs": [
    {
     "name": "stderr",
     "output_type": "stream",
     "text": [
      "ERROR:wandb.jupyter:Failed to detect the name of this notebook, you can set it manually with the WANDB_NOTEBOOK_NAME environment variable to enable code saving.\n",
      "\u001b[34m\u001b[1mwandb\u001b[0m: Currently logged in as: \u001b[33msudarshanvj\u001b[0m. Use \u001b[1m`wandb login --relogin`\u001b[0m to force relogin\n"
     ]
    },
    {
     "data": {
      "text/html": [
       "wandb version 0.14.2 is available!  To upgrade, please run:\n",
       " $ pip install wandb --upgrade"
      ],
      "text/plain": [
       "<IPython.core.display.HTML object>"
      ]
     },
     "metadata": {},
     "output_type": "display_data"
    },
    {
     "data": {
      "text/html": [
       "Tracking run with wandb version 0.13.10"
      ],
      "text/plain": [
       "<IPython.core.display.HTML object>"
      ]
     },
     "metadata": {},
     "output_type": "display_data"
    },
    {
     "data": {
      "text/html": [
       "Run data is saved locally in <code>/Users/sudarshanvijay/Documents/projects/18_SEI/minimal-basis/training/wandb/run-20230414_100040-rlaehze2</code>"
      ],
      "text/plain": [
       "<IPython.core.display.HTML object>"
      ]
     },
     "metadata": {},
     "output_type": "display_data"
    },
    {
     "data": {
      "text/html": [
       "Syncing run <strong><a href='https://wandb.ai/sudarshanvj/minimal-basis-training/runs/rlaehze2' target=\"_blank\">lively-sky-48</a></strong> to <a href='https://wandb.ai/sudarshanvj/minimal-basis-training' target=\"_blank\">Weights & Biases</a> (<a href='https://wandb.me/run' target=\"_blank\">docs</a>)<br/>"
      ],
      "text/plain": [
       "<IPython.core.display.HTML object>"
      ]
     },
     "metadata": {},
     "output_type": "display_data"
    },
    {
     "data": {
      "text/html": [
       " View project at <a href='https://wandb.ai/sudarshanvj/minimal-basis-training' target=\"_blank\">https://wandb.ai/sudarshanvj/minimal-basis-training</a>"
      ],
      "text/plain": [
       "<IPython.core.display.HTML object>"
      ]
     },
     "metadata": {},
     "output_type": "display_data"
    },
    {
     "data": {
      "text/html": [
       " View run at <a href='https://wandb.ai/sudarshanvj/minimal-basis-training/runs/rlaehze2' target=\"_blank\">https://wandb.ai/sudarshanvj/minimal-basis-training/runs/rlaehze2</a>"
      ],
      "text/plain": [
       "<IPython.core.display.HTML object>"
      ]
     },
     "metadata": {},
     "output_type": "display_data"
    }
   ],
   "source": [
    "import os\n",
    "\n",
    "import numpy as np\n",
    "\n",
    "import plotly.express as px\n",
    "\n",
    "import torch\n",
    "from torch_geometric.loader import DataLoader\n",
    "import torch_geometric.transforms as T\n",
    "\n",
    "from minimal_basis.dataset.dataset_reaction import ReactionDataset\n",
    "from minimal_basis.transforms.absolute import Absolute\n",
    "\n",
    "from utils import (\n",
    "    get_test_data_path,\n",
    "    get_validation_data_path,\n",
    "    get_train_data_path,\n",
    "    read_inputs_yaml,\n",
    ")\n",
    "\n",
    "from ase import units as ase_units\n",
    "from ase.data import atomic_numbers, atomic_names\n",
    "\n",
    "import matplotlib.pyplot as plt\n",
    "plt.rcParams['figure.dpi'] = 200\n",
    "\n",
    "import warnings\n",
    "warnings.simplefilter(action='ignore', category=FutureWarning)\n",
    "warnings.simplefilter(action='ignore', category=UserWarning)\n",
    "\n",
    "import wandb\n",
    "run = wandb.init()"
   ]
  },
  {
   "cell_type": "code",
   "execution_count": 2,
   "metadata": {},
   "outputs": [
    {
     "name": "stderr",
     "output_type": "stream",
     "text": [
      "INFO:minimal_basis.dataset.dataset_reaction:Successfully loaded json file with data.\n",
      "INFO:minimal_basis.dataset.dataset_reaction:Successfully loaded json file with basis information.\n",
      "INFO:minimal_basis.dataset.dataset_reaction:Parsing basis information.\n",
      "INFO:minimal_basis.dataset.dataset_reaction:Successfully loaded json file with data.\n",
      "INFO:minimal_basis.dataset.dataset_reaction:Successfully loaded json file with basis information.\n",
      "INFO:minimal_basis.dataset.dataset_reaction:Parsing basis information.\n"
     ]
    }
   ],
   "source": [
    "inputs = read_inputs_yaml(os.path.join(\"input_files\", \"reaction_model.yaml\"))\n",
    "\n",
    "train_json_filename = inputs[\"debug_train_json\"]\n",
    "validate_json_filename = inputs[\"debug_validate_json\"]\n",
    "kwargs_dataset = inputs[\"dataset_options\"]\n",
    "kwargs_dataset[\"use_minimal_basis_node_features\"] = inputs[\n",
    "    \"use_minimal_basis_node_features\"\n",
    "]\n",
    "\n",
    "train_dataset = ReactionDataset( \n",
    "    root=get_train_data_path(),\n",
    "    filename=train_json_filename,\n",
    "    basis_filename=inputs[\"basis_file\"],\n",
    "    **kwargs_dataset\n",
    ")\n",
    "\n",
    "validation_dataset = ReactionDataset(\n",
    "    root=get_validation_data_path(),\n",
    "    filename=validate_json_filename,\n",
    "    basis_filename=inputs[\"basis_file\"],\n",
    "    **kwargs_dataset\n",
    ")"
   ]
  },
  {
   "cell_type": "code",
   "execution_count": 3,
   "metadata": {},
   "outputs": [],
   "source": [
    "train_loader = DataLoader(train_dataset, batch_size=1, shuffle=True)\n",
    "validation_loader = DataLoader(validation_dataset, batch_size=1, shuffle=True)"
   ]
  },
  {
   "cell_type": "code",
   "execution_count": 4,
   "metadata": {},
   "outputs": [
    {
     "data": {
      "application/vnd.plotly.v1+json": {
       "config": {
        "plotlyServerURL": "https://plot.ly"
       },
       "data": [
        {
         "alignmentgroup": "True",
         "bingroup": "x",
         "hovertemplate": "x=%{x}<br>count=%{y}<extra></extra>",
         "legendgroup": "",
         "marker": {
          "color": "#1F77B4",
          "pattern": {
           "shape": ""
          }
         },
         "name": "",
         "nbinsx": 20,
         "offsetgroup": "",
         "orientation": "v",
         "showlegend": false,
         "type": "histogram",
         "x": [
          0.006400100886821747,
          0.0114030996337533,
          0.015516860410571098,
          0.01750369928777218,
          0.010207610204815865,
          0.011537166312336922,
          0.0016874028369784355,
          0.014397433958947659,
          0.007835672236979008,
          0.022514501586556435,
          0.0008000744273886085,
          0.00031987272086553276,
          0.0038453557062894106,
          0.002457561669871211,
          0.009160473011434078,
          0.004333676304668188,
          0.001185598666779697,
          0.0005406448035500944,
          0.012626685202121735,
          0.011559968814253807,
          0.009211268275976181,
          0.0008683992200531065,
          0.006094276439398527,
          0.023403260856866837,
          0.0008294423460029066,
          0.003776902100071311,
          0.0021813600324094296,
          0.009127099066972733,
          0.0004724810132756829,
          0.004216211847960949,
          0.02455119602382183,
          0.011205814778804779,
          0.018041890114545822,
          0.0008401841623708606,
          0.009055125527083874,
          0.00627159234136343,
          0.0028207246214151382,
          0.002460998250171542,
          0.011402376927435398,
          0.013321351259946823,
          0.001682473230175674,
          0.006653016898781061,
          0.026385199278593063,
          0.01437784917652607,
          0.03353588283061981,
          0.007624923251569271,
          0.004904426634311676,
          0.0019136687042191625,
          0.01689370721578598,
          0.02080146037042141,
          0.00730548333376646,
          0.00740744499489665,
          0.0036742682568728924,
          0.011110343039035797,
          0.0026615166570991278,
          0.004180814139544964,
          0.001589045044966042,
          0.01435902714729309,
          0.021726392209529877,
          0.006225717719644308,
          0.004808112047612667,
          0.013961216434836388,
          0.012687882408499718,
          0.0045994957908988,
          0.005090304184705019,
          0.0206097811460495,
          0.0018112496472895145,
          0.014464646577835083,
          0.015124393627047539,
          0.004587557632476091,
          0.0074250949546694756,
          0.02568124420940876,
          0.0049073523841798306,
          0.0012297629145905375,
          0.0019555839244276285,
          0.005829000845551491,
          0.005503482185304165,
          0.01626497693359852,
          0.008150310255587101,
          0.003302249824628234
         ],
         "xaxis": "x",
         "yaxis": "y"
        }
       ],
       "layout": {
        "autosize": false,
        "barmode": "relative",
        "height": 500,
        "legend": {
         "tracegroupgap": 0
        },
        "margin": {
         "t": 60
        },
        "template": {
         "data": {
          "bar": [
           {
            "error_x": {
             "color": "rgb(36,36,36)"
            },
            "error_y": {
             "color": "rgb(36,36,36)"
            },
            "marker": {
             "line": {
              "color": "white",
              "width": 0.5
             },
             "pattern": {
              "fillmode": "overlay",
              "size": 10,
              "solidity": 0.2
             }
            },
            "type": "bar"
           }
          ],
          "barpolar": [
           {
            "marker": {
             "line": {
              "color": "white",
              "width": 0.5
             },
             "pattern": {
              "fillmode": "overlay",
              "size": 10,
              "solidity": 0.2
             }
            },
            "type": "barpolar"
           }
          ],
          "carpet": [
           {
            "aaxis": {
             "endlinecolor": "rgb(36,36,36)",
             "gridcolor": "white",
             "linecolor": "white",
             "minorgridcolor": "white",
             "startlinecolor": "rgb(36,36,36)"
            },
            "baxis": {
             "endlinecolor": "rgb(36,36,36)",
             "gridcolor": "white",
             "linecolor": "white",
             "minorgridcolor": "white",
             "startlinecolor": "rgb(36,36,36)"
            },
            "type": "carpet"
           }
          ],
          "choropleth": [
           {
            "colorbar": {
             "outlinewidth": 1,
             "tickcolor": "rgb(36,36,36)",
             "ticks": "outside"
            },
            "type": "choropleth"
           }
          ],
          "contour": [
           {
            "colorbar": {
             "outlinewidth": 1,
             "tickcolor": "rgb(36,36,36)",
             "ticks": "outside"
            },
            "colorscale": [
             [
              0,
              "#440154"
             ],
             [
              0.1111111111111111,
              "#482878"
             ],
             [
              0.2222222222222222,
              "#3e4989"
             ],
             [
              0.3333333333333333,
              "#31688e"
             ],
             [
              0.4444444444444444,
              "#26828e"
             ],
             [
              0.5555555555555556,
              "#1f9e89"
             ],
             [
              0.6666666666666666,
              "#35b779"
             ],
             [
              0.7777777777777778,
              "#6ece58"
             ],
             [
              0.8888888888888888,
              "#b5de2b"
             ],
             [
              1,
              "#fde725"
             ]
            ],
            "type": "contour"
           }
          ],
          "contourcarpet": [
           {
            "colorbar": {
             "outlinewidth": 1,
             "tickcolor": "rgb(36,36,36)",
             "ticks": "outside"
            },
            "type": "contourcarpet"
           }
          ],
          "heatmap": [
           {
            "colorbar": {
             "outlinewidth": 1,
             "tickcolor": "rgb(36,36,36)",
             "ticks": "outside"
            },
            "colorscale": [
             [
              0,
              "#440154"
             ],
             [
              0.1111111111111111,
              "#482878"
             ],
             [
              0.2222222222222222,
              "#3e4989"
             ],
             [
              0.3333333333333333,
              "#31688e"
             ],
             [
              0.4444444444444444,
              "#26828e"
             ],
             [
              0.5555555555555556,
              "#1f9e89"
             ],
             [
              0.6666666666666666,
              "#35b779"
             ],
             [
              0.7777777777777778,
              "#6ece58"
             ],
             [
              0.8888888888888888,
              "#b5de2b"
             ],
             [
              1,
              "#fde725"
             ]
            ],
            "type": "heatmap"
           }
          ],
          "heatmapgl": [
           {
            "colorbar": {
             "outlinewidth": 1,
             "tickcolor": "rgb(36,36,36)",
             "ticks": "outside"
            },
            "colorscale": [
             [
              0,
              "#440154"
             ],
             [
              0.1111111111111111,
              "#482878"
             ],
             [
              0.2222222222222222,
              "#3e4989"
             ],
             [
              0.3333333333333333,
              "#31688e"
             ],
             [
              0.4444444444444444,
              "#26828e"
             ],
             [
              0.5555555555555556,
              "#1f9e89"
             ],
             [
              0.6666666666666666,
              "#35b779"
             ],
             [
              0.7777777777777778,
              "#6ece58"
             ],
             [
              0.8888888888888888,
              "#b5de2b"
             ],
             [
              1,
              "#fde725"
             ]
            ],
            "type": "heatmapgl"
           }
          ],
          "histogram": [
           {
            "marker": {
             "line": {
              "color": "white",
              "width": 0.6
             }
            },
            "type": "histogram"
           }
          ],
          "histogram2d": [
           {
            "colorbar": {
             "outlinewidth": 1,
             "tickcolor": "rgb(36,36,36)",
             "ticks": "outside"
            },
            "colorscale": [
             [
              0,
              "#440154"
             ],
             [
              0.1111111111111111,
              "#482878"
             ],
             [
              0.2222222222222222,
              "#3e4989"
             ],
             [
              0.3333333333333333,
              "#31688e"
             ],
             [
              0.4444444444444444,
              "#26828e"
             ],
             [
              0.5555555555555556,
              "#1f9e89"
             ],
             [
              0.6666666666666666,
              "#35b779"
             ],
             [
              0.7777777777777778,
              "#6ece58"
             ],
             [
              0.8888888888888888,
              "#b5de2b"
             ],
             [
              1,
              "#fde725"
             ]
            ],
            "type": "histogram2d"
           }
          ],
          "histogram2dcontour": [
           {
            "colorbar": {
             "outlinewidth": 1,
             "tickcolor": "rgb(36,36,36)",
             "ticks": "outside"
            },
            "colorscale": [
             [
              0,
              "#440154"
             ],
             [
              0.1111111111111111,
              "#482878"
             ],
             [
              0.2222222222222222,
              "#3e4989"
             ],
             [
              0.3333333333333333,
              "#31688e"
             ],
             [
              0.4444444444444444,
              "#26828e"
             ],
             [
              0.5555555555555556,
              "#1f9e89"
             ],
             [
              0.6666666666666666,
              "#35b779"
             ],
             [
              0.7777777777777778,
              "#6ece58"
             ],
             [
              0.8888888888888888,
              "#b5de2b"
             ],
             [
              1,
              "#fde725"
             ]
            ],
            "type": "histogram2dcontour"
           }
          ],
          "mesh3d": [
           {
            "colorbar": {
             "outlinewidth": 1,
             "tickcolor": "rgb(36,36,36)",
             "ticks": "outside"
            },
            "type": "mesh3d"
           }
          ],
          "parcoords": [
           {
            "line": {
             "colorbar": {
              "outlinewidth": 1,
              "tickcolor": "rgb(36,36,36)",
              "ticks": "outside"
             }
            },
            "type": "parcoords"
           }
          ],
          "pie": [
           {
            "automargin": true,
            "type": "pie"
           }
          ],
          "scatter": [
           {
            "fillpattern": {
             "fillmode": "overlay",
             "size": 10,
             "solidity": 0.2
            },
            "type": "scatter"
           }
          ],
          "scatter3d": [
           {
            "line": {
             "colorbar": {
              "outlinewidth": 1,
              "tickcolor": "rgb(36,36,36)",
              "ticks": "outside"
             }
            },
            "marker": {
             "colorbar": {
              "outlinewidth": 1,
              "tickcolor": "rgb(36,36,36)",
              "ticks": "outside"
             }
            },
            "type": "scatter3d"
           }
          ],
          "scattercarpet": [
           {
            "marker": {
             "colorbar": {
              "outlinewidth": 1,
              "tickcolor": "rgb(36,36,36)",
              "ticks": "outside"
             }
            },
            "type": "scattercarpet"
           }
          ],
          "scattergeo": [
           {
            "marker": {
             "colorbar": {
              "outlinewidth": 1,
              "tickcolor": "rgb(36,36,36)",
              "ticks": "outside"
             }
            },
            "type": "scattergeo"
           }
          ],
          "scattergl": [
           {
            "marker": {
             "colorbar": {
              "outlinewidth": 1,
              "tickcolor": "rgb(36,36,36)",
              "ticks": "outside"
             }
            },
            "type": "scattergl"
           }
          ],
          "scattermapbox": [
           {
            "marker": {
             "colorbar": {
              "outlinewidth": 1,
              "tickcolor": "rgb(36,36,36)",
              "ticks": "outside"
             }
            },
            "type": "scattermapbox"
           }
          ],
          "scatterpolar": [
           {
            "marker": {
             "colorbar": {
              "outlinewidth": 1,
              "tickcolor": "rgb(36,36,36)",
              "ticks": "outside"
             }
            },
            "type": "scatterpolar"
           }
          ],
          "scatterpolargl": [
           {
            "marker": {
             "colorbar": {
              "outlinewidth": 1,
              "tickcolor": "rgb(36,36,36)",
              "ticks": "outside"
             }
            },
            "type": "scatterpolargl"
           }
          ],
          "scatterternary": [
           {
            "marker": {
             "colorbar": {
              "outlinewidth": 1,
              "tickcolor": "rgb(36,36,36)",
              "ticks": "outside"
             }
            },
            "type": "scatterternary"
           }
          ],
          "surface": [
           {
            "colorbar": {
             "outlinewidth": 1,
             "tickcolor": "rgb(36,36,36)",
             "ticks": "outside"
            },
            "colorscale": [
             [
              0,
              "#440154"
             ],
             [
              0.1111111111111111,
              "#482878"
             ],
             [
              0.2222222222222222,
              "#3e4989"
             ],
             [
              0.3333333333333333,
              "#31688e"
             ],
             [
              0.4444444444444444,
              "#26828e"
             ],
             [
              0.5555555555555556,
              "#1f9e89"
             ],
             [
              0.6666666666666666,
              "#35b779"
             ],
             [
              0.7777777777777778,
              "#6ece58"
             ],
             [
              0.8888888888888888,
              "#b5de2b"
             ],
             [
              1,
              "#fde725"
             ]
            ],
            "type": "surface"
           }
          ],
          "table": [
           {
            "cells": {
             "fill": {
              "color": "rgb(237,237,237)"
             },
             "line": {
              "color": "white"
             }
            },
            "header": {
             "fill": {
              "color": "rgb(217,217,217)"
             },
             "line": {
              "color": "white"
             }
            },
            "type": "table"
           }
          ]
         },
         "layout": {
          "annotationdefaults": {
           "arrowhead": 0,
           "arrowwidth": 1
          },
          "autotypenumbers": "strict",
          "coloraxis": {
           "colorbar": {
            "outlinewidth": 1,
            "tickcolor": "rgb(36,36,36)",
            "ticks": "outside"
           }
          },
          "colorscale": {
           "diverging": [
            [
             0,
             "rgb(103,0,31)"
            ],
            [
             0.1,
             "rgb(178,24,43)"
            ],
            [
             0.2,
             "rgb(214,96,77)"
            ],
            [
             0.3,
             "rgb(244,165,130)"
            ],
            [
             0.4,
             "rgb(253,219,199)"
            ],
            [
             0.5,
             "rgb(247,247,247)"
            ],
            [
             0.6,
             "rgb(209,229,240)"
            ],
            [
             0.7,
             "rgb(146,197,222)"
            ],
            [
             0.8,
             "rgb(67,147,195)"
            ],
            [
             0.9,
             "rgb(33,102,172)"
            ],
            [
             1,
             "rgb(5,48,97)"
            ]
           ],
           "sequential": [
            [
             0,
             "#440154"
            ],
            [
             0.1111111111111111,
             "#482878"
            ],
            [
             0.2222222222222222,
             "#3e4989"
            ],
            [
             0.3333333333333333,
             "#31688e"
            ],
            [
             0.4444444444444444,
             "#26828e"
            ],
            [
             0.5555555555555556,
             "#1f9e89"
            ],
            [
             0.6666666666666666,
             "#35b779"
            ],
            [
             0.7777777777777778,
             "#6ece58"
            ],
            [
             0.8888888888888888,
             "#b5de2b"
            ],
            [
             1,
             "#fde725"
            ]
           ],
           "sequentialminus": [
            [
             0,
             "#440154"
            ],
            [
             0.1111111111111111,
             "#482878"
            ],
            [
             0.2222222222222222,
             "#3e4989"
            ],
            [
             0.3333333333333333,
             "#31688e"
            ],
            [
             0.4444444444444444,
             "#26828e"
            ],
            [
             0.5555555555555556,
             "#1f9e89"
            ],
            [
             0.6666666666666666,
             "#35b779"
            ],
            [
             0.7777777777777778,
             "#6ece58"
            ],
            [
             0.8888888888888888,
             "#b5de2b"
            ],
            [
             1,
             "#fde725"
            ]
           ]
          },
          "colorway": [
           "#1F77B4",
           "#FF7F0E",
           "#2CA02C",
           "#D62728",
           "#9467BD",
           "#8C564B",
           "#E377C2",
           "#7F7F7F",
           "#BCBD22",
           "#17BECF"
          ],
          "font": {
           "color": "rgb(36,36,36)"
          },
          "geo": {
           "bgcolor": "white",
           "lakecolor": "white",
           "landcolor": "white",
           "showlakes": true,
           "showland": true,
           "subunitcolor": "white"
          },
          "hoverlabel": {
           "align": "left"
          },
          "hovermode": "closest",
          "mapbox": {
           "style": "light"
          },
          "paper_bgcolor": "white",
          "plot_bgcolor": "white",
          "polar": {
           "angularaxis": {
            "gridcolor": "rgb(232,232,232)",
            "linecolor": "rgb(36,36,36)",
            "showgrid": false,
            "showline": true,
            "ticks": "outside"
           },
           "bgcolor": "white",
           "radialaxis": {
            "gridcolor": "rgb(232,232,232)",
            "linecolor": "rgb(36,36,36)",
            "showgrid": false,
            "showline": true,
            "ticks": "outside"
           }
          },
          "scene": {
           "xaxis": {
            "backgroundcolor": "white",
            "gridcolor": "rgb(232,232,232)",
            "gridwidth": 2,
            "linecolor": "rgb(36,36,36)",
            "showbackground": true,
            "showgrid": false,
            "showline": true,
            "ticks": "outside",
            "zeroline": false,
            "zerolinecolor": "rgb(36,36,36)"
           },
           "yaxis": {
            "backgroundcolor": "white",
            "gridcolor": "rgb(232,232,232)",
            "gridwidth": 2,
            "linecolor": "rgb(36,36,36)",
            "showbackground": true,
            "showgrid": false,
            "showline": true,
            "ticks": "outside",
            "zeroline": false,
            "zerolinecolor": "rgb(36,36,36)"
           },
           "zaxis": {
            "backgroundcolor": "white",
            "gridcolor": "rgb(232,232,232)",
            "gridwidth": 2,
            "linecolor": "rgb(36,36,36)",
            "showbackground": true,
            "showgrid": false,
            "showline": true,
            "ticks": "outside",
            "zeroline": false,
            "zerolinecolor": "rgb(36,36,36)"
           }
          },
          "shapedefaults": {
           "fillcolor": "black",
           "line": {
            "width": 0
           },
           "opacity": 0.3
          },
          "ternary": {
           "aaxis": {
            "gridcolor": "rgb(232,232,232)",
            "linecolor": "rgb(36,36,36)",
            "showgrid": false,
            "showline": true,
            "ticks": "outside"
           },
           "baxis": {
            "gridcolor": "rgb(232,232,232)",
            "linecolor": "rgb(36,36,36)",
            "showgrid": false,
            "showline": true,
            "ticks": "outside"
           },
           "bgcolor": "white",
           "caxis": {
            "gridcolor": "rgb(232,232,232)",
            "linecolor": "rgb(36,36,36)",
            "showgrid": false,
            "showline": true,
            "ticks": "outside"
           }
          },
          "title": {
           "x": 0.05
          },
          "xaxis": {
           "automargin": true,
           "gridcolor": "rgb(232,232,232)",
           "linecolor": "rgb(36,36,36)",
           "showgrid": false,
           "showline": true,
           "ticks": "outside",
           "title": {
            "standoff": 15
           },
           "zeroline": false,
           "zerolinecolor": "rgb(36,36,36)"
          },
          "yaxis": {
           "automargin": true,
           "gridcolor": "rgb(232,232,232)",
           "linecolor": "rgb(36,36,36)",
           "showgrid": false,
           "showline": true,
           "ticks": "outside",
           "title": {
            "standoff": 15
           },
           "zeroline": false,
           "zerolinecolor": "rgb(36,36,36)"
          }
         }
        },
        "title": {
         "text": "MAE structure prediction (Å)"
        },
        "width": 600,
        "xaxis": {
         "anchor": "y",
         "domain": [
          0,
          1
         ],
         "title": {
          "text": "MAE (Å)"
         }
        },
        "yaxis": {
         "anchor": "x",
         "domain": [
          0,
          1
         ],
         "title": {
          "text": "Frequency"
         }
        }
       }
      }
     },
     "metadata": {},
     "output_type": "display_data"
    }
   ],
   "source": [
    "all_mae_norms = []\n",
    "\n",
    "for idx, data in enumerate(train_loader):\n",
    "\n",
    "    interpolated_ts_coords = data.pos_interpolated_transition_state.detach().numpy()\n",
    "    real_ts_coords = data.pos_transition_state.detach().numpy()\n",
    "    difference_ts_coords = interpolated_ts_coords - real_ts_coords\n",
    "    norm_difference_ts_coords = np.linalg.norm(difference_ts_coords, axis=1)\n",
    "\n",
    "    # Mean absolute error\n",
    "    mae = np.mean(norm_difference_ts_coords)\n",
    "    all_mae_norms.append(mae)\n",
    "\n",
    "    # Plot the real and interpolated TS structures\n",
    "    # with two different colors on the same plot\n",
    "    fig = px.scatter_3d(\n",
    "        x=np.concatenate((real_ts_coords[:, 0], interpolated_ts_coords[:, 0])),\n",
    "        y=np.concatenate((real_ts_coords[:, 1], interpolated_ts_coords[:, 1])),\n",
    "        z=np.concatenate((real_ts_coords[:, 2], interpolated_ts_coords[:, 2])),\n",
    "        color=np.concatenate((np.zeros(len(real_ts_coords)), np.ones(len(interpolated_ts_coords)))),\n",
    "    )\n",
    "\n",
    "    # Set the title of the plot as the mean absolute error\n",
    "    fig.update_layout(title=f\"MAE of structure prediction: {mae:.3f} Å\")\n",
    "    fig.write_html(f\"plots/hamiltonian_model/interpolated_ts_{idx}_mae_{mae:.3f}.html\")\n",
    "\n",
    "# Plot a histogram of the MAE\n",
    "fig = px.histogram(x=all_mae_norms, nbins=20, template=\"simple_white\")\n",
    "fig.update_layout(title=\"MAE structure prediction (Å)\")\n",
    "fig.update_xaxes(title_text=\"MAE (Å)\")\n",
    "fig.update_yaxes(title_text=\"Frequency\")\n",
    "fig.write_html(\"plots/hamiltonian_model/interpolated_ts_mae_histogram.html\")\n",
    "\n",
    "# Reduce the aspect ratio\n",
    "fig.update_layout(\n",
    "    autosize=False,\n",
    "    width=600,\n",
    "    height=500,\n",
    ")\n",
    "\n",
    "fig.show()"
   ]
  },
  {
   "cell_type": "code",
   "execution_count": null,
   "metadata": {},
   "outputs": [],
   "source": [
    "artifact_coeff = run.use_artifact('sudarshanvj/reaction/reaction_model:v18', type='model')\n",
    "artifact_dir_coeff = artifact_coeff.download()\n",
    "artifact_barrier = run.use_artifact('sudarshanvj/reaction/reaction_model:v17', type='model')\n",
    "artifact_dir_barrier = artifact_barrier.download()\n",
    "artifact_forces = run.use_artifact('sudarshanvj/reaction/reaction_model:v16', type='model')\n",
    "artifact_dir_forces = artifact_forces.download()"
   ]
  },
  {
   "cell_type": "code",
   "execution_count": 9,
   "metadata": {},
   "outputs": [
    {
     "name": "stdout",
     "output_type": "stream",
     "text": [
      "Sum of squares of output: 1.000\n",
      "Sum of squares of expected: 1.000\n",
      "Sum of differences: 5.542\n",
      "Max differences 0.64718074\n"
     ]
    },
    {
     "data": {
      "image/png": "[encoded data removed]",
      "text/plain": [
       "<Figure size 1500x1500 with 6 Axes>"
      ]
     },
     "metadata": {},
     "output_type": "display_data"
    }
   ],
   "source": [
    "# Read in the model\n",
    "model = torch.load(\"output/reaction_model.pt\")\n",
    "# model = torch.load(os.path.join(artifact_dir_coeff, \"reaction_model.pt\"), map_location=torch.device('cpu'))\n",
    "\n",
    "for idx, data in enumerate(train_loader):\n",
    "    output = model(data)\n",
    "    output = output.detach().numpy()\n",
    "    sum_squares_ouput = np.sum(output**2)\n",
    "    print(f\"Sum of squares of output: {sum_squares_ouput:.3f}\")\n",
    "\n",
    "    expected = data.x_transition_state.detach().numpy()\n",
    "    sum_squares_expected = np.sum(expected**2)\n",
    "    print(f\"Sum of squares of expected: {sum_squares_expected:.3f}\")\n",
    "\n",
    "    difference_subtract = output - expected\n",
    "    difference_add = output + expected\n",
    "    difference_subtract_max = np.max(np.abs(difference_subtract))\n",
    "    difference_add_max = np.max(np.abs(difference_add))\n",
    "    difference = difference_add if difference_add_max < difference_subtract_max else difference_subtract \n",
    "    sum_differences = np.sum(np.abs(difference))\n",
    "    print(f\"Sum of differences: {sum_differences:.3f}\")\n",
    "    print(f\"Max differences\", np.max(np.abs(difference)))\n",
    "\n",
    "    fig, axs = plt.subplots(3, 1, figsize=(10,10),  sharey=True, sharex=True, facecolor='w')\n",
    "    cax = axs[0].imshow(output, cmap=\"cividis\")\n",
    "    fig.colorbar(cax, ax=axs[0])\n",
    "    axs[0].set_title(\"Output $\\mathbf{C}$ from model\")\n",
    "    cax = axs[1].imshow(expected, cmap=\"cividis\")\n",
    "    fig.colorbar(cax, ax=axs[1])\n",
    "    cax.set_clim(axs[0].get_images()[0].get_clim())\n",
    "    axs[1].set_title(\"Calculated $\\mathbf{C}$ from DFT\")\n",
    "    cax = axs[2].imshow(difference, cmap=\"Blues\")\n",
    "    fig.colorbar(cax, ax=axs[2])\n",
    "    axs[2].set_title(\"Difference $\\mathbf{C}$ from model - $\\mathbf{C}$ from DFT\")\n",
    "\n",
    "    tickvals = data.species.view(-1).detach().numpy().flatten()\n",
    "    tickvals_species = [atomic_names[int(tickval)] for tickval in tickvals]\n",
    "    axs[0].set_yticks(np.arange(len(tickvals)))\n",
    "    axs[0].set_yticklabels(tickvals_species)\n",
    "    axs[1].set_yticks(np.arange(len(tickvals)))\n",
    "    axs[1].set_yticklabels(tickvals_species)\n",
    "    axs[2].set_yticks(np.arange(len(tickvals)))\n",
    "    axs[2].set_yticklabels(tickvals_species)\n",
    "    axs[0].set_xticks(np.arange(35))\n",
    "    # axs[0].set_xticks(np.arange(4))\n",
    "    axs[0].set_xticklabels(5 *[\"s\"] + 12*[\"p\"] + 3*[\"s\" , \"d\" , \"d\" , \"d\" , \"d\" , \"d\"])\n",
    "    # axs[0].set_xticklabels(1*[\"s\"] + 3*[\"p\"])\n",
    "    # axs[0].set_ylabel(\"Atom Number\")\n",
    "    # axs[1].set_ylabel(\"Atom Number\")\n",
    "    # axs[2].set_ylabel(\"Atom Number\")\n",
    "    fig.tight_layout()\n",
    "    # Improve dpi\n",
    "    fig.set_dpi(150)\n",
    "    plt.show()\n",
    "\n",
    "    break"
   ]
  },
  {
   "cell_type": "code",
   "execution_count": null,
   "metadata": {},
   "outputs": [],
   "source": [
    "all_output_c = []\n",
    "all_expected_c = []\n",
    "for idx, data in enumerate(validation_loader_abs):\n",
    "    output = model(data)\n",
    "    output = output.detach().numpy()\n",
    "    output = np.abs(output)\n",
    "    expected = data.x_transition_state.detach().numpy()\n",
    "\n",
    "    all_output_c.append(output.flatten())\n",
    "    all_expected_c.append(expected.flatten())\n",
    "\n",
    "all_output_c = np.array(all_output_c)\n",
    "all_expected_c = np.array(all_expected_c)\n",
    "fig = px.scatter(x=all_output_c, y=all_expected_c)\n",
    "fig.show()"
   ]
  },
  {
   "cell_type": "code",
   "execution_count": null,
   "metadata": {},
   "outputs": [],
   "source": [
    "# Read in the model\n",
    "# model = torch.load(\"output/reaction_model.pt\")\n",
    "model = torch.load(os.path.join(artifact_dir_barrier, \"reaction_model.pt\"), map_location=torch.device('cpu'))\n",
    "\n",
    "outputs = []\n",
    "expecteds = []\n",
    "\n",
    "for idx, data in enumerate(validation_loader):\n",
    "    output = model(data)\n",
    "    output = output.mean(dim=1)\n",
    "    \n",
    "    output = output.detach().numpy()\n",
    "    expected = data.total_energy_transition_state - data.total_energy\n",
    "    expected = expected.detach().numpy()\n",
    "\n",
    "    outputs.append(output[0])\n",
    "    expecteds.append(expected[0])\n",
    "\n",
    "\n",
    "# Make a parity plot of the output vs. expected\n",
    "outputs = np.array(outputs).flatten()\n",
    "expecteds = np.array(expecteds).flatten()\n",
    "outputs *= ase_units.Ha\n",
    "expecteds *= ase_units.Ha\n",
    "\n",
    "# Remove entries from output and expected that less than 0\n",
    "idx_to_remove = np.where(expecteds < 0)[0]\n",
    "outputs = np.delete(outputs, idx_to_remove)\n",
    "expecteds = np.delete(expecteds, idx_to_remove)\n",
    "\n",
    "\n",
    "# Number of points\n",
    "print(f\"Number of points: {len(outputs)}\")\n",
    "# Determine the mean absolute error\n",
    "mae = np.mean(np.abs(outputs - expecteds))\n",
    "print(f\"Mean absolute error: {mae:.3f} eV\")\n",
    "\n",
    "fig = px.scatter(x=expecteds, y=outputs, template=\"simple_white\")\n",
    "# fig.update_layout(title=\"Parity plot of the output vs. expected barriers\")\n",
    "fig.update_xaxes(title_text=\"DFT Computed Barrier (eV)\")\n",
    "fig.update_yaxes(title_text=\"Model Output Barrier (eV)\")\n",
    "# Set x and y axes to be greater than 0\n",
    "# fig.update_xaxes(range=[0, outputs.max()])\n",
    "# fig.update_yaxes(range=[0, outputs.max()])\n",
    "# Draw the parity line\n",
    "fig.add_shape(\n",
    "    type=\"line\",\n",
    "    x0=outputs.min(),\n",
    "    y0=outputs.min(),\n",
    "    x1=outputs.max(),\n",
    "    y1=outputs.max(),\n",
    "    line=dict(\n",
    "        color=\"Red\",\n",
    "        width=4,\n",
    "        dash=\"dashdot\",\n",
    "    )\n",
    ")\n",
    "# Reduce the aspect ratio\n",
    "fig.update_layout(\n",
    "    autosize=False,\n",
    "    width=600,\n",
    "    height=500,\n",
    ")\n",
    "\n",
    "\n",
    "fig.show()"
   ]
  }
 ],
 "metadata": {
  "kernelspec": {
   "display_name": "molml",
   "language": "python",
   "name": "python3"
  },
  "language_info": {
   "codemirror_mode": {
    "name": "ipython",
    "version": 3
   },
   "file_extension": ".py",
   "mimetype": "text/x-python",
   "name": "python",
   "nbconvert_exporter": "python",
   "pygments_lexer": "ipython3",
   "version": "3.9.15"
  },
  "orig_nbformat": 4,
  "vscode": {
   "interpreter": {
    "hash": "c0de598c4e13c0bc0daa0f1515205270a88f8656cf701de288f6c6743b0ef60d"
   }
  }
 },
 "nbformat": 4,
 "nbformat_minor": 2
}
