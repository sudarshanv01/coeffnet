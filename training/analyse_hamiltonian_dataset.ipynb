{
 "cells": [
  {
   "cell_type": "code",
   "execution_count": 1,
   "metadata": {},
   "outputs": [
    {
     "name": "stderr",
     "output_type": "stream",
     "text": [
      "ERROR:wandb.jupyter:Failed to detect the name of this notebook, you can set it manually with the WANDB_NOTEBOOK_NAME environment variable to enable code saving.\n",
      "\u001b[34m\u001b[1mwandb\u001b[0m: Currently logged in as: \u001b[33msudarshanvj\u001b[0m. Use \u001b[1m`wandb login --relogin`\u001b[0m to force relogin\n"
     ]
    },
    {
     "data": {
      "text/html": [
       "wandb version 0.15.0 is available!  To upgrade, please run:\n",
       " $ pip install wandb --upgrade"
      ],
      "text/plain": [
       "<IPython.core.display.HTML object>"
      ]
     },
     "metadata": {},
     "output_type": "display_data"
    },
    {
     "data": {
      "text/html": [
       "Tracking run with wandb version 0.13.8"
      ],
      "text/plain": [
       "<IPython.core.display.HTML object>"
      ]
     },
     "metadata": {},
     "output_type": "display_data"
    },
    {
     "data": {
      "text/html": [
       "Run data is saved locally in <code>/Users/sudarshan/Documents/projects/UCB/18_SEI/minimal-basis/training/wandb/run-20230423_124450-t4i1fv9o</code>"
      ],
      "text/plain": [
       "<IPython.core.display.HTML object>"
      ]
     },
     "metadata": {},
     "output_type": "display_data"
    },
    {
     "data": {
      "text/html": [
       "Syncing run <strong><a href=\"https://wandb.ai/sudarshanvj/minimal-basis-training/runs/t4i1fv9o\" target=\"_blank\">proud-armadillo-60</a></strong> to <a href=\"https://wandb.ai/sudarshanvj/minimal-basis-training\" target=\"_blank\">Weights & Biases</a> (<a href=\"https://wandb.me/run\" target=\"_blank\">docs</a>)<br/>"
      ],
      "text/plain": [
       "<IPython.core.display.HTML object>"
      ]
     },
     "metadata": {},
     "output_type": "display_data"
    },
    {
     "data": {
      "text/html": [
       " View project at <a href=\"https://wandb.ai/sudarshanvj/minimal-basis-training\" target=\"_blank\">https://wandb.ai/sudarshanvj/minimal-basis-training</a>"
      ],
      "text/plain": [
       "<IPython.core.display.HTML object>"
      ]
     },
     "metadata": {},
     "output_type": "display_data"
    },
    {
     "data": {
      "text/html": [
       " View run at <a href=\"https://wandb.ai/sudarshanvj/minimal-basis-training/runs/t4i1fv9o\" target=\"_blank\">https://wandb.ai/sudarshanvj/minimal-basis-training/runs/t4i1fv9o</a>"
      ],
      "text/plain": [
       "<IPython.core.display.HTML object>"
      ]
     },
     "metadata": {},
     "output_type": "display_data"
    }
   ],
   "source": [
    "import os\n",
    "\n",
    "import numpy as np\n",
    "\n",
    "import plotly.express as px\n",
    "import plotly.graph_objects as go\n",
    "\n",
    "import torch\n",
    "from torch_geometric.loader import DataLoader\n",
    "import torch_geometric.transforms as T\n",
    "\n",
    "from minimal_basis.dataset.dataset_reaction import ReactionDataset\n",
    "from minimal_basis.transforms.absolute import Absolute\n",
    "\n",
    "from utils import (\n",
    "    get_test_data_path,\n",
    "    get_validation_data_path,\n",
    "    get_train_data_path,\n",
    "    read_inputs_yaml,\n",
    ")\n",
    "\n",
    "from ase import units as ase_units\n",
    "from ase.data import atomic_numbers, atomic_names\n",
    "\n",
    "import matplotlib.pyplot as plt\n",
    "plt.rcParams['figure.dpi'] = 200\n",
    "\n",
    "import warnings\n",
    "warnings.simplefilter(action='ignore', category=FutureWarning)\n",
    "warnings.simplefilter(action='ignore', category=UserWarning)\n",
    "\n",
    "import wandb\n",
    "run = wandb.init()"
   ]
  },
  {
   "cell_type": "code",
   "execution_count": 2,
   "metadata": {},
   "outputs": [
    {
     "name": "stderr",
     "output_type": "stream",
     "text": [
      "INFO:minimal_basis.dataset.dataset_reaction:Successfully loaded json file with data.\n",
      "INFO:minimal_basis.dataset.dataset_reaction:Successfully loaded json file with basis information.\n",
      "INFO:minimal_basis.dataset.dataset_reaction:Parsing basis information.\n",
      "Processing...\n",
      "Done!\n",
      "INFO:minimal_basis.dataset.dataset_reaction:Successfully loaded json file with data.\n",
      "INFO:minimal_basis.dataset.dataset_reaction:Successfully loaded json file with basis information.\n",
      "INFO:minimal_basis.dataset.dataset_reaction:Parsing basis information.\n",
      "Processing...\n",
      "Done!\n"
     ]
    }
   ],
   "source": [
    "inputs = read_inputs_yaml(os.path.join(\"input_files\", \"reaction_model.yaml\"))\n",
    "\n",
    "train_json_filename = inputs[\"train_json\"]\n",
    "validate_json_filename = inputs[\"validate_json\"]\n",
    "kwargs_dataset = inputs[\"dataset_options\"]\n",
    "kwargs_dataset[\"use_minimal_basis_node_features\"] = inputs[\n",
    "    \"use_minimal_basis_node_features\"\n",
    "]\n",
    "\n",
    "train_dataset = ReactionDataset( \n",
    "    root=get_train_data_path(),\n",
    "    filename=train_json_filename,\n",
    "    basis_filename=inputs[\"basis_file\"],\n",
    "    **kwargs_dataset\n",
    ")\n",
    "\n",
    "validation_dataset = ReactionDataset(\n",
    "    root=get_validation_data_path(),\n",
    "    filename=validate_json_filename,\n",
    "    basis_filename=inputs[\"basis_file\"],\n",
    "    **kwargs_dataset\n",
    ")"
   ]
  },
  {
   "cell_type": "code",
   "execution_count": 3,
   "metadata": {},
   "outputs": [],
   "source": [
    "train_loader = DataLoader(train_dataset, batch_size=1, shuffle=True)\n",
    "validation_loader = DataLoader(validation_dataset, batch_size=1, shuffle=True)"
   ]
  },
  {
   "cell_type": "code",
   "execution_count": null,
   "metadata": {},
   "outputs": [],
   "source": [
    "all_mae_norms = []\n",
    "\n",
    "for idx, data in enumerate(train_loader):\n",
    "\n",
    "    interpolated_ts_coords = data.pos_interpolated_transition_state.detach().numpy()\n",
    "    real_ts_coords = data.pos_transition_state.detach().numpy()\n",
    "    difference_ts_coords = interpolated_ts_coords - real_ts_coords\n",
    "    norm_difference_ts_coords = np.linalg.norm(difference_ts_coords, axis=1)\n",
    "\n",
    "    # Mean absolute error\n",
    "    mae = np.mean(norm_difference_ts_coords)\n",
    "    all_mae_norms.append(mae)\n",
    "\n",
    "    # Plot the real and interpolated TS structures\n",
    "    # with two different colors on the same plot\n",
    "    fig = px.scatter_3d(\n",
    "        x=np.concatenate((real_ts_coords[:, 0], interpolated_ts_coords[:, 0])),\n",
    "        y=np.concatenate((real_ts_coords[:, 1], interpolated_ts_coords[:, 1])),\n",
    "        z=np.concatenate((real_ts_coords[:, 2], interpolated_ts_coords[:, 2])),\n",
    "        color=np.concatenate((np.zeros(len(real_ts_coords)), np.ones(len(interpolated_ts_coords)))),\n",
    "    )\n",
    "\n",
    "    # Set the title of the plot as the mean absolute error\n",
    "    fig.update_layout(title=f\"MAE of structure prediction: {mae:.3f} Å\")\n",
    "    fig.write_html(f\"plots/hamiltonian_model/interpolated_ts_{idx}_mae_{mae:.3f}.html\")\n",
    "\n",
    "# Plot a histogram of the MAE\n",
    "fig = px.histogram(x=all_mae_norms, nbins=20, template=\"simple_white\")\n",
    "fig.update_layout(title=\"MAE structure prediction (Å)\")\n",
    "fig.update_xaxes(title_text=\"MAE (Å)\")\n",
    "fig.update_yaxes(title_text=\"Frequency\")\n",
    "fig.write_html(\"plots/hamiltonian_model/interpolated_ts_mae_histogram.html\")\n",
    "\n",
    "# Reduce the aspect ratio\n",
    "fig.update_layout(\n",
    "    autosize=False,\n",
    "    width=600,\n",
    "    height=500,\n",
    ")\n",
    "\n",
    "fig.show()"
   ]
  },
  {
   "cell_type": "code",
   "execution_count": 4,
   "metadata": {},
   "outputs": [
    {
     "name": "stderr",
     "output_type": "stream",
     "text": [
      "\u001b[34m\u001b[1mwandb\u001b[0m:   1 of 1 files downloaded.  \n",
      "\u001b[34m\u001b[1mwandb\u001b[0m:   1 of 1 files downloaded.  \n",
      "\u001b[34m\u001b[1mwandb\u001b[0m:   1 of 1 files downloaded.  \n"
     ]
    }
   ],
   "source": [
    "artifact_coeff = run.use_artifact('sudarshanvj/reaction/reaction_model:v37', type='model')\n",
    "artifact_dir_coeff = artifact_coeff.download()\n",
    "artifact_barrier = run.use_artifact('sudarshanvj/reaction/reaction_model:v22', type='model')\n",
    "artifact_dir_barrier = artifact_barrier.download()\n",
    "artifact_forces = run.use_artifact('sudarshanvj/reaction/reaction_model:v16', type='model')\n",
    "artifact_dir_forces = artifact_forces.download()"
   ]
  },
  {
   "cell_type": "code",
   "execution_count": 5,
   "metadata": {},
   "outputs": [
    {
     "ename": "AttributeError",
     "evalue": "'ReactionModel' object has no attribute 'make_absolute'",
     "output_type": "error",
     "traceback": [
      "\u001b[0;31m---------------------------------------------------------------------------\u001b[0m",
      "\u001b[0;31mAttributeError\u001b[0m                            Traceback (most recent call last)",
      "\u001b[1;32m/Users/sudarshan/Documents/projects/UCB/18_SEI/minimal-basis/training/analyse_hamiltonian_dataset.ipynb Cell 6\u001b[0m in \u001b[0;36m<cell line: 3>\u001b[0;34m()\u001b[0m\n\u001b[1;32m      <a href='vscode-notebook-cell:/Users/sudarshan/Documents/projects/UCB/18_SEI/minimal-basis/training/analyse_hamiltonian_dataset.ipynb#W5sZmlsZQ%3D%3D?line=0'>1</a>\u001b[0m model \u001b[39m=\u001b[39m torch\u001b[39m.\u001b[39mload(os\u001b[39m.\u001b[39mpath\u001b[39m.\u001b[39mjoin(artifact_dir_coeff, \u001b[39m\"\u001b[39m\u001b[39mreaction_model.pt\u001b[39m\u001b[39m\"\u001b[39m), map_location\u001b[39m=\u001b[39mtorch\u001b[39m.\u001b[39mdevice(\u001b[39m'\u001b[39m\u001b[39mcpu\u001b[39m\u001b[39m'\u001b[39m))\n\u001b[1;32m      <a href='vscode-notebook-cell:/Users/sudarshan/Documents/projects/UCB/18_SEI/minimal-basis/training/analyse_hamiltonian_dataset.ipynb#W5sZmlsZQ%3D%3D?line=2'>3</a>\u001b[0m \u001b[39mfor\u001b[39;00m idx, data \u001b[39min\u001b[39;00m \u001b[39menumerate\u001b[39m(train_loader):\n\u001b[0;32m----> <a href='vscode-notebook-cell:/Users/sudarshan/Documents/projects/UCB/18_SEI/minimal-basis/training/analyse_hamiltonian_dataset.ipynb#W5sZmlsZQ%3D%3D?line=3'>4</a>\u001b[0m     output \u001b[39m=\u001b[39m model(data)\n\u001b[1;32m      <a href='vscode-notebook-cell:/Users/sudarshan/Documents/projects/UCB/18_SEI/minimal-basis/training/analyse_hamiltonian_dataset.ipynb#W5sZmlsZQ%3D%3D?line=4'>5</a>\u001b[0m     output \u001b[39m=\u001b[39m output\u001b[39m.\u001b[39mdetach()\u001b[39m.\u001b[39mnumpy()\n\u001b[1;32m      <a href='vscode-notebook-cell:/Users/sudarshan/Documents/projects/UCB/18_SEI/minimal-basis/training/analyse_hamiltonian_dataset.ipynb#W5sZmlsZQ%3D%3D?line=5'>6</a>\u001b[0m     sum_squares_ouput \u001b[39m=\u001b[39m np\u001b[39m.\u001b[39msum(output\u001b[39m*\u001b[39m\u001b[39m*\u001b[39m\u001b[39m2\u001b[39m)\n",
      "File \u001b[0;32m~/anaconda3/envs/molml/lib/python3.9/site-packages/torch/nn/modules/module.py:1194\u001b[0m, in \u001b[0;36mModule._call_impl\u001b[0;34m(self, *input, **kwargs)\u001b[0m\n\u001b[1;32m   1190\u001b[0m \u001b[39m# If we don't have any hooks, we want to skip the rest of the logic in\u001b[39;00m\n\u001b[1;32m   1191\u001b[0m \u001b[39m# this function, and just call forward.\u001b[39;00m\n\u001b[1;32m   1192\u001b[0m \u001b[39mif\u001b[39;00m \u001b[39mnot\u001b[39;00m (\u001b[39mself\u001b[39m\u001b[39m.\u001b[39m_backward_hooks \u001b[39mor\u001b[39;00m \u001b[39mself\u001b[39m\u001b[39m.\u001b[39m_forward_hooks \u001b[39mor\u001b[39;00m \u001b[39mself\u001b[39m\u001b[39m.\u001b[39m_forward_pre_hooks \u001b[39mor\u001b[39;00m _global_backward_hooks\n\u001b[1;32m   1193\u001b[0m         \u001b[39mor\u001b[39;00m _global_forward_hooks \u001b[39mor\u001b[39;00m _global_forward_pre_hooks):\n\u001b[0;32m-> 1194\u001b[0m     \u001b[39mreturn\u001b[39;00m forward_call(\u001b[39m*\u001b[39;49m\u001b[39minput\u001b[39;49m, \u001b[39m*\u001b[39;49m\u001b[39m*\u001b[39;49mkwargs)\n\u001b[1;32m   1195\u001b[0m \u001b[39m# Do not call functions when jit is used\u001b[39;00m\n\u001b[1;32m   1196\u001b[0m full_backward_hooks, non_full_backward_hooks \u001b[39m=\u001b[39m [], []\n",
      "File \u001b[0;32m~/Documents/projects/UCB/18_SEI/minimal-basis/src/minimal_basis/model/model_reaction.py:137\u001b[0m, in \u001b[0;36mReactionModel.forward\u001b[0;34m(self, data)\u001b[0m\n\u001b[1;32m    134\u001b[0m \u001b[39mdef\u001b[39;00m \u001b[39mforward\u001b[39m(\u001b[39mself\u001b[39m, data):\n\u001b[1;32m    135\u001b[0m     \u001b[39m\"\"\"Forward pass of the reaction model.\"\"\"\u001b[39;00m\n\u001b[0;32m--> 137\u001b[0m     \u001b[39mif\u001b[39;00m \u001b[39mself\u001b[39;49m\u001b[39m.\u001b[39;49mmake_absolute:\n\u001b[1;32m    138\u001b[0m         x \u001b[39m=\u001b[39m torch\u001b[39m.\u001b[39mabs(data\u001b[39m.\u001b[39mx)\n\u001b[1;32m    139\u001b[0m         x_final_state \u001b[39m=\u001b[39m torch\u001b[39m.\u001b[39mabs(data\u001b[39m.\u001b[39mx_final_state)\n",
      "File \u001b[0;32m~/anaconda3/envs/molml/lib/python3.9/site-packages/torch/nn/modules/module.py:1269\u001b[0m, in \u001b[0;36mModule.__getattr__\u001b[0;34m(self, name)\u001b[0m\n\u001b[1;32m   1267\u001b[0m     \u001b[39mif\u001b[39;00m name \u001b[39min\u001b[39;00m modules:\n\u001b[1;32m   1268\u001b[0m         \u001b[39mreturn\u001b[39;00m modules[name]\n\u001b[0;32m-> 1269\u001b[0m \u001b[39mraise\u001b[39;00m \u001b[39mAttributeError\u001b[39;00m(\u001b[39m\"\u001b[39m\u001b[39m'\u001b[39m\u001b[39m{}\u001b[39;00m\u001b[39m'\u001b[39m\u001b[39m object has no attribute \u001b[39m\u001b[39m'\u001b[39m\u001b[39m{}\u001b[39;00m\u001b[39m'\u001b[39m\u001b[39m\"\u001b[39m\u001b[39m.\u001b[39mformat(\n\u001b[1;32m   1270\u001b[0m     \u001b[39mtype\u001b[39m(\u001b[39mself\u001b[39m)\u001b[39m.\u001b[39m\u001b[39m__name__\u001b[39m, name))\n",
      "\u001b[0;31mAttributeError\u001b[0m: 'ReactionModel' object has no attribute 'make_absolute'"
     ]
    }
   ],
   "source": [
    "model = torch.load(os.path.join(artifact_dir_coeff, \"reaction_model.pt\"), map_location=torch.device('cpu'))\n",
    "\n",
    "for idx, data in enumerate(train_loader):\n",
    "    output = model(data)\n",
    "    output = output.detach().numpy()\n",
    "    sum_squares_ouput = np.sum(output**2)\n",
    "    print(f\"Sum of squares of output: {sum_squares_ouput:.3f}\")\n",
    "\n",
    "    expected = data.x_transition_state.detach().numpy()\n",
    "    sum_squares_expected = np.sum(expected**2)\n",
    "    print(f\"Sum of squares of expected: {sum_squares_expected:.3f}\")\n",
    "\n",
    "    difference_subtract = output - expected\n",
    "    difference_add = output + expected\n",
    "    difference_subtract_max = np.max(np.abs(difference_subtract))\n",
    "    difference_add_max = np.max(np.abs(difference_add))\n",
    "    difference = difference_add if difference_add_max < difference_subtract_max else difference_subtract \n",
    "    difference = np.abs(difference)\n",
    "    expected = -expected if difference_add_max < difference_subtract_max else expected\n",
    "    sum_differences = np.sum(np.abs(difference))\n",
    "    sumsq_differences = np.sum(difference**2)\n",
    "    print(f\"Sum of differences: {sum_differences:.3f}\")\n",
    "    print(f\"Sum of squares of differences: {sumsq_differences:.3f}\")\n",
    "    print(f\"Max differences\", np.max(np.abs(difference)))\n",
    "\n",
    "    fig, axs = plt.subplots(3, 1, figsize=(10,10),  sharey=True, sharex=True, facecolor='w')\n",
    "    cax = axs[0].imshow(output, cmap=\"cividis\")\n",
    "    fig.colorbar(cax, ax=axs[0])\n",
    "    axs[0].set_title(r\"$\\mathbf{C}_{\\mathrm{model}}$\")\n",
    "    cax = axs[1].imshow(expected, cmap=\"cividis\")\n",
    "    fig.colorbar(cax, ax=axs[1])\n",
    "    cax.set_clim(axs[0].get_images()[0].get_clim())\n",
    "    axs[1].set_title(r\"$\\mathbf{C}_{\\mathrm{DFT}}$\")\n",
    "    cax = axs[2].imshow(difference, cmap=\"Blues\")\n",
    "    fig.colorbar(cax, ax=axs[2])\n",
    "    axs[2].set_title(r\"$\\left | \\mathbf{C}_{\\mathrm{model}} - \\mathbf{C}_{\\mathrm{DFT}} \\right | $\")\n",
    "\n",
    "    tickvals = data.species.view(-1).detach().numpy().flatten()\n",
    "    tickvals_species = [atomic_names[int(tickval)] for tickval in tickvals]\n",
    "    axs[0].set_yticks(np.arange(len(tickvals)))\n",
    "    axs[0].set_yticklabels(tickvals_species)\n",
    "    axs[1].set_yticks(np.arange(len(tickvals)))\n",
    "    axs[1].set_yticklabels(tickvals_species)\n",
    "    axs[2].set_yticks(np.arange(len(tickvals)))\n",
    "    axs[2].set_yticklabels(tickvals_species)\n",
    "    axs[0].set_xticks(np.arange(35))\n",
    "    # axs[0].set_xticks(np.arange(4))\n",
    "    axs[0].set_xticklabels(5 *[\"s\"] + 12*[\"p\"] + 3*[\"s\" , \"d\" , \"d\" , \"d\" , \"d\" , \"d\"])\n",
    "    # axs[0].set_xticklabels(1*[\"s\"] + 3*[\"p\"])\n",
    "    # axs[0].set_ylabel(\"Atom Number\")\n",
    "    # axs[1].set_ylabel(\"Atom Number\")\n",
    "    # axs[2].set_ylabel(\"Atom Number\")\n",
    "    fig.tight_layout()\n",
    "    # Improve dpi\n",
    "    fig.set_dpi(150)\n",
    "    plt.show()\n",
    "\n",
    "    break"
   ]
  },
  {
   "cell_type": "code",
   "execution_count": null,
   "metadata": {},
   "outputs": [],
   "source": [
    "# Generate the sum of squares of the coefficient matrix\n",
    "model = torch.load(os.path.join(artifact_dir_coeff, \"reaction_model.pt\"), map_location=torch.device('cpu'))\n",
    "\n",
    "from ase.data import chemical_symbols\n",
    "from pyscf import gto\n",
    "from pyscf.dft.numint import eval_ao\n",
    "from ase import Atoms\n",
    "from ase.io.cube import write_cube\n",
    "\n",
    "for idx, data in enumerate(validation_loader):\n",
    "\n",
    "    basis_mask = data.basis_mask.detach().numpy()\n",
    "\n",
    "    output = model(data)\n",
    "    output = output.detach().numpy()\n",
    "    output = output.flatten()[basis_mask.flatten()]\n",
    "\n",
    "    expected = data.x_transition_state.detach().numpy()\n",
    "    expected = expected.flatten()[basis_mask.flatten()]\n",
    "\n",
    "    real_ts_coords = data.pos_transition_state.detach().numpy()\n",
    "    interpolated_ts_coords = data.pos_interpolated_transition_state.detach().numpy()\n",
    "\n",
    "    species = data.species.squeeze().detach().numpy()\n",
    "    species_names = [chemical_symbols[int(species[i])] for i in range(len(species))]\n",
    "\n",
    "    atoms_real_input = \"\"\n",
    "    for i in range(len(species)):\n",
    "        atoms_real_input += f\"{species_names[i]} {real_ts_coords[i][0]} {real_ts_coords[i][1]} {real_ts_coords[i][2]}; \"\n",
    "    atoms_input = atoms_real_input[:-2]\n",
    "    pyscf_mol = gto.M(atom=atoms_input, basis='6-31g*', charge=-1, cart=True)\n",
    "    atoms = Atoms(symbols=species_names, positions=real_ts_coords)\n",
    "\n",
    "    atoms_interpolated_input = \"\"\n",
    "    for i in range(len(species)):\n",
    "        atoms_interpolated_input += f\"{species_names[i]} {interpolated_ts_coords[i][0]} {interpolated_ts_coords[i][1]} {interpolated_ts_coords[i][2]}; \"\n",
    "    atoms_input = atoms_interpolated_input[:-2]\n",
    "    pyscf_mol_interpolated = gto.M(atom=atoms_input, basis='6-31g*', charge=-1, cart=True)\n",
    "    interpolated_atoms = Atoms(symbols=species_names, positions=interpolated_ts_coords)\n",
    "\n",
    "    x = np.arange(np.min(real_ts_coords[:,0]) - 5, np.max(real_ts_coords[:,0]) + 5, 0.5)\n",
    "    y = np.arange(np.min(real_ts_coords[:,1]) - 5, np.max(real_ts_coords[:,1]) + 5, 0.5)\n",
    "    z = np.arange(np.min(real_ts_coords[:,2]) - 5, np.max(real_ts_coords[:,2]) + 5, 0.5)\n",
    "    grid = np.array(np.meshgrid(x, y, z)).T.reshape(-1, 3)\n",
    "\n",
    "    atomic_orbital_grid = eval_ao(pyscf_mol, grid, deriv=0)\n",
    "    predicted_orbital_grid = eval_ao(pyscf_mol_interpolated, grid, deriv=0) \n",
    "\n",
    "    sq_mo_diagonal = np.dot(atomic_orbital_grid**2, expected**2)\n",
    "    predicted_sq_mo_diagonal = np.dot(predicted_orbital_grid**2, output**2)\n",
    "    \n",
    "    error_sq_mo_diagonal = np.abs(sq_mo_diagonal - predicted_sq_mo_diagonal)\n",
    "    print(np.max(error_sq_mo_diagonal))\n",
    "\n",
    "    # Average out the xy dimensions and plot both the real and predicted orbitals\n",
    "    reshaped_sq_mo_diagonal = sq_mo_diagonal.reshape(len(x), len(y), len(z))\n",
    "    reshaped_predicted_sq_mo_diagonal = predicted_sq_mo_diagonal.reshape(len(x), len(y), len(z))\n",
    "    # Write out the cube files\n",
    "    atoms.set_cell([np.max(x) - np.min(x), np.max(y) - np.min(y), np.max(z) - np.min(z)])\n",
    "    interpolated_atoms.set_cell([np.max(x) - np.min(x), np.max(y) - np.min(y), np.max(z) - np.min(z)])\n",
    "    write_cube(open(\"output/real.cube\", \"w\"), atoms, reshaped_sq_mo_diagonal, origin=(np.min(x), np.min(y), np.min(z)))\n",
    "    write_cube(open(\"output/predicted.cube\", \"w\"), interpolated_atoms, reshaped_predicted_sq_mo_diagonal, origin=(np.min(x), np.min(y), np.min(z)))\n",
    "\n",
    "    xy_averaged_sq_mo_diagonal = np.mean(reshaped_sq_mo_diagonal, axis=(0,1))\n",
    "    xy_averaged_predicted_sq_mo_diagonal = np.mean(reshaped_predicted_sq_mo_diagonal, axis=(0,1))\n",
    "\n",
    "    fig, axs = plt.subplots(1, 1, figsize=(3.5,3))\n",
    "    axs.plot(z, xy_averaged_sq_mo_diagonal, label=\"DFT\")\n",
    "    axs.plot(z, xy_averaged_predicted_sq_mo_diagonal, label=\"Model\")\n",
    "    axs.set_xlabel(\"z (Å)\")\n",
    "    axs.set_ylabel(r\"xy averaged $\\left | \\psi \\right |^2$\")\n",
    "    axs.legend()\n",
    "    plt.show()\n",
    "    \n",
    "\n",
    "    break\n"
   ]
  },
  {
   "cell_type": "code",
   "execution_count": null,
   "metadata": {},
   "outputs": [],
   "source": [
    "# Read in the model\n",
    "# model = torch.load(\"output/reaction_model.pt\")\n",
    "model = torch.load(os.path.join(artifact_dir_barrier, \"reaction_model.pt\"), map_location=torch.device('cpu'))\n",
    "\n",
    "outputs = []\n",
    "expecteds = []\n",
    "\n",
    "for idx, data in enumerate(validation_loader):\n",
    "    output = model(data)\n",
    "    output = output.mean(dim=1)\n",
    "    \n",
    "    output = output.detach().numpy()\n",
    "    expected = data.total_energy_transition_state - data.total_energy\n",
    "    expected = expected.detach().numpy()\n",
    "\n",
    "    outputs.append(output[0])\n",
    "    expecteds.append(expected[0])\n",
    "\n",
    "\n",
    "# Make a parity plot of the output vs. expected\n",
    "outputs = np.array(outputs).flatten()\n",
    "expecteds = np.array(expecteds).flatten()\n",
    "outputs *= ase_units.Ha\n",
    "expecteds *= ase_units.Ha\n",
    "\n",
    "# Remove entries from output and expected that less than 0\n",
    "idx_to_remove = np.where(expecteds < 0)[0]\n",
    "outputs = np.delete(outputs, idx_to_remove)\n",
    "expecteds = np.delete(expecteds, idx_to_remove)\n",
    "\n",
    "\n",
    "# Number of points\n",
    "print(f\"Number of points: {len(outputs)}\")\n",
    "# Determine the mean absolute error\n",
    "mae = np.mean(np.abs(outputs - expecteds))\n",
    "print(f\"Mean absolute error: {mae:.3f} eV\")\n",
    "\n",
    "fig = px.scatter(x=expecteds, y=outputs, template=\"simple_white\")\n",
    "# fig.update_layout(title=\"Parity plot of the output vs. expected barriers\")\n",
    "fig.update_xaxes(title_text=\"DFT Computed Barrier (eV)\")\n",
    "fig.update_yaxes(title_text=\"Model Output Barrier (eV)\")\n",
    "# Set x and y axes to be greater than 0\n",
    "# fig.update_xaxes(range=[0, outputs.max()])\n",
    "# fig.update_yaxes(range=[0, outputs.max()])\n",
    "# Draw the parity line\n",
    "fig.add_shape(\n",
    "    type=\"line\",\n",
    "    x0=outputs.min(),\n",
    "    y0=outputs.min(),\n",
    "    x1=outputs.max(),\n",
    "    y1=outputs.max(),\n",
    "    line=dict(\n",
    "        color=\"Red\",\n",
    "        width=4,\n",
    "        dash=\"dashdot\",\n",
    "    )\n",
    ")\n",
    "# Reduce the aspect ratio\n",
    "fig.update_layout(\n",
    "    autosize=False,\n",
    "    width=600,\n",
    "    height=500,\n",
    ")\n",
    "\n",
    "\n",
    "fig.show()"
   ]
  }
 ],
 "metadata": {
  "kernelspec": {
   "display_name": "molml",
   "language": "python",
   "name": "python3"
  },
  "language_info": {
   "codemirror_mode": {
    "name": "ipython",
    "version": 3
   },
   "file_extension": ".py",
   "mimetype": "text/x-python",
   "name": "python",
   "nbconvert_exporter": "python",
   "pygments_lexer": "ipython3",
   "version": "3.9.15"
  },
  "orig_nbformat": 4,
  "vscode": {
   "interpreter": {
    "hash": "c0de598c4e13c0bc0daa0f1515205270a88f8656cf701de288f6c6743b0ef60d"
   }
  }
 },
 "nbformat": 4,
 "nbformat_minor": 2
}
