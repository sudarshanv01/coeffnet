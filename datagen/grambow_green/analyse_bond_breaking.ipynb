{
 "cells": [
  {
   "attachments": {},
   "cell_type": "markdown",
   "metadata": {},
   "source": [
    "# Analyse number of bonds broken in dataset"
   ]
  },
  {
   "cell_type": "code",
   "execution_count": null,
   "metadata": {},
   "outputs": [],
   "source": [
    "from instance_mongodb import instance_mongodb_sei\n",
    "import numpy as np\n",
    "import plotly.express as px"
   ]
  },
  {
   "cell_type": "code",
   "execution_count": null,
   "metadata": {},
   "outputs": [],
   "source": [
    "db = instance_mongodb_sei(project=\"mlts\")\n",
    "collection = db.grambow_green_calculation\n",
    "\n",
    "unique_bond_breaking = collection.distinct(\"tags.number_of_bond_changes\")\n",
    "unique_bond_breaking = [int(x) for x in unique_bond_breaking]\n",
    "print(unique_bond_breaking)"
   ]
  },
  {
   "cell_type": "code",
   "execution_count": null,
   "metadata": {},
   "outputs": [],
   "source": [
    "# For each unique number of bond breaking, get the number of reactions\n",
    "# and make a histogram\n",
    "\n",
    "# Get the number of reactions for each number of bond breaking\n",
    "number_reactions = []\n",
    "for number_bond_breaking in unique_bond_breaking:\n",
    "    number_reactions.append(\n",
    "        collection.count_documents(\n",
    "            {\"tags.number_of_bond_changes\": number_bond_breaking}\n",
    "        )\n",
    "    )\n",
    "number_reactions = np.array(number_reactions, dtype=float)\n",
    "number_reactions /= 3.\n",
    "# Make a histogram\n",
    "fig = px.bar(\n",
    "    x=unique_bond_breaking,\n",
    "    y=number_reactions,\n",
    "    labels={\"x\": \"Number of bond breaking\", \"y\": \"Number of reactions\"},\n",
    ")\n",
    "fig.show()"
   ]
  }
 ],
 "metadata": {
  "kernelspec": {
   "display_name": "molml",
   "language": "python",
   "name": "python3"
  },
  "language_info": {
   "codemirror_mode": {
    "name": "ipython",
    "version": 3
   },
   "file_extension": ".py",
   "mimetype": "text/x-python",
   "name": "python",
   "nbconvert_exporter": "python",
   "pygments_lexer": "ipython3",
   "version": "3.9.15"
  }
 },
 "nbformat": 4,
 "nbformat_minor": 2
}
