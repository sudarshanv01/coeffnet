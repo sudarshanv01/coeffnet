{
 "cells": [
  {
   "cell_type": "code",
   "execution_count": null,
   "metadata": {},
   "outputs": [],
   "source": [
    "import numpy as np\n",
    "import plotly.express as px\n",
    "from instance_mongodb import instance_mongodb_sei\n",
    "from pprint import pprint"
   ]
  },
  {
   "cell_type": "code",
   "execution_count": null,
   "metadata": {},
   "outputs": [],
   "source": [
    "db = instance_mongodb_sei(project=\"mlts\")\n",
    "collection = db.grambow_green_calculation\n",
    "\n",
    "doc = collection.find_one({'task_label': 'frequency calculation', 'tags.state': 'transition_state'})\n",
    "\n",
    "pprint(doc['calcs_reversed'][0]['input']['rem'])"
   ]
  },
  {
   "cell_type": "code",
   "execution_count": null,
   "metadata": {},
   "outputs": [],
   "source": [
    "num_imag_freqs = []\n",
    "\n",
    "for doc in collection.find({'task_label': 'frequency calculation', 'tags.state': 'transition_state'}):\n",
    "    frequencies = doc['calcs_reversed'][0]['frequencies']\n",
    "    _num_imag_freqs = len([freq for freq in frequencies if freq < 0])\n",
    "    num_imag_freqs.append(_num_imag_freqs)\n",
    "\n",
    "fig = px.histogram(x=num_imag_freqs, nbins=10)\n",
    "fig.show()"
   ]
  },
  {
   "cell_type": "code",
   "execution_count": null,
   "metadata": {},
   "outputs": [],
   "source": [
    "db = instance_mongodb_sei(project=\"mlts\")\n",
    "collection = db.grambow_green_calculation\n",
    "\n",
    "num_imag_freqs = []\n",
    "\n",
    "for doc in collection.find({'task_label': 'frequency calculation', 'tags.state': {'$ne': 'transition_state'}}):\n",
    "    frequencies = doc['calcs_reversed'][0]['frequencies']\n",
    "    _num_imag_freqs = len([freq for freq in frequencies if freq < 0])\n",
    "    num_imag_freqs.append(_num_imag_freqs)\n",
    "\n",
    "fig = px.histogram(x=num_imag_freqs)\n",
    "fig.show()"
   ]
  },
  {
   "cell_type": "code",
   "execution_count": null,
   "metadata": {},
   "outputs": [],
   "source": []
  }
 ],
 "metadata": {
  "kernelspec": {
   "display_name": "molml",
   "language": "python",
   "name": "python3"
  },
  "language_info": {
   "codemirror_mode": {
    "name": "ipython",
    "version": 3
   },
   "file_extension": ".py",
   "mimetype": "text/x-python",
   "name": "python",
   "nbconvert_exporter": "python",
   "pygments_lexer": "ipython3",
   "version": "3.9.15"
  }
 },
 "nbformat": 4,
 "nbformat_minor": 2
}
