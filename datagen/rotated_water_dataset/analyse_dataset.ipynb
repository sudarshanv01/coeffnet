{
 "cells": [
  {
   "attachments": {},
   "cell_type": "markdown",
   "metadata": {},
   "source": [
    "## Coefficient matrix for different basis sets "
   ]
  },
  {
   "attachments": {},
   "cell_type": "markdown",
   "metadata": {},
   "source": [
    "Evaluate the rotation of different basis sets through rotated water molecules"
   ]
  },
  {
   "cell_type": "code",
   "execution_count": null,
   "metadata": {},
   "outputs": [],
   "source": [
    "from collections import defaultdict\n",
    "import json\n",
    "import numpy as np\n",
    "import matplotlib.pyplot as plt\n",
    "import plotly.express as px\n",
    "from ase.data import atomic_numbers, atomic_masses_iupac2016 \n",
    "from pymatgen.core.structure import Molecule\n",
    "from instance_mongodb import instance_mongodb_sei\n",
    "import basis_set_exchange as bse\n",
    "from minimal_basis.predata.predata_qchem import BaseQuantitiesQChem \n",
    "from pprint import pprint\n",
    "%matplotlib inline"
   ]
  },
  {
   "cell_type": "code",
   "execution_count": null,
   "metadata": {},
   "outputs": [],
   "source": [
    "db = instance_mongodb_sei(project=\"mlts\")\n",
    "collection = db.rotated_water_calculations\n",
    "basis_sets = collection.distinct('orig.rem.basis')\n",
    "data = defaultdict(lambda: defaultdict(list))\n",
    "\n",
    "for basis_set in basis_sets:\n",
    "    basis_info = bse.get_basis(basis_set, fmt='json', elements=[1, 8])\n",
    "    basis_info = json.loads(basis_info)\n",
    "    pprint(basis_info)\n",
    "\n",
    "    electron_shells = {k: basis_info['elements'][k]['electron_shells'] for k in basis_info['elements'].keys()}\n",
    "    angular_momenta = {k: [shell['angular_momentum'] for shell in electron_shells[k]] for k in electron_shells.keys()}\n",
    "    angular_momenta = {k: [item for sublist in angular_momenta[k] for item in sublist] for k in angular_momenta.keys()}\n",
    "\n",
    "    for doc in collection.find({'orig.rem.basis': basis_set}):\n",
    "        _alpha_coeff_matrix = doc['calcs_reversed'][0]['alpha_coeff_matrix']\n",
    "        _alpha_eigenvalues = doc['calcs_reversed'][0]['alpha_eigenvalues']\n",
    "        _alpha_fock_matrix = doc['calcs_reversed'][0]['alpha_fock_matrix']\n",
    "\n",
    "        base_quantities_qchem = BaseQuantitiesQChem(\n",
    "            fock_matrix=_alpha_fock_matrix,\n",
    "            eigenvalues=_alpha_eigenvalues,\n",
    "            coeff_matrix=_alpha_coeff_matrix,\n",
    "        )\n",
    "        _alpha_ortho_coeff_matrix = base_quantities_qchem.get_ortho_coeff_matrix()\n",
    "        molecule = Molecule.from_dict(doc['orig']['molecule'])\n",
    "        symbols = [site.specie.symbol for site in molecule.sites]\n",
    "        atom_numbers = [atomic_numbers[symbol] for symbol in symbols]\n",
    "        _basis_functions_orbital = []\n",
    "        for atom_number in atom_numbers:\n",
    "            _angular_momenta = angular_momenta[str(atom_number)]\n",
    "            _angular_momenta = np.array(_angular_momenta)\n",
    "            _basis_functions = 2*_angular_momenta + 1\n",
    "            _basis_functions[_basis_functions == 5] = 6\n",
    "            for _basis_function in _basis_functions:\n",
    "                if _basis_function == 1:\n",
    "                    _basis_functions_orbital.extend(['s'])\n",
    "                elif _basis_function == 3:\n",
    "                    _basis_functions_orbital.extend(['p', 'p', 'p'])\n",
    "                elif _basis_function == 6:\n",
    "                    _basis_functions_orbital.extend(['d', 'd', 'd', 'd', 'd', 'd'])\n",
    "\n",
    "        data[basis_set]['alpha_coeff_matrix'].append(_alpha_coeff_matrix)\n",
    "        data[basis_set]['alpha_eigenvalues'].append(_alpha_eigenvalues)\n",
    "        data[basis_set]['alpha_fock_matrix'].append(_alpha_fock_matrix)\n",
    "        data[basis_set]['alpha_ortho_coeff_matrix'].append(_alpha_ortho_coeff_matrix)\n",
    "        data[basis_set]['basis_functions_orbital'].append(_basis_functions_orbital)\n",
    "\n",
    "for basis_set in basis_sets:\n",
    "    for key in data[basis_set].keys():\n",
    "        data[basis_set][key] = np.array(data[basis_set][key])"
   ]
  },
  {
   "cell_type": "code",
   "execution_count": null,
   "metadata": {},
   "outputs": [],
   "source": [
    "for basis_set in basis_sets:\n",
    "    fig = px.imshow(data[basis_set]['alpha_ortho_coeff_matrix'], animation_frame=0, range_color=[-1, 1])\n",
    "    labels = data[basis_set]['basis_functions_orbital'][0]\n",
    "    print(labels)\n",
    "    fig.update_xaxes(ticktext=labels, tickvals=list(range(len(labels))))\n",
    "    fig.update_yaxes(ticktext=labels, tickvals=list(range(len(labels))))\n",
    "    print(f\"Shape of alpha_ortho_coeff_matrix: {data[basis_set]['alpha_ortho_coeff_matrix'].shape}\")\n",
    "    print(f\"Length of basis_functions_orbital: {len(data[basis_set]['basis_functions_orbital'][0])}\")\n",
    "    fig.update_layout(title=basis_set)\n",
    "    fig.show()\n"
   ]
  }
 ],
 "metadata": {
  "kernelspec": {
   "display_name": "molml",
   "language": "python",
   "name": "python3"
  },
  "language_info": {
   "codemirror_mode": {
    "name": "ipython",
    "version": 3
   },
   "file_extension": ".py",
   "mimetype": "text/x-python",
   "name": "python",
   "nbconvert_exporter": "python",
   "pygments_lexer": "ipython3",
   "version": "3.9.15"
  }
 },
 "nbformat": 4,
 "nbformat_minor": 2
}
