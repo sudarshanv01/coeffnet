{
 "cells": [
  {
   "cell_type": "code",
   "execution_count": null,
   "metadata": {},
   "outputs": [],
   "source": [
    "import numpy as np\n",
    "from scipy import special\n",
    "from e3nn import o3\n",
    "import torch"
   ]
  },
  {
   "cell_type": "code",
   "execution_count": null,
   "metadata": {},
   "outputs": [],
   "source": [
    "def euler_rotation_matrix(alpha, beta, gamma):\n",
    "    \"\"\"Return the rotation matrix for the Euler angles alpha, beta and gamma.\"\"\"\n",
    "\n",
    "    rotation_matrix = np.zeros((3, 3))\n",
    "\n",
    "    rotation_matrix[0, 0] = np.cos(beta) * np.cos(gamma)\n",
    "    rotation_matrix[0, 1] = np.sin(alpha) * np.sin(beta) * np.cos(gamma) - np.cos(alpha) * np.sin(gamma)\n",
    "    rotation_matrix[0, 2] = np.cos(alpha) * np.sin(beta) * np.cos(gamma) + np.sin(alpha) * np.sin(gamma)\n",
    "    rotation_matrix[1, 0] = np.cos(beta) * np.sin(gamma)\n",
    "    rotation_matrix[1, 1] = np.sin(alpha) * np.sin(beta) * np.sin(gamma) + np.cos(alpha) * np.cos(gamma)\n",
    "    rotation_matrix[1, 2] = np.cos(alpha) * np.sin(beta) * np.sin(gamma) - np.sin(alpha) * np.cos(gamma)\n",
    "    rotation_matrix[2, 0] = -np.sin(beta)\n",
    "    rotation_matrix[2, 1] = np.sin(alpha) * np.cos(beta)\n",
    "    rotation_matrix[2, 2] = np.cos(alpha) * np.cos(beta)\n",
    "\n",
    "    return rotation_matrix\n",
    "\n",
    "def cartesian_to_spherical(cartesian):\n",
    "    \"\"\"Convert cartesian coordinates to spherical coordinates.\"\"\"\n",
    "    r = np.linalg.norm(cartesian)\n",
    "    phi = np.arccos(cartesian[2] / r)\n",
    "    theta = np.arctan2(cartesian[1], cartesian[0])\n",
    "    return np.array([r, theta, phi])\n",
    "\n",
    "\n",
    "def convert_to_real_spherical_harmonic(complex_spherical_harmonic):\n",
    "    \"\"\"Convert the complex spherical harmonics to real spherical harmonics.\"\"\"\n",
    "    real_spherical_harmonic = [\n",
    "        -1**-2 / 1j / np.sqrt(2) * (complex_spherical_harmonic[0] - complex_spherical_harmonic[0].conjugate()),\n",
    "        -1**-1 / 1j/ np.sqrt(2) * (complex_spherical_harmonic[1] - complex_spherical_harmonic[1].conjugate()),\n",
    "        complex_spherical_harmonic[2],\n",
    "        -1**1 / np.sqrt(2) * (complex_spherical_harmonic[3] + complex_spherical_harmonic[3].conjugate()),\n",
    "        -1**2 / np.sqrt(2) * (complex_spherical_harmonic[4] + complex_spherical_harmonic[4].conjugate()),\n",
    "    ]\n",
    "    real_spherical_harmonic = np.array(real_spherical_harmonic)\n",
    "    real_spherical_harmonic = np.real(real_spherical_harmonic)\n",
    "    return real_spherical_harmonic"
   ]
  },
  {
   "cell_type": "code",
   "execution_count": null,
   "metadata": {},
   "outputs": [],
   "source": [
    "cartesian = np.array([0.2, 0.6, 0.3])\n",
    "print(\"Original cartesian coordinates:\", cartesian)\n",
    "angles = 2 * np.pi * np.random.rand(3)\n",
    "print(\"Rotated by angles:\", angles)\n",
    "rotation_matrix = euler_rotation_matrix(*angles) \n",
    "rotated_cartesian = rotation_matrix @ cartesian \n",
    "print(\"Rotated cartesian coordinates:\", rotated_cartesian)"
   ]
  },
  {
   "cell_type": "code",
   "execution_count": null,
   "metadata": {},
   "outputs": [],
   "source": [
    "spherical = cartesian_to_spherical(cartesian)\n",
    "scipy_sph = [\n",
    "    special.sph_harm(-2, 2, spherical[1], spherical[2]),\n",
    "    special.sph_harm(-1, 2, spherical[1], spherical[2]),\n",
    "    special.sph_harm(0, 2, spherical[1], spherical[2]),\n",
    "    special.sph_harm(1, 2, spherical[1], spherical[2]),\n",
    "    special.sph_harm(2, 2, spherical[1], spherical[2]),\n",
    "]\n",
    "scipy_spherical_harmonic = convert_to_real_spherical_harmonic(scipy_sph)\n",
    "print(\"Scipy spherical harmonic:\", scipy_spherical_harmonic)\n",
    "spherical_rotated = cartesian_to_spherical(rotated_cartesian)\n",
    "scipy_sph_rotated = [\n",
    "    special.sph_harm(-2, 2, spherical_rotated[1], spherical_rotated[2]),\n",
    "    special.sph_harm(-1, 2, spherical_rotated[1], spherical_rotated[2]),\n",
    "    special.sph_harm(0, 2, spherical_rotated[1], spherical_rotated[2]),\n",
    "    special.sph_harm(1, 2, spherical_rotated[1], spherical_rotated[2]),\n",
    "    special.sph_harm(2, 2, spherical_rotated[1], spherical_rotated[2]),\n",
    "]\n",
    "scipy_spherical_harmonic_rotated = convert_to_real_spherical_harmonic(scipy_sph_rotated)\n",
    "print(\"Scipy spherical harmonic rotated:\", scipy_spherical_harmonic_rotated)"
   ]
  },
  {
   "cell_type": "code",
   "execution_count": null,
   "metadata": {},
   "outputs": [],
   "source": [
    "def rotation_matrix_from_vectors(vec1, vec2):\n",
    "    \"\"\" Find the rotation matrix that aligns vec1 to vec2\n",
    "    :param vec1: A 3d \"source\" vector\n",
    "    :param vec2: A 3d \"destination\" vector\n",
    "    :return mat: A transform matrix (3x3) which when applied to vec1, aligns it with vec2.\n",
    "    \"\"\"\n",
    "    a, b = (vec1 / np.linalg.norm(vec1)).reshape(3), (vec2 / np.linalg.norm(vec2)).reshape(3)\n",
    "    v = np.cross(a, b)\n",
    "    c = np.dot(a, b)\n",
    "    s = np.linalg.norm(v)\n",
    "    kmat = np.array([[0, -v[2], v[1]], [v[2], 0, -v[0]], [-v[1], v[0], 0]])\n",
    "    rotation_matrix = np.eye(3) + kmat + kmat.dot(kmat) * ((1 - c) / (s ** 2))\n",
    "    return rotation_matrix"
   ]
  },
  {
   "cell_type": "code",
   "execution_count": null,
   "metadata": {},
   "outputs": [],
   "source": [
    "tensor_cartesian = torch.tensor(cartesian)\n",
    "tensor_rotated_cartesian = torch.tensor(rotated_cartesian)\n",
    "tensor_cartesian = torch.stack([tensor_cartesian[1], tensor_cartesian[2], tensor_cartesian[0]])\n",
    "tensor_rotated_cartesian = torch.stack([tensor_rotated_cartesian[1], tensor_rotated_cartesian[2], tensor_rotated_cartesian[0]])\n",
    "spherical_harmonic = o3.spherical_harmonics(2, tensor_cartesian, normalize=True)\n",
    "print(\"e3nn spherical harmonic:\", spherical_harmonic)\n",
    "rotated_spherical_harmonic = o3.spherical_harmonics(2, tensor_rotated_cartesian, normalize=True)\n",
    "print(\"Rotated e3nn spherical harmonic:\", rotated_spherical_harmonic)"
   ]
  },
  {
   "cell_type": "code",
   "execution_count": null,
   "metadata": {},
   "outputs": [],
   "source": [
    "# Determine the rotation matrix between tensor_cartesian and tensor_rotated_cartesian\n",
    "rotation_matrix = rotation_matrix_from_vectors(tensor_cartesian.detach().numpy(), tensor_rotated_cartesian.detach().numpy())\n",
    "rotation_matrix = torch.tensor(rotation_matrix)\n",
    "wigner_d_matrix = o3.Irreps('1x2e').D_from_matrix(rotation_matrix)\n",
    "DY0 = wigner_d_matrix @ spherical_harmonic\n",
    "print(DY0)\n",
    "print(rotated_spherical_harmonic)\n"
   ]
  }
 ],
 "metadata": {
  "kernelspec": {
   "display_name": "molml",
   "language": "python",
   "name": "python3"
  },
  "language_info": {
   "codemirror_mode": {
    "name": "ipython",
    "version": 3
   },
   "file_extension": ".py",
   "mimetype": "text/x-python",
   "name": "python",
   "nbconvert_exporter": "python",
   "pygments_lexer": "ipython3",
   "version": "3.9.15"
  }
 },
 "nbformat": 4,
 "nbformat_minor": 2
}
