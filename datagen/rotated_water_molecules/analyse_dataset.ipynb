{
 "cells": [
  {
   "attachments": {},
   "cell_type": "markdown",
   "metadata": {},
   "source": [
    "## Coefficient matrix for different basis sets "
   ]
  },
  {
   "attachments": {},
   "cell_type": "markdown",
   "metadata": {},
   "source": [
    "Evaluate the rotation of different basis sets through rotated water molecules"
   ]
  },
  {
   "cell_type": "code",
   "execution_count": null,
   "metadata": {},
   "outputs": [],
   "source": [
    "from collections import defaultdict\n",
    "\n",
    "import json\n",
    "\n",
    "import numpy as np\n",
    "\n",
    "import plotly.express as px\n",
    "\n",
    "from ase.data import atomic_numbers\n",
    "from ase.visualize import view\n",
    "\n",
    "from pymatgen.core.structure import Molecule\n",
    "from pymatgen.io.ase import AseAtomsAdaptor\n",
    "\n",
    "import basis_set_exchange as bse\n",
    "\n",
    "import torch\n",
    "\n",
    "from e3nn import o3\n",
    "\n",
    "from minimal_basis.predata.qchem import BaseQuantitiesQChem \n",
    "from minimal_basis.transforms.rotations import RotationMatrix\n",
    "\n",
    "from instance_mongodb import instance_mongodb_sei"
   ]
  },
  {
   "cell_type": "code",
   "execution_count": null,
   "metadata": {},
   "outputs": [],
   "source": [
    "db = instance_mongodb_sei(project=\"mlts\")\n",
    "collection = db.rotated_water_calculations\n",
    "basis_sets = collection.distinct('orig.rem.basis')\n",
    "data = defaultdict(lambda: defaultdict(list))\n",
    "\n",
    "for basis_set in basis_sets:\n",
    "    basis_info = bse.get_basis(basis_set, fmt='json', elements=[1, 8])\n",
    "    basis_info = json.loads(basis_info)\n",
    "\n",
    "    electron_shells = {k: basis_info['elements'][k]['electron_shells'] for k in basis_info['elements'].keys()}\n",
    "    angular_momenta = {k: [shell['angular_momentum'] for shell in electron_shells[k]] for k in electron_shells.keys()}\n",
    "    angular_momenta = {k: [item for sublist in angular_momenta[k] for item in sublist] for k in angular_momenta.keys()}\n",
    "    # Find tags with the basis set and sort by tags.idx\n",
    "    find_tags = {'orig.rem.basis': basis_set}\n",
    "    for doc in collection.find(find_tags).sort('tags.idx', 1):\n",
    "        _alpha_coeff_matrix = doc['calcs_reversed'][0]['alpha_coeff_matrix']\n",
    "        _alpha_eigenvalues = doc['calcs_reversed'][0]['alpha_eigenvalues']\n",
    "        _alpha_fock_matrix = doc['calcs_reversed'][0]['alpha_fock_matrix']\n",
    "\n",
    "        base_quantities_qchem = BaseQuantitiesQChem(\n",
    "            fock_matrix=_alpha_fock_matrix,\n",
    "            eigenvalues=_alpha_eigenvalues,\n",
    "            coeff_matrix=_alpha_coeff_matrix,\n",
    "        )\n",
    "\n",
    "        _alpha_ortho_coeff_matrix = base_quantities_qchem.get_ortho_coeff_matrix()\n",
    "        molecule = Molecule.from_dict(doc['orig']['molecule'])\n",
    "        symbols = [site.specie.symbol for site in molecule.sites]\n",
    "        atom_numbers = [atomic_numbers[symbol] for symbol in symbols]\n",
    "        _basis_functions_orbital = []\n",
    "\n",
    "        _irreps = \"\"\n",
    "        for atom_number in atom_numbers:\n",
    "            _angular_momenta = angular_momenta[str(atom_number)]\n",
    "            _angular_momenta = np.array(_angular_momenta)\n",
    "            _basis_functions = 2*_angular_momenta + 1\n",
    "            for _basis_function in _basis_functions:\n",
    "                if _basis_function == 1:\n",
    "                    _basis_functions_orbital.extend(['s'])\n",
    "                    _irreps += \"+1x0e\"\n",
    "                elif _basis_function == 3:\n",
    "                    _basis_functions_orbital.extend(['p', 'p', 'p'])\n",
    "                    _irreps += \"+1x1o\"\n",
    "                elif _basis_function == 5 and basis_set != '6-31g*':\n",
    "                    _basis_functions_orbital.extend(['d', 'd', 'd', 'd', 'd'])\n",
    "                    _irreps += \"+1x2e\"\n",
    "                elif _basis_function == 5 and basis_set == '6-31g*':\n",
    "                    _basis_functions_orbital.extend(['s', 'd', 'd', 'd', 'd', 'd'])\n",
    "                    _irreps += \"+1x0e+1x2e\"\n",
    "\n",
    "        _irreps = _irreps[1:]\n",
    "\n",
    "        data[basis_set]['alpha_coeff_matrix'].append(_alpha_coeff_matrix)\n",
    "        data[basis_set]['alpha_eigenvalues'].append(_alpha_eigenvalues)\n",
    "        data[basis_set]['alpha_fock_matrix'].append(_alpha_fock_matrix)\n",
    "        data[basis_set]['alpha_ortho_coeff_matrix'].append(_alpha_ortho_coeff_matrix)\n",
    "        data[basis_set]['basis_functions_orbital'].append(_basis_functions_orbital)\n",
    "        data[basis_set]['alpha_overlap_matrix'].append(base_quantities_qchem.overlap_matrix)\n",
    "        data[basis_set]['irreps'].append(_irreps)\n",
    "        data[basis_set]['euler_angles'].append(doc['tags']['euler_angles'])\n",
    "        data[basis_set]['idx'].append(doc['tags']['idx'])\n",
    "        data[basis_set]['molecule'].append(molecule)\n",
    "\n",
    "for basis_set in basis_sets:\n",
    "    for key in data[basis_set].keys():\n",
    "        if key == 'molecule':\n",
    "            continue\n",
    "        data[basis_set][key] = np.array(data[basis_set][key])"
   ]
  },
  {
   "cell_type": "code",
   "execution_count": null,
   "metadata": {},
   "outputs": [],
   "source": [
    "basis_set = \"sto-3g\"\n",
    "quantity = \"alpha_coeff_matrix\""
   ]
  },
  {
   "attachments": {},
   "cell_type": "markdown",
   "metadata": {},
   "source": [
    "## Structures"
   ]
  },
  {
   "cell_type": "code",
   "execution_count": null,
   "metadata": {},
   "outputs": [],
   "source": [
    "all_molecules = data[basis_set]['molecule']\n",
    "all_atoms = [AseAtomsAdaptor.get_atoms(molecule) for molecule in all_molecules]\n",
    "view(all_atoms[0], viewer=\"x3d\")"
   ]
  },
  {
   "attachments": {},
   "cell_type": "markdown",
   "metadata": {},
   "source": [
    "## $\\alpha$ coefficient matrix"
   ]
  },
  {
   "cell_type": "code",
   "execution_count": null,
   "metadata": {},
   "outputs": [],
   "source": [
    "fig = px.imshow(data[basis_set][quantity], animation_frame=0, range_color=[-1, 1])\n",
    "labels = data[basis_set]['basis_functions_orbital'][0]\n",
    "fig.update_yaxes(ticktext=labels, tickvals=list(range(len(labels))))\n",
    "fig.update_xaxes(ticktext=np.round(data[basis_set]['alpha_eigenvalues'][0], 3), tickvals=list(range(len(data[basis_set]['alpha_eigenvalues'][0]))))\n",
    "fig.update_yaxes(title_text=\"Atomic orbitals\")\n",
    "fig.update_xaxes(title_text=\"Eigenvalues of molecular orbitals (Ha)\")\n",
    "fig.update_layout(title=\"Coefficient matrix from DFT calculation\")\n",
    "fig.show()\n"
   ]
  },
  {
   "cell_type": "code",
   "execution_count": null,
   "metadata": {},
   "outputs": [],
   "source": [
    "new_coeff_matrix = []\n",
    "calculated_coeff_matrix = data[basis_set][quantity]\n",
    "original_coeff_matrix = calculated_coeff_matrix[0] \n",
    "\n",
    "for _idx, angles in enumerate(data[basis_set]['euler_angles']):\n",
    "\n",
    "    torch_angles = torch.tensor(angles, dtype=torch.float64)\n",
    "\n",
    "    irreps = data[basis_set]['irreps'][_idx]\n",
    "    irreps = o3.Irreps(irreps)\n",
    "\n",
    "    rotation_matrix = RotationMatrix(angle_type=\"euler\", angles=angles)() \n",
    "    rotation_matrix = torch.tensor(rotation_matrix, dtype=torch.float64)\n",
    "     \n",
    "    D_matrix = irreps.D_from_matrix(rotation_matrix)\n",
    "    D_matrix = D_matrix.detach().numpy()\n",
    "\n",
    "    _new_coeff_matrix = np.zeros_like(original_coeff_matrix)\n",
    "    for i in range(original_coeff_matrix.shape[1]):\n",
    "        _new_coeff_matrix[:, i] = original_coeff_matrix[:, i] @ D_matrix.T\n",
    "\n",
    "    new_coeff_matrix.append(_new_coeff_matrix)\n",
    "\n",
    "new_coeff_matrix = np.array(new_coeff_matrix)\n",
    "\n",
    "fig = px.imshow(new_coeff_matrix, animation_frame=0, range_color=[-1, 1])\n",
    "fig.update_yaxes(ticktext=labels, tickvals=list(range(len(labels))))\n",
    "fig.update_xaxes(ticktext=np.round(data[basis_set]['alpha_eigenvalues'][0], 3), tickvals=list(range(len(data[basis_set]['alpha_eigenvalues'][0]))))\n",
    "fig.update_yaxes(title_text=\"Atomic orbitals\")\n",
    "fig.update_xaxes(title_text=\"Eigenvalues of molecular orbitals (Ha)\")\n",
    "fig.update_layout(title=\"Rotated coefficient matrix\")\n",
    "fig.show()"
   ]
  },
  {
   "cell_type": "code",
   "execution_count": null,
   "metadata": {},
   "outputs": [],
   "source": [
    "difference_matrices = np.abs(new_coeff_matrix) - np.abs(calculated_coeff_matrix)\n",
    "fig = px.imshow(difference_matrices, animation_frame=0, range_color=[-1, 1])\n",
    "fig.update_yaxes(ticktext=labels, tickvals=list(range(len(labels))))\n",
    "fig.update_xaxes(ticktext=np.round(data[basis_set]['alpha_eigenvalues'][0], 3), tickvals=list(range(len(data[basis_set]['alpha_eigenvalues'][0]))))\n",
    "fig.update_yaxes(title_text=\"Atomic orbitals\")\n",
    "fig.update_xaxes(title_text=\"Eigenvalues of molecular orbitals (Ha)\")\n",
    "fig.update_layout(title=\"Difference between rotated and calculated coefficient matrix\")\n",
    "fig.show()"
   ]
  },
  {
   "attachments": {},
   "cell_type": "markdown",
   "metadata": {},
   "source": [
    "## Testing _d_-orbital transformations"
   ]
  },
  {
   "cell_type": "code",
   "execution_count": null,
   "metadata": {},
   "outputs": [],
   "source": [
    "def rotation_matrix_from_vectors(vec1, vec2):\n",
    "    \"\"\" Find the rotation matrix that aligns vec1 to vec2\n",
    "    :param vec1: A 3d \"source\" vector\n",
    "    :param vec2: A 3d \"destination\" vector\n",
    "    :return mat: A transform matrix (3x3) which when applied to vec1, aligns it with vec2.\n",
    "    \"\"\"\n",
    "    a, b = (vec1 / np.linalg.norm(vec1)).reshape(3), (vec2 / np.linalg.norm(vec2)).reshape(3)\n",
    "    v = np.cross(a, b)\n",
    "    c = np.dot(a, b)\n",
    "    s = np.linalg.norm(v)\n",
    "    kmat = np.array([[0, -v[2], v[1]], [v[2], 0, -v[0]], [-v[1], v[0], 0]])\n",
    "    rotation_matrix = np.eye(3) + kmat + kmat.dot(kmat) * ((1 - c) / (s ** 2))\n",
    "    return rotation_matrix"
   ]
  },
  {
   "cell_type": "code",
   "execution_count": null,
   "metadata": {},
   "outputs": [],
   "source": [
    "D_matrices = []\n",
    "for idx, angles in enumerate(data[basis_set]['angles']):\n",
    "    _test_irreps = o3.Irreps('1x2e')\n",
    "    if idx == 0:\n",
    "        positions_0 = data[basis_set]['positions'][idx]\n",
    "    positions = data[basis_set]['positions'][idx]\n",
    "\n",
    "    if np.allclose(positions_0, positions):\n",
    "        rotation_matrix = np.eye(3)\n",
    "    else:\n",
    "        _positions_0 = np.roll(positions_0, -1, axis=0)\n",
    "        positions = np.roll(positions, -1, axis=0)\n",
    "        rotation_matrix = rotation_matrix_from_vectors(_positions_0, positions)\n",
    "    rotation_matrix = torch.tensor(rotation_matrix, dtype=torch.float64)\n",
    "     \n",
    "    D_matrix = _test_irreps.D_from_matrix(rotation_matrix)\n",
    "    D_matrix = D_matrix.detach().numpy()\n",
    "    D_matrices.append(D_matrix)\n",
    "\n",
    "D_matrices = np.array(D_matrices)\n",
    "fig = px.imshow(D_matrices, animation_frame=0, range_color=[-1, 1])\n",
    "fig.show()"
   ]
  },
  {
   "cell_type": "code",
   "execution_count": null,
   "metadata": {},
   "outputs": [],
   "source": [
    "d_indices = np.where(labels == 'd')[0]\n",
    "data_to_store = []\n",
    "for idx, angles in enumerate(data[basis_set]['angles']):\n",
    "    orig_c = data[basis_set][quantity][0][d_indices, -1]\n",
    "    rotated_c = data[basis_set][quantity][idx][d_indices, -1]\n",
    "    orig_c = orig_c.reshape(-1, 1)\n",
    "    rotated_c = rotated_c.reshape(-1, 1)\n",
    "    D_matrix = D_matrices[idx]\n",
    "    rotated = D_matrix @ orig_c \n",
    "    data_to_store.append(np.hstack((rotated, rotated_c)))\n",
    "\n",
    "\n",
    "    if idx == 7:\n",
    "        print('---')\n",
    "        print('Rotated')\n",
    "        print(rotated)\n",
    "        print(\"Expected\")\n",
    "        print(rotated_c)\n",
    "\n",
    "\n",
    "data_to_store = np.array(data_to_store)\n",
    "fig = px.imshow(data_to_store, animation_frame=0, range_color=[-1, 1])\n",
    "fig.show()"
   ]
  }
 ],
 "metadata": {
  "kernelspec": {
   "display_name": "molml",
   "language": "python",
   "name": "python3"
  },
  "language_info": {
   "codemirror_mode": {
    "name": "ipython",
    "version": 3
   },
   "file_extension": ".py",
   "mimetype": "text/x-python",
   "name": "python",
   "nbconvert_exporter": "python",
   "pygments_lexer": "ipython3",
   "version": "3.9.15"
  }
 },
 "nbformat": 4,
 "nbformat_minor": 2
}
