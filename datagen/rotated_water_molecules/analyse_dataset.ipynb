{
 "cells": [
  {
   "attachments": {},
   "cell_type": "markdown",
   "metadata": {},
   "source": [
    "## Rotation of the coefficient matrix of the molecular orbital for different basis sets "
   ]
  },
  {
   "attachments": {},
   "cell_type": "markdown",
   "metadata": {},
   "source": [
    "The molecular orbitals are constructed from atomic orbitals using the following linear summation:\n",
    "\n",
    "$$\n",
    "\\Psi_{i} = \\sum \\limits_{j} C_{ij} \\phi_{j}\n",
    "$$\n",
    "\n",
    "The coefficient matrix $C$ is the matrix that contains the coefficients of the linear combination of atomic orbitals that form the molecular orbitals. The coefficient matrix is different for each basis set. $\\phi_{\\mu j}$ is the atomic orbital $\\mu$ for atom $j$ and contains a product of radial and angular (spherical harmonic) parts. \n",
    "\n",
    "In this notebook, we understand the rotation of the coefficient matrix computed in different basis sets. To illustrate this rotation, we will use a simple example of a water molecule, rotated at different Euler angles $\\alpha$, $\\beta$ and $\\gamma$."
   ]
  },
  {
   "cell_type": "code",
   "execution_count": null,
   "metadata": {},
   "outputs": [],
   "source": [
    "from collections import defaultdict\n",
    "\n",
    "import json\n",
    "\n",
    "import numpy as np\n",
    "\n",
    "import plotly.express as px\n",
    "\n",
    "from ase.data import atomic_numbers\n",
    "from ase.visualize import view\n",
    "\n",
    "from pymatgen.core.structure import Molecule\n",
    "from pymatgen.io.ase import AseAtomsAdaptor\n",
    "\n",
    "import basis_set_exchange as bse\n",
    "\n",
    "import torch\n",
    "\n",
    "from e3nn import o3\n",
    "\n",
    "from minimal_basis.predata.matrices import ReducedBasisMatrices \n",
    "from minimal_basis.transforms.rotations import RotationMatrix\n",
    "\n",
    "from instance_mongodb import instance_mongodb_sei"
   ]
  },
  {
   "cell_type": "code",
   "execution_count": null,
   "metadata": {},
   "outputs": [],
   "source": [
    "db = instance_mongodb_sei(project=\"mlts\")\n",
    "collection = db.rotated_water_calculations\n",
    "basis_sets = collection.distinct('orig.rem.basis')\n",
    "data = defaultdict(lambda: defaultdict(list))\n",
    "\n",
    "for basis_set in basis_sets:\n",
    "    basis_info = bse.get_basis(basis_set, fmt='json', elements=[1, 8])\n",
    "    basis_info = json.loads(basis_info)\n",
    "\n",
    "    electron_shells = {k: basis_info['elements'][k]['electron_shells'] for k in basis_info['elements'].keys()}\n",
    "    angular_momenta = {k: [shell['angular_momentum'] for shell in electron_shells[k]] for k in electron_shells.keys()}\n",
    "    angular_momenta = {k: [item for sublist in angular_momenta[k] for item in sublist] for k in angular_momenta.keys()}\n",
    "\n",
    "    find_tags = {'orig.rem.basis': basis_set, 'tags.inverted_coordinates': True}\n",
    "    for doc in collection.find(find_tags).sort('tags.idx', 1):\n",
    "        _alpha_coeff_matrix = doc['calcs_reversed'][0]['alpha_coeff_matrix']\n",
    "        _alpha_eigenvalues = doc['calcs_reversed'][0]['alpha_eigenvalues']\n",
    "        _alpha_fock_matrix = doc['calcs_reversed'][0]['alpha_fock_matrix']\n",
    "\n",
    "        _alpha_coeff_matrix = np.array(_alpha_coeff_matrix)\n",
    "        _alpha_eigenvalues = np.array(_alpha_eigenvalues)\n",
    "        _alpha_fock_matrix = np.array(_alpha_fock_matrix)\n",
    "\n",
    "        molecule = Molecule.from_dict(doc['orig']['molecule'])\n",
    "        symbols = [site.specie.symbol for site in molecule.sites]\n",
    "        atom_numbers = [atomic_numbers[symbol] for symbol in symbols]\n",
    "\n",
    "        _irreps = \"\"\n",
    "        indices_to_keep = []\n",
    "        _idx = 0\n",
    "        _basis_functions_orbital = []\n",
    "        for atom_number in atom_numbers:\n",
    "            _angular_momenta = angular_momenta[str(atom_number)]\n",
    "            _angular_momenta = np.array(_angular_momenta)\n",
    "            _basis_functions = 2*_angular_momenta + 1\n",
    "            for _basis_function in _basis_functions:\n",
    "                if _basis_function == 1:\n",
    "                    _basis_functions_orbital.extend(['s'])\n",
    "                    _irreps += \"+1x0e\"\n",
    "                    indices_to_keep.append(_idx)\n",
    "                    _idx += 1\n",
    "                elif _basis_function == 3:\n",
    "                    _basis_functions_orbital.extend(['p', 'p', 'p'])\n",
    "                    _irreps += \"+1x1o\"\n",
    "                    indices_to_keep.extend([_idx+1, _idx+2, _idx])\n",
    "                    _idx += 3\n",
    "                elif _basis_function == 5 and basis_set != '6-31g*':\n",
    "                    _basis_functions_orbital.extend(['d', 'd', 'd', 'd', 'd'])\n",
    "                    _irreps += \"+1x2e\"\n",
    "                    indices_to_keep.extend([_idx, _idx+1, _idx+2, _idx+3, _idx+4]) \n",
    "                    _idx += 5\n",
    "                elif _basis_function == 5 and basis_set == '6-31g*':\n",
    "                    _idx += 6\n",
    "\n",
    "        _irreps = _irreps[1:]\n",
    "\n",
    "        base_quantities_qchem = ReducedBasisMatrices(\n",
    "            fock_matrix=_alpha_fock_matrix,\n",
    "            eigenvalues=_alpha_eigenvalues,\n",
    "            coeff_matrix=_alpha_coeff_matrix,\n",
    "            indices_to_keep=indices_to_keep,\n",
    "        )\n",
    "\n",
    "        alpha_ortho_coeff_matrix = base_quantities_qchem.get_ortho_coeff_matrix()\n",
    "        alpha_coeff_matrix = base_quantities_qchem.get_coeff_matrix()\n",
    "        alpha_fock_matrix = base_quantities_qchem.get_fock_matrix()\n",
    "        alpha_eigenvalues = base_quantities_qchem.eigenval_ortho_fock\n",
    "\n",
    "\n",
    "        data[basis_set]['alpha_coeff_matrix'].append(alpha_coeff_matrix)\n",
    "        data[basis_set]['alpha_eigenvalues'].append(alpha_eigenvalues)\n",
    "        data[basis_set]['alpha_fock_matrix'].append(alpha_fock_matrix)\n",
    "        data[basis_set]['alpha_ortho_coeff_matrix'].append(alpha_ortho_coeff_matrix)\n",
    "        data[basis_set]['basis_functions_orbital'].append(_basis_functions_orbital)\n",
    "        data[basis_set]['irreps'].append(_irreps)\n",
    "        data[basis_set]['euler_angles'].append(doc['tags']['euler_angles'])\n",
    "        data[basis_set]['idx'].append(doc['tags']['idx'])\n",
    "        data[basis_set]['molecule'].append(molecule)\n",
    "\n",
    "for basis_set in basis_sets:\n",
    "    for key in data[basis_set].keys():\n",
    "        if key == 'molecule':\n",
    "            continue\n",
    "        data[basis_set][key] = np.array(data[basis_set][key])"
   ]
  },
  {
   "cell_type": "code",
   "execution_count": null,
   "metadata": {},
   "outputs": [],
   "source": [
    "basis_set = \"6-31g*\"\n",
    "quantity = \"alpha_ortho_coeff_matrix\""
   ]
  },
  {
   "attachments": {},
   "cell_type": "markdown",
   "metadata": {},
   "source": [
    "## Structures"
   ]
  },
  {
   "cell_type": "code",
   "execution_count": null,
   "metadata": {},
   "outputs": [],
   "source": [
    "all_molecules = data[basis_set]['molecule']\n",
    "all_atoms = [AseAtomsAdaptor.get_atoms(molecule) for molecule in all_molecules]\n",
    "# Vary the below index from 0-9 to visualise the rotations\n",
    "view(all_atoms[7], viewer=\"x3d\")"
   ]
  },
  {
   "attachments": {},
   "cell_type": "markdown",
   "metadata": {},
   "source": [
    "## $\\alpha$ coefficient matrix\n",
    "\n",
    "We will now generate the Coefficient matrices from DFT and compare it with the rotations coming from the Euler angles."
   ]
  },
  {
   "cell_type": "code",
   "execution_count": null,
   "metadata": {},
   "outputs": [],
   "source": [
    "fig = px.imshow(data[basis_set][quantity], animation_frame=0, range_color=[-1, 1])\n",
    "labels = data[basis_set]['basis_functions_orbital'][0]\n",
    "fig.update_yaxes(ticktext=labels, tickvals=list(range(len(labels))))\n",
    "fig.update_xaxes(ticktext=np.round(data[basis_set]['alpha_eigenvalues'][0], 3), tickvals=list(range(len(data[basis_set]['alpha_eigenvalues'][0]))))\n",
    "fig.update_yaxes(title_text=\"Atomic orbitals\")\n",
    "fig.update_xaxes(title_text=\"Eigenvalues of molecular orbitals (Ha)\")\n",
    "fig.update_layout(title=\"Coefficient matrix from DFT calculation\")\n",
    "fig.show()"
   ]
  },
  {
   "cell_type": "code",
   "execution_count": null,
   "metadata": {},
   "outputs": [],
   "source": [
    "new_coeff_matrix = []\n",
    "calculated_coeff_matrix = data[basis_set][quantity]\n",
    "original_coeff_matrix = calculated_coeff_matrix[0] \n",
    "\n",
    "for _idx, angles in enumerate(data[basis_set]['euler_angles']):\n",
    "\n",
    "    torch_angles = torch.tensor(angles, dtype=torch.float64)\n",
    "\n",
    "    irreps = data[basis_set]['irreps'][_idx]\n",
    "    irreps = o3.Irreps(irreps)\n",
    "\n",
    "    rotation_matrix = RotationMatrix(angle_type=\"euler\", angles=angles)() \n",
    "    rotation_matrix = torch.tensor(rotation_matrix, dtype=torch.float64)\n",
    "     \n",
    "    D_matrix = irreps.D_from_matrix(rotation_matrix)\n",
    "    D_matrix = D_matrix.detach().numpy()\n",
    "\n",
    "    _new_coeff_matrix = np.zeros_like(original_coeff_matrix)\n",
    "    for i in range(original_coeff_matrix.shape[1]):\n",
    "        _new_coeff_matrix[:, i] = original_coeff_matrix[:, i] @ D_matrix.T\n",
    "\n",
    "    new_coeff_matrix.append(_new_coeff_matrix)\n",
    "\n",
    "new_coeff_matrix = np.array(new_coeff_matrix)\n",
    "\n",
    "fig = px.imshow(new_coeff_matrix, animation_frame=0, range_color=[-1, 1])\n",
    "fig.update_yaxes(ticktext=labels, tickvals=list(range(len(labels))))\n",
    "fig.update_xaxes(ticktext=np.round(data[basis_set]['alpha_eigenvalues'][0], 3), tickvals=list(range(len(data[basis_set]['alpha_eigenvalues'][0]))))\n",
    "fig.update_yaxes(title_text=\"Atomic orbitals\")\n",
    "fig.update_xaxes(title_text=\"Eigenvalues of molecular orbitals (Ha)\")\n",
    "fig.update_layout(title=\"Rotated coefficient matrix from D-matrix based on rotated Euler angles\")\n",
    "fig.show()"
   ]
  },
  {
   "cell_type": "code",
   "execution_count": null,
   "metadata": {},
   "outputs": [],
   "source": [
    "difference_matrices = np.abs(new_coeff_matrix) - np.abs(calculated_coeff_matrix)\n",
    "fig = px.imshow(difference_matrices, animation_frame=0, range_color=[-1, 1])\n",
    "fig.update_yaxes(ticktext=labels, tickvals=list(range(len(labels))))\n",
    "fig.update_xaxes(ticktext=np.round(data[basis_set]['alpha_eigenvalues'][0], 3), tickvals=list(range(len(data[basis_set]['alpha_eigenvalues'][0]))))\n",
    "fig.update_yaxes(title_text=\"Atomic orbitals\")\n",
    "fig.update_xaxes(title_text=\"Eigenvalues of molecular orbitals (Ha)\")\n",
    "fig.update_layout(title=\"Difference between rotated and calculated coefficient matrix\")\n",
    "fig.show()"
   ]
  },
  {
   "cell_type": "code",
   "execution_count": null,
   "metadata": {},
   "outputs": [],
   "source": []
  }
 ],
 "metadata": {
  "kernelspec": {
   "display_name": "molml",
   "language": "python",
   "name": "python3"
  },
  "language_info": {
   "codemirror_mode": {
    "name": "ipython",
    "version": 3
   },
   "file_extension": ".py",
   "mimetype": "text/x-python",
   "name": "python",
   "nbconvert_exporter": "python",
   "pygments_lexer": "ipython3",
   "version": "3.9.15"
  }
 },
 "nbformat": 4,
 "nbformat_minor": 2
}
