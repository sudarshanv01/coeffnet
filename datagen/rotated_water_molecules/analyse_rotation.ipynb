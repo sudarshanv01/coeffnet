{
 "cells": [
  {
   "attachments": {},
   "cell_type": "markdown",
   "metadata": {},
   "source": [
    "## Analyze rotation of water with pyscf calculation"
   ]
  },
  {
   "cell_type": "code",
   "execution_count": null,
   "metadata": {},
   "outputs": [],
   "source": [
    "from pyscf import gto\n",
    "import numpy as np\n",
    "from e3nn import o3\n",
    "from collections import defaultdict\n",
    "import pandas as pd\n",
    "from pymatgen.core.structure import Molecule\n",
    "from pyscf import dft\n",
    "import plotly.express as px\n",
    "from pprint import pprint\n",
    "from minimal_basis.transforms.rotations import RotationMatrix\n",
    "from instance_mongodb import instance_mongodb_sei"
   ]
  },
  {
   "cell_type": "code",
   "execution_count": null,
   "metadata": {},
   "outputs": [],
   "source": [
    "db = instance_mongodb_sei(project=\"mlts\")\n",
    "collection = db.rotated_water_initial_structures\n",
    "\n",
    "data = defaultdict(list)\n",
    "\n",
    "for doc in collection.find():\n",
    "    pymatgen_molecule = doc[\"molecule\"]\n",
    "    pymatgen_molecule = Molecule.from_dict(pymatgen_molecule)\n",
    "    coordinates = np.array(pymatgen_molecule.cart_coords)\n",
    "    species = [str(site.specie) for site in pymatgen_molecule]\n",
    "    mol = gto.Mole()\n",
    "\n",
    "    atom_string = ''.join([f\"{species[i]} {coordinates[i][0]} {coordinates[i][1]} {coordinates[i][2]}; \" for i in range(len(species))])\n",
    "    atom_string = atom_string[:-2]\n",
    "\n",
    "    mol.atom = atom_string\n",
    "    mol.basis = 'def2-svp'\n",
    "    mol.build()\n",
    "\n",
    "    rks_h2o = dft.RKS(mol)\n",
    "    rks_h2o.xc = 'b3lyp'\n",
    "\n",
    "    rks_h2o.kernel()\n",
    "\n",
    "    data[\"molecule\"].append(mol)\n",
    "    data[\"rks\"].append(rks_h2o)\n",
    "    data[\"euler_angles\"].append(doc[\"euler_angles\"])\n"
   ]
  },
  {
   "cell_type": "code",
   "execution_count": null,
   "metadata": {},
   "outputs": [],
   "source": [
    "coeff_matrices = []\n",
    "for idx, molecule in enumerate(data['molecule']):\n",
    "    rks = data['rks'][idx]\n",
    "    mo_coeff = rks.mo_coeff\n",
    "    coeff_matrices.append(mo_coeff)\n",
    "\n",
    "    if idx == 0:\n",
    "        labels = molecule.ao_labels()\n",
    "        eigenvalues = rks.mo_energy\n",
    "\n",
    "coeff_matrices = np.array(coeff_matrices)\n",
    "fig = px.imshow(coeff_matrices, animation_frame=0)\n",
    "fig.update_xaxes(title_text='MO Index')\n",
    "fig.update_yaxes(title_text='AO Index')\n",
    "\n",
    "fig.update_yaxes(ticktext=labels, tickvals=np.arange(len(labels)))\n",
    "# Add the eigenvalues of the MO as the x-axis ticktext\n",
    "fig.update_xaxes(ticktext=np.round(eigenvalues, 2), tickvals=np.arange(len(eigenvalues)))\n",
    "\n",
    "fig.show()"
   ]
  },
  {
   "cell_type": "code",
   "execution_count": null,
   "metadata": {},
   "outputs": [],
   "source": [
    "def labels_to_dataframe(pyscf_labels):\n",
    "    \"\"\"Convert the pyscf labels to irreps.\"\"\"\n",
    "    pyscf_labels = [label.split()[0:3] for label in pyscf_labels]\n",
    "    pyscf_labels = [\n",
    "        d[:-1] + [d[-1][0]] + [d[-1][1]] + [d[-1][2:]] for d in pyscf_labels\n",
    "    ]\n",
    "    pyscf_labels = pd.DataFrame(\n",
    "        pyscf_labels, columns=[\"atom_idx\", \"atom_name\", \"n\", \"l\", \"m\"]\n",
    "    )\n",
    "    pyscf_labels[\"atom_idx\"] = pyscf_labels[\"atom_idx\"].astype(int)\n",
    "    pyscf_labels[\"n\"] = pyscf_labels[\"n\"].astype(int)\n",
    "    return pyscf_labels\n",
    "\n",
    "df_labels = labels_to_dataframe(labels)\n",
    "l = df_labels.l.values\n",
    "m = df_labels.m.values\n",
    "\n",
    "idx = 0\n",
    "irreps = \"\"\n",
    "while idx < len(l):\n",
    "    if l[idx] == \"s\":\n",
    "        irreps += \"+1x0e\"\n",
    "        idx += 1\n",
    "    elif l[idx] == \"p\":\n",
    "        irreps += \"+1x1o\"\n",
    "        idx += 3\n",
    "    elif l[idx] == \"d\":\n",
    "        irreps += \"+1x2e\"\n",
    "        idx += 5\n",
    "irreps = irreps[1:]\n",
    "print(f\"irreps: {irreps}\")\n"
   ]
  }
 ],
 "metadata": {
  "kernelspec": {
   "display_name": "molml",
   "language": "python",
   "name": "python3"
  },
  "language_info": {
   "codemirror_mode": {
    "name": "ipython",
    "version": 3
   },
   "file_extension": ".py",
   "mimetype": "text/x-python",
   "name": "python",
   "nbconvert_exporter": "python",
   "pygments_lexer": "ipython3",
   "version": "3.9.16"
  }
 },
 "nbformat": 4,
 "nbformat_minor": 2
}
