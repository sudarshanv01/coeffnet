{
 "cells": [
  {
   "attachments": {},
   "cell_type": "markdown",
   "metadata": {},
   "source": [
    "## Confirm rotation and `irreps` of a reaction"
   ]
  },
  {
   "cell_type": "code",
   "execution_count": null,
   "metadata": {},
   "outputs": [],
   "source": [
    "import json\n",
    "\n",
    "import numpy as np\n",
    "\n",
    "import plotly.express as px\n",
    "\n",
    "from ase.visualize import view\n",
    "\n",
    "from pymatgen.core.structure import Molecule\n",
    "from pymatgen.io.ase import AseAtomsAdaptor\n",
    "\n",
    "import basis_set_exchange as bse\n",
    "\n",
    "import torch\n",
    "\n",
    "from e3nn import o3\n",
    "\n",
    "from minimal_basis.transforms.rotations import RotationMatrix\n",
    "from minimal_basis.predata.matrices import TaskdocsToData\n",
    "\n",
    "from instance_mongodb import instance_mongodb_sei"
   ]
  },
  {
   "cell_type": "code",
   "execution_count": null,
   "metadata": {},
   "outputs": [],
   "source": [
    "db = instance_mongodb_sei(project=\"mlts\")\n",
    "collection = db.rotated_sn2_reaction_calculation\n",
    "\n",
    "basis_info = bse.get_basis(\"6-31g*\", fmt=\"json\", elements=list(range(1, 19)))\n",
    "basis_info = json.loads(basis_info)\n",
    "\n",
    "kwargs = {\n",
    "    \"store_extra_tags\": \"euler_angles\"\n",
    "}\n",
    "\n",
    "taskdocs_to_data = TaskdocsToData(\n",
    "    collection=collection,\n",
    "    filter_collection={'tags.inverted_coordinates': True},\n",
    "    identifier=\"idx\",\n",
    "    state_identifier=\"state\",\n",
    "    reactant_tag=\"reactant\",\n",
    "    transition_state_tag=\"transition_state\",\n",
    "    product_tag=\"product\",\n",
    "    basis_set_type=\"full\",\n",
    "    basis_info_raw=basis_info,\n",
    "    d_functions_are_spherical=True,\n",
    "    **kwargs\n",
    ")\n",
    "data = taskdocs_to_data.get_data()"
   ]
  },
  {
   "cell_type": "code",
   "execution_count": null,
   "metadata": {},
   "outputs": [],
   "source": [
    "quantity = \"coeff_matrices\"\n",
    "state_idx = 0 # 0 for reactant, 1 for transition state, 2 for product"
   ]
  },
  {
   "cell_type": "code",
   "execution_count": null,
   "metadata": {},
   "outputs": [],
   "source": [
    "all_molecules = [ data[i]['structures'] for i in range(len(data)) ]\n",
    "all_reactant_atoms = []\n",
    "all_transition_state_atoms = []\n",
    "all_product_atoms = []\n",
    "for _molecules in all_molecules:\n",
    "    molecules = [Molecule.from_dict(molecule) for molecule in _molecules] \n",
    "    all_reactant_atoms += [AseAtomsAdaptor.get_atoms(molecules[0])]\n",
    "    all_transition_state_atoms += [AseAtomsAdaptor.get_atoms(molecules[1])]\n",
    "    all_product_atoms += [AseAtomsAdaptor.get_atoms(molecules[2])]\n",
    "view(all_transition_state_atoms[7], viewer=\"x3d\")"
   ]
  },
  {
   "cell_type": "code",
   "execution_count": null,
   "metadata": {},
   "outputs": [],
   "source": [
    "quantity_to_plot = [ data[i][quantity][state_idx] for i in range(len(data)) ]\n",
    "quantity_to_plot = np.array(quantity_to_plot)\n",
    "quantity_to_plot = quantity_to_plot[:, 0, ...]\n",
    "fig = px.imshow(quantity_to_plot, animation_frame=0, range_color=[-1, 1])\n",
    "labels = data[0]['orbital_info'][state_idx]\n",
    "fig.update_yaxes(ticktext=labels, tickvals=list(range(len(labels))))\n",
    "eigenvalues = data[0]['eigenvalues'][state_idx][0]\n",
    "fig.update_xaxes(ticktext=np.round(eigenvalues, 3), tickvals=list(range(len(eigenvalues))))\n",
    "fig.update_yaxes(title_text=\"Atomic orbitals\")\n",
    "fig.update_xaxes(title_text=\"Eigenvalues of molecular orbitals (Ha)\")\n",
    "fig.update_layout(title=\"Coefficient matrix from DFT calculation\")\n",
    "# Decrease font size of x and y tick labels \n",
    "fig.update_xaxes(tickfont=dict(size=4))\n",
    "fig.update_yaxes(tickfont=dict(size=4))\n",
    "fig.show()"
   ]
  },
  {
   "cell_type": "code",
   "execution_count": null,
   "metadata": {},
   "outputs": [],
   "source": [
    "new_coeff_matrix = []\n",
    "calculated_coeff_matrix = quantity_to_plot \n",
    "original_coeff_matrix = calculated_coeff_matrix[0] \n",
    "\n",
    "for _idx in range(len(data)):\n",
    "\n",
    "    angles = data[_idx]['euler_angles'][0]\n",
    "    torch_angles = torch.tensor(angles, dtype=torch.float64)\n",
    "\n",
    "    irreps = data[_idx]['irreps'][0]\n",
    "    irreps = o3.Irreps(irreps)\n",
    "\n",
    "    rotation_matrix = RotationMatrix(angle_type=\"euler\", angles=angles)() \n",
    "    rotation_matrix = torch.tensor(rotation_matrix, dtype=torch.float64)\n",
    "    \n",
    "    if _idx == 0:\n",
    "        rotation_matrix_0 = rotation_matrix\n",
    "    \n",
    "    rotation_matrix = rotation_matrix @ rotation_matrix_0.T\n",
    "     \n",
    "    D_matrix = irreps.D_from_matrix(rotation_matrix)\n",
    "    D_matrix = D_matrix.detach().numpy()\n",
    "\n",
    "    _new_coeff_matrix = np.zeros_like(original_coeff_matrix)\n",
    "    for i in range(original_coeff_matrix.shape[1]):\n",
    "        _new_coeff_matrix[:, i] = original_coeff_matrix[:, i] @ D_matrix.T\n",
    "\n",
    "    new_coeff_matrix.append(_new_coeff_matrix)\n",
    "\n",
    "new_coeff_matrix = np.array(new_coeff_matrix)\n",
    "\n",
    "fig = px.imshow(new_coeff_matrix, animation_frame=0, range_color=[-1, 1])\n",
    "fig.update_yaxes(ticktext=labels, tickvals=list(range(len(labels))))\n",
    "# fig.update_xaxes(ticktext=np.round(data['alpha_eigenvalues'][0], 3), tickvals=list(range(len(data['alpha_eigenvalues'][0]))))\n",
    "fig.update_yaxes(title_text=\"Atomic orbitals\")\n",
    "fig.update_xaxes(title_text=\"Eigenvalues of molecular orbitals (Ha)\")\n",
    "fig.update_layout(title=\"Rotated coefficient matrix from D-matrix based on rotated Euler angles\")\n",
    "fig.show()"
   ]
  },
  {
   "cell_type": "code",
   "execution_count": null,
   "metadata": {},
   "outputs": [],
   "source": [
    "difference_matrices = np.abs(new_coeff_matrix) - np.abs(calculated_coeff_matrix)\n",
    "print(f\"Maximum difference: {np.max(difference_matrices)}\")\n",
    "fig = px.imshow(difference_matrices, animation_frame=0, range_color=[-1, 1])\n",
    "fig.update_yaxes(ticktext=labels, tickvals=list(range(len(labels))))\n",
    "# fig.update_xaxes(ticktext=np.round(data['alpha_eigenvalues'][0], 3), tickvals=list(range(len(data['alpha_eigenvalues'][0]))))\n",
    "fig.update_yaxes(title_text=\"Atomic orbitals\")\n",
    "fig.update_xaxes(title_text=\"Eigenvalues of molecular orbitals (Ha)\")\n",
    "fig.update_layout(title=\"Difference between rotated and calculated coefficient matrix\")\n",
    "fig.show()"
   ]
  },
  {
   "cell_type": "code",
   "execution_count": null,
   "metadata": {},
   "outputs": [],
   "source": []
  }
 ],
 "metadata": {
  "kernelspec": {
   "display_name": "molml",
   "language": "python",
   "name": "python3"
  },
  "language_info": {
   "codemirror_mode": {
    "name": "ipython",
    "version": 3
   },
   "file_extension": ".py",
   "mimetype": "text/x-python",
   "name": "python",
   "nbconvert_exporter": "python",
   "pygments_lexer": "ipython3",
   "version": "3.9.15"
  }
 },
 "nbformat": 4,
 "nbformat_minor": 2
}
