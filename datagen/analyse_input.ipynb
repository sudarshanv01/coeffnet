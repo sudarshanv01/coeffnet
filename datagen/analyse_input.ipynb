{
 "cells": [
  {
   "attachments": {},
   "cell_type": "markdown",
   "metadata": {},
   "source": [
    "## Analysing training data"
   ]
  },
  {
   "cell_type": "code",
   "execution_count": 22,
   "metadata": {},
   "outputs": [],
   "source": [
    "import numpy as np\n",
    "import plotly.express as px\n",
    "from instance_mongodb import instance_mongodb_sei\n",
    "\n",
    "from ase import units as ase_units\n",
    "\n",
    "MATCHER = {\n",
    "    \"X\": {\n",
    "        \"A\": \"F\",\n",
    "        \"B\": \"Cl\",\n",
    "        \"C\": \"Br\",\n",
    "    },\n",
    "    \"Y\": {\n",
    "        \"A\": \"H\",\n",
    "        \"B\": \"F\",\n",
    "        \"C\": \"Cl\",\n",
    "        \"D\": \"Br\",\n",
    "    },\n",
    "}\n",
    "\n",
    "\n"
   ]
  },
  {
   "cell_type": "code",
   "execution_count": 2,
   "metadata": {},
   "outputs": [],
   "source": [
    "db = instance_mongodb_sei('mlts')\n",
    "collection = db['minimal_basis_interpolated_sn2']\n",
    "\n",
    "attacking_species = []\n",
    "leaving_species = []\n",
    "barriers = []\n",
    "\n",
    "for doc in collection.find({}):\n",
    "    tags = doc['tags']\n",
    "    label = tags['label']\n",
    "\n",
    "    R1, R2, R3, R4, X, Y = label.split(\"_\")\n",
    "\n",
    "    leaving_species.append(MATCHER[\"X\"][X])\n",
    "    attacking_species.append(MATCHER[\"Y\"][Y])\n",
    "\n",
    "    barrier = doc['final_energy'][1] - doc['final_energy'][0]\n",
    "    barriers.append(barrier)\n",
    "\n",
    "barriers = np.array(barriers) * ase_units.Hartree\n"
   ]
  },
  {
   "cell_type": "code",
   "execution_count": null,
   "metadata": {},
   "outputs": [],
   "source": [
    "coeff_matrix_test = doc[\"coeff_matrices\"]\n",
    "coeff_matrix_test = np.array(coeff_matrix_test)\n",
    "alpha_coeff_matrix_test = coeff_matrix_test[2,0]\n",
    "sum_square_alpha = np.sum(alpha_coeff_matrix_test**2, axis=1)\n",
    "print(sum_square_alpha)\n",
    "# Plot an imshow of the alpha coefficients\n",
    "fig = px.imshow(alpha_coeff_matrix_test)\n",
    "fig.show()"
   ]
  },
  {
   "cell_type": "code",
   "execution_count": 15,
   "metadata": {},
   "outputs": [
    {
     "data": {
      "application/vnd.plotly.v1+json": {
       "config": {
        "plotlyServerURL": "https://plot.ly"
       },
       "data": [
        {
         "alignmentgroup": "True",
         "bingroup": "x",
         "hovertemplate": "x=%{x}<br>count=%{y}<extra></extra>",
         "legendgroup": "",
         "marker": {
          "color": "#1F77B4",
          "pattern": {
           "shape": ""
          }
         },
         "name": "",
         "nbinsx": 20,
         "offsetgroup": "",
         "orientation": "v",
         "showlegend": false,
         "type": "histogram",
         "x": [
          "Cl",
          "F",
          "Cl",
          "F",
          "Br",
          "Cl",
          "F",
          "Cl",
          "Br",
          "Cl",
          "F",
          "F",
          "Br",
          "Br",
          "F",
          "H",
          "Cl",
          "H",
          "F",
          "F",
          "F",
          "Br",
          "F",
          "Br",
          "Br",
          "Cl",
          "F",
          "Br",
          "Cl",
          "F",
          "Cl",
          "F",
          "Cl",
          "F",
          "F",
          "Br",
          "F",
          "Cl",
          "F",
          "Cl",
          "Br",
          "Cl",
          "Cl",
          "F",
          "Cl",
          "H",
          "Br",
          "Br",
          "F",
          "F",
          "F",
          "Cl",
          "Cl",
          "Br",
          "H",
          "Br",
          "H",
          "Cl",
          "Br",
          "Cl",
          "F",
          "F",
          "Cl",
          "Cl",
          "F",
          "F",
          "Br",
          "F",
          "F",
          "F",
          "Cl",
          "Cl",
          "Cl",
          "Cl",
          "F",
          "Cl",
          "Cl",
          "H",
          "Cl",
          "F",
          "F",
          "F",
          "Cl",
          "Br",
          "F",
          "Cl",
          "Cl",
          "Cl",
          "Br",
          "Cl",
          "F",
          "Cl",
          "F",
          "F",
          "F",
          "Cl",
          "F",
          "H",
          "F",
          "F",
          "F",
          "Cl",
          "Cl",
          "Cl",
          "F",
          "Cl",
          "F",
          "H",
          "H",
          "Cl",
          "Cl",
          "Cl",
          "H",
          "Cl",
          "Cl",
          "Br",
          "Cl",
          "F",
          "Br",
          "Cl",
          "H",
          "H",
          "F",
          "F",
          "H",
          "Br",
          "F",
          "H",
          "F",
          "F",
          "H",
          "H",
          "H",
          "F",
          "F",
          "Cl",
          "F",
          "F",
          "H",
          "Br",
          "Br",
          "Br",
          "F",
          "Br",
          "Br",
          "H",
          "H",
          "F",
          "H",
          "H",
          "H",
          "H",
          "Br",
          "H",
          "Cl",
          "Cl",
          "H",
          "Cl",
          "Cl",
          "Cl",
          "Cl",
          "Cl",
          "Cl",
          "Cl",
          "F",
          "H",
          "H",
          "Cl",
          "Br",
          "H",
          "F",
          "F",
          "Cl",
          "Br",
          "Br",
          "Cl",
          "H",
          "Cl",
          "Cl",
          "F",
          "Cl",
          "Br",
          "H",
          "Cl",
          "F",
          "H",
          "F",
          "Br",
          "Br",
          "H",
          "F",
          "Br",
          "Cl",
          "Br",
          "H",
          "F",
          "F",
          "Cl",
          "F",
          "H",
          "Br",
          "Cl",
          "F",
          "H",
          "Cl",
          "Br",
          "F",
          "F",
          "F",
          "F",
          "Cl",
          "Cl",
          "H",
          "Cl",
          "F",
          "Br",
          "H",
          "H",
          "Cl",
          "Cl",
          "F",
          "Br",
          "F",
          "F",
          "Cl",
          "Cl",
          "F",
          "Br",
          "H",
          "Cl",
          "F",
          "F",
          "Br",
          "Br",
          "H",
          "F",
          "Cl",
          "F",
          "F",
          "F",
          "F",
          "F",
          "F",
          "F",
          "F",
          "H",
          "F",
          "H",
          "Cl",
          "Br",
          "H",
          "F",
          "Cl",
          "F",
          "F",
          "Cl",
          "F",
          "H",
          "F",
          "F",
          "H",
          "F",
          "Cl",
          "Cl",
          "H",
          "F",
          "F",
          "Cl",
          "H",
          "F",
          "F",
          "F",
          "H",
          "H",
          "H",
          "Br",
          "Cl",
          "Cl",
          "Br",
          "F",
          "Cl",
          "Cl",
          "F",
          "H",
          "F",
          "H",
          "Br",
          "Cl",
          "Br",
          "H",
          "Cl",
          "H",
          "Cl",
          "Cl",
          "F",
          "F",
          "F",
          "F",
          "Br",
          "Cl",
          "Cl",
          "F",
          "H",
          "Br",
          "Br",
          "F",
          "H",
          "F",
          "Cl",
          "F",
          "Cl",
          "Cl",
          "F",
          "Cl",
          "Cl",
          "F",
          "F",
          "Cl",
          "Cl",
          "F",
          "Cl",
          "Cl",
          "Cl",
          "Cl",
          "Br",
          "F",
          "Cl",
          "F",
          "Br",
          "F",
          "F",
          "Br",
          "Cl",
          "Br",
          "F",
          "Br",
          "F",
          "F",
          "F",
          "H",
          "Cl",
          "Cl",
          "F",
          "F",
          "F",
          "F",
          "Cl",
          "Cl",
          "Cl",
          "F",
          "F",
          "Cl",
          "Br",
          "Cl",
          "Br",
          "Br",
          "H",
          "Cl",
          "H",
          "Cl",
          "F",
          "Br",
          "F",
          "F",
          "Cl",
          "H",
          "Cl",
          "Br",
          "Br",
          "F",
          "Cl",
          "Cl",
          "F",
          "H",
          "Cl",
          "Cl",
          "F",
          "H",
          "Cl",
          "Cl",
          "Cl",
          "H",
          "F",
          "Cl",
          "F",
          "Cl",
          "H",
          "Cl",
          "F",
          "Cl",
          "F",
          "F",
          "Cl",
          "Cl",
          "Cl",
          "F",
          "Cl",
          "H",
          "F",
          "F",
          "H",
          "F",
          "F",
          "H",
          "Cl",
          "H",
          "Cl",
          "F",
          "Cl",
          "F",
          "F",
          "F",
          "F",
          "F",
          "H",
          "Cl",
          "H",
          "F",
          "F",
          "F",
          "F",
          "F",
          "Cl",
          "H",
          "Cl",
          "Cl",
          "Cl",
          "Cl",
          "Br",
          "F",
          "F",
          "Br",
          "Cl",
          "F",
          "Cl",
          "F",
          "Cl",
          "F",
          "F",
          "H",
          "Br",
          "F",
          "F",
          "H",
          "Br",
          "F",
          "F",
          "Cl",
          "Cl",
          "H",
          "Cl",
          "F",
          "F",
          "Cl",
          "F",
          "Cl",
          "H",
          "Cl",
          "Cl",
          "H",
          "H",
          "F",
          "F",
          "F",
          "F",
          "H",
          "F",
          "Cl",
          "F",
          "Cl",
          "F",
          "F",
          "Cl",
          "Cl",
          "F",
          "H",
          "F",
          "F",
          "Cl",
          "F",
          "Cl",
          "Br",
          "Cl",
          "Cl",
          "Br",
          "H",
          "Br",
          "F",
          "Cl",
          "Cl",
          "Cl",
          "Cl",
          "F",
          "Cl",
          "Br",
          "F",
          "F",
          "F",
          "Cl",
          "Cl",
          "Cl",
          "F",
          "Br",
          "H",
          "Br",
          "H",
          "F",
          "H",
          "Br",
          "Br",
          "Br",
          "H",
          "F",
          "F",
          "F",
          "F",
          "Cl",
          "H",
          "F",
          "F",
          "Cl",
          "Cl",
          "F",
          "H",
          "F",
          "H",
          "Br",
          "Br",
          "F",
          "F",
          "F",
          "Cl",
          "H",
          "Cl",
          "H",
          "F",
          "F",
          "Cl",
          "Cl",
          "Br",
          "Br",
          "Br",
          "Cl",
          "Cl",
          "F",
          "F",
          "F",
          "F",
          "F",
          "Cl",
          "H",
          "F",
          "F",
          "F",
          "Cl",
          "F",
          "Br",
          "F",
          "F",
          "Cl",
          "F",
          "F",
          "Br",
          "Cl",
          "Cl",
          "F",
          "Cl",
          "H",
          "F",
          "F",
          "Cl",
          "F",
          "Cl",
          "F",
          "H",
          "Br",
          "Br",
          "Cl",
          "F",
          "F",
          "F",
          "F",
          "Cl",
          "H",
          "F",
          "F",
          "Br",
          "H",
          "F",
          "Cl",
          "Br",
          "Br",
          "Cl",
          "H",
          "Cl",
          "F",
          "H",
          "Cl",
          "F",
          "H",
          "Cl",
          "H",
          "Cl",
          "Cl",
          "Cl",
          "H",
          "H",
          "Cl",
          "Cl",
          "Cl",
          "F",
          "H",
          "H",
          "F",
          "H",
          "F",
          "Cl",
          "Cl",
          "Cl",
          "Br",
          "Cl",
          "Cl",
          "F",
          "F",
          "Cl",
          "F",
          "F",
          "F",
          "F",
          "H",
          "H",
          "Br",
          "F",
          "F",
          "F",
          "Cl",
          "F",
          "F",
          "Cl",
          "Br",
          "F",
          "Cl",
          "F",
          "F",
          "F",
          "F",
          "H",
          "F",
          "Br",
          "H",
          "Cl",
          "F",
          "F",
          "Cl",
          "Cl",
          "H",
          "H",
          "F",
          "H",
          "Cl",
          "F",
          "Br",
          "Cl",
          "Cl",
          "H",
          "F",
          "F",
          "F",
          "F",
          "Br",
          "Br",
          "Br",
          "Cl",
          "Cl",
          "Br",
          "Cl",
          "Br",
          "H",
          "Cl",
          "F",
          "F",
          "Cl",
          "Cl",
          "Cl",
          "F",
          "F",
          "Cl",
          "H",
          "F",
          "Cl",
          "Br",
          "F",
          "Br",
          "F",
          "Cl",
          "Br",
          "F",
          "Cl",
          "F",
          "Cl",
          "Cl",
          "H",
          "Br",
          "F",
          "F",
          "Br",
          "F",
          "H",
          "Br",
          "Cl",
          "F",
          "F",
          "F",
          "F",
          "Br",
          "Cl",
          "F",
          "Br",
          "Br",
          "F",
          "F",
          "F",
          "Cl",
          "Cl",
          "Br",
          "Cl",
          "Cl",
          "F",
          "F",
          "Br",
          "Cl",
          "Cl",
          "Br",
          "F",
          "Br",
          "Br",
          "F",
          "Br",
          "F",
          "Cl",
          "F",
          "Cl",
          "H",
          "Cl",
          "F",
          "Cl",
          "Cl",
          "H",
          "Cl",
          "Cl",
          "Br",
          "H",
          "Cl",
          "Cl",
          "Cl",
          "Br",
          "Br",
          "H",
          "H",
          "Cl",
          "Br",
          "F",
          "F",
          "Cl",
          "Cl",
          "Br",
          "H",
          "Cl",
          "Cl",
          "Cl",
          "Br",
          "F",
          "Cl",
          "Cl",
          "F",
          "Cl",
          "H",
          "F",
          "F",
          "F",
          "F",
          "F",
          "Cl",
          "F",
          "H",
          "H",
          "H",
          "H",
          "Cl",
          "Cl",
          "Cl",
          "F",
          "Cl",
          "Cl",
          "H",
          "Cl",
          "H",
          "F",
          "F",
          "Cl",
          "F",
          "F",
          "Br",
          "Br",
          "H",
          "F",
          "F",
          "H",
          "F",
          "F",
          "H",
          "H",
          "F",
          "F",
          "F",
          "Cl",
          "Cl",
          "Br",
          "F",
          "F",
          "F",
          "Cl",
          "Br",
          "H",
          "F",
          "F",
          "F",
          "F",
          "Cl",
          "Br",
          "Br",
          "Cl",
          "Cl",
          "Cl",
          "Cl",
          "F",
          "F",
          "Cl",
          "H",
          "Cl",
          "F",
          "H",
          "F",
          "Br",
          "F",
          "F",
          "Br",
          "H",
          "Cl",
          "Br",
          "H",
          "Cl",
          "Cl",
          "Cl",
          "F",
          "Cl",
          "F",
          "F",
          "Cl",
          "Br",
          "Cl",
          "Cl",
          "H",
          "F",
          "F",
          "H",
          "F",
          "Br",
          "F",
          "Cl",
          "H",
          "Cl",
          "H",
          "F",
          "F",
          "Br",
          "F",
          "F",
          "Br",
          "F",
          "Cl",
          "F",
          "Cl",
          "F",
          "F",
          "F",
          "F",
          "F",
          "F",
          "Cl",
          "F",
          "Cl",
          "Br",
          "H",
          "F",
          "H",
          "Cl",
          "Cl",
          "F",
          "Cl",
          "F",
          "F",
          "Cl",
          "Br",
          "F",
          "Cl",
          "F",
          "Cl",
          "F",
          "Cl",
          "F",
          "F",
          "F",
          "F",
          "F",
          "H",
          "Br",
          "F",
          "F",
          "Br",
          "Cl",
          "Cl",
          "F",
          "F",
          "Cl",
          "Cl",
          "H",
          "Cl",
          "F",
          "F",
          "F",
          "F",
          "Br",
          "F",
          "H",
          "F",
          "Cl",
          "Cl",
          "Br",
          "F",
          "F",
          "H",
          "H",
          "Br",
          "F",
          "Cl",
          "Cl",
          "F",
          "Cl",
          "Br",
          "Cl",
          "Cl",
          "Cl",
          "Cl",
          "Cl",
          "H",
          "F",
          "Cl",
          "F",
          "Cl",
          "H",
          "Cl",
          "F",
          "Br",
          "H",
          "H",
          "Br",
          "H",
          "F",
          "Cl",
          "H",
          "Cl",
          "Cl",
          "Cl",
          "Cl",
          "Cl",
          "F",
          "F",
          "Cl",
          "F",
          "Br",
          "F",
          "Cl",
          "Br",
          "H",
          "F",
          "Br",
          "Cl",
          "Cl",
          "Cl",
          "Cl",
          "F",
          "Cl",
          "F",
          "F",
          "F",
          "Br",
          "Br",
          "H",
          "H",
          "Cl",
          "F",
          "Cl",
          "F",
          "Br",
          "F",
          "Cl",
          "H",
          "H",
          "H",
          "Cl",
          "H",
          "F",
          "F",
          "Br",
          "H",
          "H",
          "F",
          "Br",
          "F",
          "H",
          "Cl",
          "Cl",
          "Cl",
          "F",
          "Cl",
          "F",
          "H",
          "F",
          "Br",
          "F",
          "H",
          "F",
          "H",
          "Cl",
          "Br",
          "H",
          "Br",
          "H",
          "H",
          "Cl",
          "F",
          "F",
          "Cl",
          "F",
          "H",
          "Cl"
         ],
         "xaxis": "x",
         "yaxis": "y"
        }
       ],
       "layout": {
        "barmode": "relative",
        "height": 500,
        "legend": {
         "tracegroupgap": 0
        },
        "margin": {
         "t": 60
        },
        "template": {
         "data": {
          "bar": [
           {
            "error_x": {
             "color": "rgb(36,36,36)"
            },
            "error_y": {
             "color": "rgb(36,36,36)"
            },
            "marker": {
             "line": {
              "color": "white",
              "width": 0.5
             },
             "pattern": {
              "fillmode": "overlay",
              "size": 10,
              "solidity": 0.2
             }
            },
            "type": "bar"
           }
          ],
          "barpolar": [
           {
            "marker": {
             "line": {
              "color": "white",
              "width": 0.5
             },
             "pattern": {
              "fillmode": "overlay",
              "size": 10,
              "solidity": 0.2
             }
            },
            "type": "barpolar"
           }
          ],
          "carpet": [
           {
            "aaxis": {
             "endlinecolor": "rgb(36,36,36)",
             "gridcolor": "white",
             "linecolor": "white",
             "minorgridcolor": "white",
             "startlinecolor": "rgb(36,36,36)"
            },
            "baxis": {
             "endlinecolor": "rgb(36,36,36)",
             "gridcolor": "white",
             "linecolor": "white",
             "minorgridcolor": "white",
             "startlinecolor": "rgb(36,36,36)"
            },
            "type": "carpet"
           }
          ],
          "choropleth": [
           {
            "colorbar": {
             "outlinewidth": 1,
             "tickcolor": "rgb(36,36,36)",
             "ticks": "outside"
            },
            "type": "choropleth"
           }
          ],
          "contour": [
           {
            "colorbar": {
             "outlinewidth": 1,
             "tickcolor": "rgb(36,36,36)",
             "ticks": "outside"
            },
            "colorscale": [
             [
              0,
              "#440154"
             ],
             [
              0.1111111111111111,
              "#482878"
             ],
             [
              0.2222222222222222,
              "#3e4989"
             ],
             [
              0.3333333333333333,
              "#31688e"
             ],
             [
              0.4444444444444444,
              "#26828e"
             ],
             [
              0.5555555555555556,
              "#1f9e89"
             ],
             [
              0.6666666666666666,
              "#35b779"
             ],
             [
              0.7777777777777778,
              "#6ece58"
             ],
             [
              0.8888888888888888,
              "#b5de2b"
             ],
             [
              1,
              "#fde725"
             ]
            ],
            "type": "contour"
           }
          ],
          "contourcarpet": [
           {
            "colorbar": {
             "outlinewidth": 1,
             "tickcolor": "rgb(36,36,36)",
             "ticks": "outside"
            },
            "type": "contourcarpet"
           }
          ],
          "heatmap": [
           {
            "colorbar": {
             "outlinewidth": 1,
             "tickcolor": "rgb(36,36,36)",
             "ticks": "outside"
            },
            "colorscale": [
             [
              0,
              "#440154"
             ],
             [
              0.1111111111111111,
              "#482878"
             ],
             [
              0.2222222222222222,
              "#3e4989"
             ],
             [
              0.3333333333333333,
              "#31688e"
             ],
             [
              0.4444444444444444,
              "#26828e"
             ],
             [
              0.5555555555555556,
              "#1f9e89"
             ],
             [
              0.6666666666666666,
              "#35b779"
             ],
             [
              0.7777777777777778,
              "#6ece58"
             ],
             [
              0.8888888888888888,
              "#b5de2b"
             ],
             [
              1,
              "#fde725"
             ]
            ],
            "type": "heatmap"
           }
          ],
          "heatmapgl": [
           {
            "colorbar": {
             "outlinewidth": 1,
             "tickcolor": "rgb(36,36,36)",
             "ticks": "outside"
            },
            "colorscale": [
             [
              0,
              "#440154"
             ],
             [
              0.1111111111111111,
              "#482878"
             ],
             [
              0.2222222222222222,
              "#3e4989"
             ],
             [
              0.3333333333333333,
              "#31688e"
             ],
             [
              0.4444444444444444,
              "#26828e"
             ],
             [
              0.5555555555555556,
              "#1f9e89"
             ],
             [
              0.6666666666666666,
              "#35b779"
             ],
             [
              0.7777777777777778,
              "#6ece58"
             ],
             [
              0.8888888888888888,
              "#b5de2b"
             ],
             [
              1,
              "#fde725"
             ]
            ],
            "type": "heatmapgl"
           }
          ],
          "histogram": [
           {
            "marker": {
             "line": {
              "color": "white",
              "width": 0.6
             }
            },
            "type": "histogram"
           }
          ],
          "histogram2d": [
           {
            "colorbar": {
             "outlinewidth": 1,
             "tickcolor": "rgb(36,36,36)",
             "ticks": "outside"
            },
            "colorscale": [
             [
              0,
              "#440154"
             ],
             [
              0.1111111111111111,
              "#482878"
             ],
             [
              0.2222222222222222,
              "#3e4989"
             ],
             [
              0.3333333333333333,
              "#31688e"
             ],
             [
              0.4444444444444444,
              "#26828e"
             ],
             [
              0.5555555555555556,
              "#1f9e89"
             ],
             [
              0.6666666666666666,
              "#35b779"
             ],
             [
              0.7777777777777778,
              "#6ece58"
             ],
             [
              0.8888888888888888,
              "#b5de2b"
             ],
             [
              1,
              "#fde725"
             ]
            ],
            "type": "histogram2d"
           }
          ],
          "histogram2dcontour": [
           {
            "colorbar": {
             "outlinewidth": 1,
             "tickcolor": "rgb(36,36,36)",
             "ticks": "outside"
            },
            "colorscale": [
             [
              0,
              "#440154"
             ],
             [
              0.1111111111111111,
              "#482878"
             ],
             [
              0.2222222222222222,
              "#3e4989"
             ],
             [
              0.3333333333333333,
              "#31688e"
             ],
             [
              0.4444444444444444,
              "#26828e"
             ],
             [
              0.5555555555555556,
              "#1f9e89"
             ],
             [
              0.6666666666666666,
              "#35b779"
             ],
             [
              0.7777777777777778,
              "#6ece58"
             ],
             [
              0.8888888888888888,
              "#b5de2b"
             ],
             [
              1,
              "#fde725"
             ]
            ],
            "type": "histogram2dcontour"
           }
          ],
          "mesh3d": [
           {
            "colorbar": {
             "outlinewidth": 1,
             "tickcolor": "rgb(36,36,36)",
             "ticks": "outside"
            },
            "type": "mesh3d"
           }
          ],
          "parcoords": [
           {
            "line": {
             "colorbar": {
              "outlinewidth": 1,
              "tickcolor": "rgb(36,36,36)",
              "ticks": "outside"
             }
            },
            "type": "parcoords"
           }
          ],
          "pie": [
           {
            "automargin": true,
            "type": "pie"
           }
          ],
          "scatter": [
           {
            "fillpattern": {
             "fillmode": "overlay",
             "size": 10,
             "solidity": 0.2
            },
            "type": "scatter"
           }
          ],
          "scatter3d": [
           {
            "line": {
             "colorbar": {
              "outlinewidth": 1,
              "tickcolor": "rgb(36,36,36)",
              "ticks": "outside"
             }
            },
            "marker": {
             "colorbar": {
              "outlinewidth": 1,
              "tickcolor": "rgb(36,36,36)",
              "ticks": "outside"
             }
            },
            "type": "scatter3d"
           }
          ],
          "scattercarpet": [
           {
            "marker": {
             "colorbar": {
              "outlinewidth": 1,
              "tickcolor": "rgb(36,36,36)",
              "ticks": "outside"
             }
            },
            "type": "scattercarpet"
           }
          ],
          "scattergeo": [
           {
            "marker": {
             "colorbar": {
              "outlinewidth": 1,
              "tickcolor": "rgb(36,36,36)",
              "ticks": "outside"
             }
            },
            "type": "scattergeo"
           }
          ],
          "scattergl": [
           {
            "marker": {
             "colorbar": {
              "outlinewidth": 1,
              "tickcolor": "rgb(36,36,36)",
              "ticks": "outside"
             }
            },
            "type": "scattergl"
           }
          ],
          "scattermapbox": [
           {
            "marker": {
             "colorbar": {
              "outlinewidth": 1,
              "tickcolor": "rgb(36,36,36)",
              "ticks": "outside"
             }
            },
            "type": "scattermapbox"
           }
          ],
          "scatterpolar": [
           {
            "marker": {
             "colorbar": {
              "outlinewidth": 1,
              "tickcolor": "rgb(36,36,36)",
              "ticks": "outside"
             }
            },
            "type": "scatterpolar"
           }
          ],
          "scatterpolargl": [
           {
            "marker": {
             "colorbar": {
              "outlinewidth": 1,
              "tickcolor": "rgb(36,36,36)",
              "ticks": "outside"
             }
            },
            "type": "scatterpolargl"
           }
          ],
          "scatterternary": [
           {
            "marker": {
             "colorbar": {
              "outlinewidth": 1,
              "tickcolor": "rgb(36,36,36)",
              "ticks": "outside"
             }
            },
            "type": "scatterternary"
           }
          ],
          "surface": [
           {
            "colorbar": {
             "outlinewidth": 1,
             "tickcolor": "rgb(36,36,36)",
             "ticks": "outside"
            },
            "colorscale": [
             [
              0,
              "#440154"
             ],
             [
              0.1111111111111111,
              "#482878"
             ],
             [
              0.2222222222222222,
              "#3e4989"
             ],
             [
              0.3333333333333333,
              "#31688e"
             ],
             [
              0.4444444444444444,
              "#26828e"
             ],
             [
              0.5555555555555556,
              "#1f9e89"
             ],
             [
              0.6666666666666666,
              "#35b779"
             ],
             [
              0.7777777777777778,
              "#6ece58"
             ],
             [
              0.8888888888888888,
              "#b5de2b"
             ],
             [
              1,
              "#fde725"
             ]
            ],
            "type": "surface"
           }
          ],
          "table": [
           {
            "cells": {
             "fill": {
              "color": "rgb(237,237,237)"
             },
             "line": {
              "color": "white"
             }
            },
            "header": {
             "fill": {
              "color": "rgb(217,217,217)"
             },
             "line": {
              "color": "white"
             }
            },
            "type": "table"
           }
          ]
         },
         "layout": {
          "annotationdefaults": {
           "arrowhead": 0,
           "arrowwidth": 1
          },
          "autotypenumbers": "strict",
          "coloraxis": {
           "colorbar": {
            "outlinewidth": 1,
            "tickcolor": "rgb(36,36,36)",
            "ticks": "outside"
           }
          },
          "colorscale": {
           "diverging": [
            [
             0,
             "rgb(103,0,31)"
            ],
            [
             0.1,
             "rgb(178,24,43)"
            ],
            [
             0.2,
             "rgb(214,96,77)"
            ],
            [
             0.3,
             "rgb(244,165,130)"
            ],
            [
             0.4,
             "rgb(253,219,199)"
            ],
            [
             0.5,
             "rgb(247,247,247)"
            ],
            [
             0.6,
             "rgb(209,229,240)"
            ],
            [
             0.7,
             "rgb(146,197,222)"
            ],
            [
             0.8,
             "rgb(67,147,195)"
            ],
            [
             0.9,
             "rgb(33,102,172)"
            ],
            [
             1,
             "rgb(5,48,97)"
            ]
           ],
           "sequential": [
            [
             0,
             "#440154"
            ],
            [
             0.1111111111111111,
             "#482878"
            ],
            [
             0.2222222222222222,
             "#3e4989"
            ],
            [
             0.3333333333333333,
             "#31688e"
            ],
            [
             0.4444444444444444,
             "#26828e"
            ],
            [
             0.5555555555555556,
             "#1f9e89"
            ],
            [
             0.6666666666666666,
             "#35b779"
            ],
            [
             0.7777777777777778,
             "#6ece58"
            ],
            [
             0.8888888888888888,
             "#b5de2b"
            ],
            [
             1,
             "#fde725"
            ]
           ],
           "sequentialminus": [
            [
             0,
             "#440154"
            ],
            [
             0.1111111111111111,
             "#482878"
            ],
            [
             0.2222222222222222,
             "#3e4989"
            ],
            [
             0.3333333333333333,
             "#31688e"
            ],
            [
             0.4444444444444444,
             "#26828e"
            ],
            [
             0.5555555555555556,
             "#1f9e89"
            ],
            [
             0.6666666666666666,
             "#35b779"
            ],
            [
             0.7777777777777778,
             "#6ece58"
            ],
            [
             0.8888888888888888,
             "#b5de2b"
            ],
            [
             1,
             "#fde725"
            ]
           ]
          },
          "colorway": [
           "#1F77B4",
           "#FF7F0E",
           "#2CA02C",
           "#D62728",
           "#9467BD",
           "#8C564B",
           "#E377C2",
           "#7F7F7F",
           "#BCBD22",
           "#17BECF"
          ],
          "font": {
           "color": "rgb(36,36,36)"
          },
          "geo": {
           "bgcolor": "white",
           "lakecolor": "white",
           "landcolor": "white",
           "showlakes": true,
           "showland": true,
           "subunitcolor": "white"
          },
          "hoverlabel": {
           "align": "left"
          },
          "hovermode": "closest",
          "mapbox": {
           "style": "light"
          },
          "paper_bgcolor": "white",
          "plot_bgcolor": "white",
          "polar": {
           "angularaxis": {
            "gridcolor": "rgb(232,232,232)",
            "linecolor": "rgb(36,36,36)",
            "showgrid": false,
            "showline": true,
            "ticks": "outside"
           },
           "bgcolor": "white",
           "radialaxis": {
            "gridcolor": "rgb(232,232,232)",
            "linecolor": "rgb(36,36,36)",
            "showgrid": false,
            "showline": true,
            "ticks": "outside"
           }
          },
          "scene": {
           "xaxis": {
            "backgroundcolor": "white",
            "gridcolor": "rgb(232,232,232)",
            "gridwidth": 2,
            "linecolor": "rgb(36,36,36)",
            "showbackground": true,
            "showgrid": false,
            "showline": true,
            "ticks": "outside",
            "zeroline": false,
            "zerolinecolor": "rgb(36,36,36)"
           },
           "yaxis": {
            "backgroundcolor": "white",
            "gridcolor": "rgb(232,232,232)",
            "gridwidth": 2,
            "linecolor": "rgb(36,36,36)",
            "showbackground": true,
            "showgrid": false,
            "showline": true,
            "ticks": "outside",
            "zeroline": false,
            "zerolinecolor": "rgb(36,36,36)"
           },
           "zaxis": {
            "backgroundcolor": "white",
            "gridcolor": "rgb(232,232,232)",
            "gridwidth": 2,
            "linecolor": "rgb(36,36,36)",
            "showbackground": true,
            "showgrid": false,
            "showline": true,
            "ticks": "outside",
            "zeroline": false,
            "zerolinecolor": "rgb(36,36,36)"
           }
          },
          "shapedefaults": {
           "fillcolor": "black",
           "line": {
            "width": 0
           },
           "opacity": 0.3
          },
          "ternary": {
           "aaxis": {
            "gridcolor": "rgb(232,232,232)",
            "linecolor": "rgb(36,36,36)",
            "showgrid": false,
            "showline": true,
            "ticks": "outside"
           },
           "baxis": {
            "gridcolor": "rgb(232,232,232)",
            "linecolor": "rgb(36,36,36)",
            "showgrid": false,
            "showline": true,
            "ticks": "outside"
           },
           "bgcolor": "white",
           "caxis": {
            "gridcolor": "rgb(232,232,232)",
            "linecolor": "rgb(36,36,36)",
            "showgrid": false,
            "showline": true,
            "ticks": "outside"
           }
          },
          "title": {
           "x": 0.05
          },
          "xaxis": {
           "automargin": true,
           "gridcolor": "rgb(232,232,232)",
           "linecolor": "rgb(36,36,36)",
           "showgrid": false,
           "showline": true,
           "ticks": "outside",
           "title": {
            "standoff": 15
           },
           "zeroline": false,
           "zerolinecolor": "rgb(36,36,36)"
          },
          "yaxis": {
           "automargin": true,
           "gridcolor": "rgb(232,232,232)",
           "linecolor": "rgb(36,36,36)",
           "showgrid": false,
           "showline": true,
           "ticks": "outside",
           "title": {
            "standoff": 15
           },
           "zeroline": false,
           "zerolinecolor": "rgb(36,36,36)"
          }
         }
        },
        "width": 800,
        "xaxis": {
         "anchor": "y",
         "domain": [
          0,
          1
         ],
         "title": {
          "text": "Attacking species"
         }
        },
        "yaxis": {
         "anchor": "x",
         "domain": [
          0,
          1
         ],
         "title": {
          "text": "Count in dataset"
         }
        }
       }
      }
     },
     "metadata": {},
     "output_type": "display_data"
    }
   ],
   "source": [
    "fig = px.histogram(x=attacking_species, nbins=20, template=\"simple_white\")\n",
    "# Set x-label\n",
    "fig.update_xaxes(title_text=\"Attacking species\")\n",
    "fig.update_yaxes(title_text=\"Count in dataset\")\n",
    "# Shorten aspect ratio\n",
    "fig.update_layout(height=500, width=800)\n",
    "fig.show()"
   ]
  },
  {
   "cell_type": "code",
   "execution_count": 16,
   "metadata": {},
   "outputs": [
    {
     "data": {
      "application/vnd.plotly.v1+json": {
       "config": {
        "plotlyServerURL": "https://plot.ly"
       },
       "data": [
        {
         "alignmentgroup": "True",
         "bingroup": "x",
         "hovertemplate": "x=%{x}<br>count=%{y}<extra></extra>",
         "legendgroup": "",
         "marker": {
          "color": "#1F77B4",
          "pattern": {
           "shape": ""
          }
         },
         "name": "",
         "nbinsx": 20,
         "offsetgroup": "",
         "orientation": "v",
         "showlegend": false,
         "type": "histogram",
         "x": [
          "Cl",
          "F",
          "Br",
          "Cl",
          "Cl",
          "Cl",
          "F",
          "Br",
          "Cl",
          "Br",
          "Cl",
          "F",
          "Br",
          "Br",
          "Cl",
          "F",
          "Br",
          "F",
          "F",
          "F",
          "F",
          "Br",
          "Cl",
          "Br",
          "Br",
          "Cl",
          "Cl",
          "F",
          "F",
          "F",
          "F",
          "F",
          "F",
          "Cl",
          "F",
          "Cl",
          "F",
          "Br",
          "F",
          "F",
          "Br",
          "Cl",
          "Cl",
          "Br",
          "Br",
          "F",
          "F",
          "Br",
          "F",
          "F",
          "F",
          "Cl",
          "Br",
          "Cl",
          "F",
          "F",
          "F",
          "Cl",
          "Br",
          "Br",
          "F",
          "Cl",
          "Cl",
          "Cl",
          "F",
          "F",
          "Cl",
          "Br",
          "F",
          "F",
          "F",
          "Cl",
          "Cl",
          "Br",
          "Br",
          "Br",
          "Br",
          "F",
          "Br",
          "F",
          "F",
          "F",
          "Cl",
          "Cl",
          "Cl",
          "Cl",
          "Cl",
          "Br",
          "Cl",
          "Br",
          "F",
          "Cl",
          "F",
          "F",
          "F",
          "Br",
          "Br",
          "F",
          "F",
          "F",
          "F",
          "Cl",
          "Br",
          "Cl",
          "Br",
          "Cl",
          "F",
          "F",
          "F",
          "Br",
          "Br",
          "Cl",
          "F",
          "Cl",
          "Cl",
          "Cl",
          "Br",
          "F",
          "Br",
          "Cl",
          "F",
          "Cl",
          "F",
          "F",
          "F",
          "Cl",
          "Cl",
          "F",
          "Br",
          "Br",
          "F",
          "F",
          "F",
          "Cl",
          "Cl",
          "Cl",
          "Cl",
          "Cl",
          "F",
          "Cl",
          "Cl",
          "Cl",
          "Br",
          "Cl",
          "Br",
          "F",
          "F",
          "F",
          "Cl",
          "F",
          "F",
          "F",
          "Br",
          "F",
          "Cl",
          "Cl",
          "F",
          "Br",
          "Br",
          "Cl",
          "Cl",
          "Cl",
          "Cl",
          "Cl",
          "F",
          "Cl",
          "F",
          "Cl",
          "Br",
          "F",
          "Cl",
          "F",
          "F",
          "Cl",
          "F",
          "Br",
          "F",
          "Cl",
          "Cl",
          "Cl",
          "F",
          "Cl",
          "Cl",
          "Br",
          "Cl",
          "F",
          "F",
          "Br",
          "Cl",
          "F",
          "F",
          "F",
          "F",
          "Br",
          "F",
          "F",
          "Cl",
          "Br",
          "Cl",
          "F",
          "Br",
          "Br",
          "Cl",
          "F",
          "Cl",
          "Cl",
          "Cl",
          "F",
          "Br",
          "F",
          "Cl",
          "Cl",
          "F",
          "F",
          "F",
          "Cl",
          "F",
          "F",
          "Cl",
          "Br",
          "Br",
          "Cl",
          "F",
          "F",
          "Cl",
          "Cl",
          "F",
          "Br",
          "F",
          "F",
          "F",
          "F",
          "F",
          "Br",
          "Cl",
          "Cl",
          "Cl",
          "Br",
          "Cl",
          "F",
          "Cl",
          "F",
          "F",
          "F",
          "F",
          "F",
          "F",
          "F",
          "Cl",
          "Br",
          "F",
          "F",
          "Br",
          "Br",
          "Cl",
          "Br",
          "F",
          "F",
          "F",
          "F",
          "F",
          "F",
          "F",
          "Cl",
          "F",
          "F",
          "F",
          "Cl",
          "F",
          "Br",
          "F",
          "Br",
          "F",
          "F",
          "F",
          "Cl",
          "Cl",
          "Cl",
          "Cl",
          "F",
          "Br",
          "F",
          "F",
          "F",
          "Cl",
          "F",
          "Br",
          "F",
          "Br",
          "F",
          "F",
          "F",
          "Br",
          "Br",
          "Br",
          "Cl",
          "F",
          "Cl",
          "Br",
          "Cl",
          "Br",
          "F",
          "F",
          "Br",
          "Cl",
          "Br",
          "F",
          "Cl",
          "Br",
          "Br",
          "Cl",
          "F",
          "F",
          "Cl",
          "F",
          "F",
          "Br",
          "Br",
          "Cl",
          "F",
          "Br",
          "Cl",
          "Cl",
          "Cl",
          "F",
          "F",
          "Cl",
          "F",
          "Br",
          "F",
          "F",
          "Cl",
          "Cl",
          "Cl",
          "Cl",
          "Cl",
          "Cl",
          "Br",
          "Br",
          "F",
          "F",
          "F",
          "Br",
          "F",
          "F",
          "F",
          "Cl",
          "Br",
          "Cl",
          "Cl",
          "F",
          "Cl",
          "Br",
          "Br",
          "Br",
          "Br",
          "F",
          "Br",
          "F",
          "Br",
          "F",
          "Br",
          "F",
          "F",
          "Cl",
          "F",
          "Cl",
          "Cl",
          "Br",
          "Cl",
          "Br",
          "Br",
          "Br",
          "F",
          "F",
          "Cl",
          "F",
          "F",
          "Cl",
          "Br",
          "Br",
          "F",
          "Cl",
          "F",
          "Cl",
          "Cl",
          "F",
          "Br",
          "Br",
          "F",
          "F",
          "Br",
          "Cl",
          "F",
          "F",
          "Cl",
          "Br",
          "F",
          "F",
          "F",
          "F",
          "F",
          "F",
          "F",
          "Cl",
          "Cl",
          "Cl",
          "Cl",
          "Br",
          "Cl",
          "Br",
          "F",
          "Br",
          "Cl",
          "F",
          "Cl",
          "F",
          "F",
          "Cl",
          "Br",
          "F",
          "F",
          "Cl",
          "F",
          "Br",
          "Br",
          "Br",
          "Cl",
          "Cl",
          "F",
          "F",
          "Br",
          "Br",
          "Cl",
          "Br",
          "Cl",
          "Cl",
          "F",
          "Cl",
          "F",
          "Br",
          "Br",
          "Cl",
          "F",
          "Br",
          "Cl",
          "F",
          "Br",
          "F",
          "F",
          "Cl",
          "Br",
          "F",
          "Br",
          "Cl",
          "Br",
          "F",
          "Cl",
          "Cl",
          "F",
          "F",
          "Cl",
          "Cl",
          "F",
          "Br",
          "F",
          "F",
          "Br",
          "F",
          "Cl",
          "F",
          "Cl",
          "Cl",
          "Cl",
          "F",
          "F",
          "F",
          "Cl",
          "Br",
          "F",
          "Br",
          "Cl",
          "Cl",
          "Br",
          "Cl",
          "F",
          "Br",
          "Br",
          "Br",
          "Br",
          "Cl",
          "Br",
          "Cl",
          "Cl",
          "Cl",
          "Cl",
          "F",
          "Br",
          "F",
          "Cl",
          "Cl",
          "Br",
          "Br",
          "F",
          "Br",
          "F",
          "F",
          "F",
          "Br",
          "F",
          "Br",
          "F",
          "Cl",
          "Cl",
          "F",
          "Br",
          "Cl",
          "F",
          "F",
          "F",
          "Br",
          "Br",
          "F",
          "F",
          "F",
          "F",
          "Cl",
          "Cl",
          "F",
          "F",
          "Cl",
          "Cl",
          "F",
          "Cl",
          "F",
          "Cl",
          "Br",
          "Cl",
          "F",
          "Cl",
          "Br",
          "F",
          "F",
          "Cl",
          "F",
          "F",
          "Br",
          "F",
          "F",
          "F",
          "Cl",
          "F",
          "Cl",
          "F",
          "Cl",
          "F",
          "Cl",
          "F",
          "Cl",
          "Cl",
          "F",
          "F",
          "Cl",
          "Br",
          "Cl",
          "F",
          "Cl",
          "F",
          "F",
          "F",
          "Br",
          "F",
          "Br",
          "F",
          "F",
          "F",
          "Cl",
          "Cl",
          "Cl",
          "Br",
          "F",
          "Cl",
          "Cl",
          "F",
          "Br",
          "Cl",
          "Cl",
          "F",
          "Cl",
          "Cl",
          "Br",
          "Br",
          "Br",
          "F",
          "Cl",
          "Br",
          "F",
          "Br",
          "Cl",
          "F",
          "Br",
          "F",
          "F",
          "Cl",
          "Cl",
          "F",
          "F",
          "Br",
          "F",
          "Br",
          "Cl",
          "F",
          "F",
          "F",
          "F",
          "Cl",
          "Br",
          "Cl",
          "F",
          "Br",
          "Cl",
          "Br",
          "F",
          "Br",
          "Br",
          "Br",
          "F",
          "F",
          "F",
          "F",
          "F",
          "Cl",
          "Cl",
          "Br",
          "F",
          "Cl",
          "F",
          "F",
          "Br",
          "Br",
          "F",
          "Cl",
          "F",
          "F",
          "Br",
          "Cl",
          "F",
          "Cl",
          "Br",
          "F",
          "Cl",
          "Cl",
          "F",
          "Cl",
          "Cl",
          "F",
          "F",
          "F",
          "F",
          "Br",
          "Br",
          "Br",
          "Br",
          "Cl",
          "F",
          "Cl",
          "F",
          "Cl",
          "F",
          "F",
          "Cl",
          "Br",
          "Br",
          "Cl",
          "Cl",
          "F",
          "Br",
          "F",
          "Br",
          "F",
          "Cl",
          "Cl",
          "Cl",
          "Cl",
          "F",
          "Cl",
          "Cl",
          "Cl",
          "F",
          "Cl",
          "Cl",
          "Br",
          "Cl",
          "Br",
          "F",
          "F",
          "F",
          "Cl",
          "Cl",
          "F",
          "Br",
          "F",
          "Br",
          "F",
          "F",
          "Br",
          "F",
          "F",
          "Br",
          "Cl",
          "F",
          "Cl",
          "F",
          "F",
          "Br",
          "Cl",
          "Cl",
          "Cl",
          "Br",
          "Cl",
          "Cl",
          "F",
          "Cl",
          "Cl",
          "Br",
          "Br",
          "F",
          "F",
          "F",
          "Br",
          "Cl",
          "Cl",
          "Cl",
          "Br",
          "Br",
          "Cl",
          "Br",
          "Br",
          "Cl",
          "Cl",
          "F",
          "Cl",
          "F",
          "Cl",
          "Cl",
          "Br",
          "Cl",
          "F",
          "Cl",
          "Cl",
          "Cl",
          "F",
          "F",
          "Br",
          "Cl",
          "Br",
          "Cl",
          "F",
          "F",
          "F",
          "Cl",
          "Cl",
          "Cl",
          "Cl",
          "F",
          "Br",
          "F",
          "F",
          "Cl",
          "Cl",
          "Br",
          "Cl",
          "Cl",
          "Br",
          "F",
          "Cl",
          "F",
          "Cl",
          "F",
          "Br",
          "F",
          "Cl",
          "Cl",
          "F",
          "F",
          "F",
          "F",
          "F",
          "F",
          "Cl",
          "Br",
          "F",
          "Cl",
          "Cl",
          "Cl",
          "F",
          "F",
          "F",
          "Cl",
          "Cl",
          "Br",
          "F",
          "Br",
          "Cl",
          "F",
          "Cl",
          "F",
          "F",
          "Cl",
          "F",
          "F",
          "F",
          "Cl",
          "F",
          "Cl",
          "F",
          "Br",
          "Cl",
          "Br",
          "F",
          "F",
          "Br",
          "Cl",
          "F",
          "F",
          "F",
          "F",
          "Br",
          "Cl",
          "Cl",
          "Br",
          "F",
          "Br",
          "F",
          "Br",
          "F",
          "F",
          "Br",
          "F",
          "Cl",
          "F",
          "F",
          "Cl",
          "Br",
          "Cl",
          "F",
          "Cl",
          "F",
          "Cl",
          "Cl",
          "F",
          "Br",
          "Cl",
          "Cl",
          "F",
          "F",
          "Cl",
          "F",
          "Cl",
          "Br",
          "Br",
          "Cl",
          "F",
          "F",
          "Br",
          "Cl",
          "F",
          "Cl",
          "F",
          "Cl",
          "F",
          "Cl",
          "F",
          "Cl",
          "F",
          "Cl",
          "F",
          "Cl",
          "Cl",
          "Br",
          "Cl",
          "Cl",
          "Br",
          "F",
          "Cl",
          "Br",
          "Cl",
          "Cl",
          "Cl",
          "Cl",
          "Cl",
          "Br",
          "Cl",
          "Cl",
          "Cl",
          "F",
          "Cl",
          "Br",
          "F",
          "Br",
          "F",
          "Cl",
          "Br",
          "Cl",
          "F",
          "F",
          "F",
          "Br",
          "Br",
          "F",
          "F",
          "Cl",
          "F",
          "F",
          "F",
          "F",
          "Cl",
          "Cl",
          "F",
          "Br",
          "Cl",
          "Cl",
          "F",
          "F",
          "Cl",
          "Br",
          "F",
          "F",
          "Br",
          "Cl",
          "F",
          "F",
          "Cl",
          "F",
          "F",
          "F",
          "Br",
          "Cl",
          "Br",
          "F",
          "Cl",
          "F",
          "F",
          "Cl",
          "Cl",
          "Cl",
          "Br",
          "F",
          "Cl",
          "Cl",
          "Br",
          "F",
          "Cl",
          "F",
          "Br",
          "F",
          "F",
          "Cl",
          "F",
          "Cl",
          "F",
          "Br",
          "Cl",
          "Cl",
          "Cl",
          "F",
          "Br",
          "F",
          "Br",
          "Br",
          "F",
          "F",
          "Cl",
          "Br",
          "Br",
          "F",
          "F",
          "F",
          "Cl",
          "Cl",
          "Cl",
          "Br",
          "Cl",
          "Cl",
          "F",
          "Cl",
          "Cl",
          "Cl",
          "Cl",
          "Br",
          "Br",
          "F",
          "F",
          "F",
          "F",
          "F",
          "Cl",
          "Cl",
          "Cl",
          "F",
          "F",
          "Cl",
          "Br",
          "Cl",
          "Cl",
          "F",
          "Cl",
          "F",
          "F",
          "F",
          "Cl",
          "F",
          "Cl",
          "F",
          "Br",
          "F",
          "F",
          "Br",
          "Cl",
          "F",
          "F",
          "F",
          "Cl",
          "Br",
          "Cl",
          "Cl",
          "Cl",
          "F",
          "F",
          "Cl",
          "F",
          "F",
          "Br",
          "F",
          "Br",
          "Cl",
          "F",
          "F",
          "F",
          "F",
          "Br",
          "Cl",
          "F",
          "Cl",
          "Cl",
          "F",
          "Cl"
         ],
         "xaxis": "x",
         "yaxis": "y"
        }
       ],
       "layout": {
        "barmode": "relative",
        "height": 500,
        "legend": {
         "tracegroupgap": 0
        },
        "margin": {
         "t": 60
        },
        "template": {
         "data": {
          "bar": [
           {
            "error_x": {
             "color": "rgb(36,36,36)"
            },
            "error_y": {
             "color": "rgb(36,36,36)"
            },
            "marker": {
             "line": {
              "color": "white",
              "width": 0.5
             },
             "pattern": {
              "fillmode": "overlay",
              "size": 10,
              "solidity": 0.2
             }
            },
            "type": "bar"
           }
          ],
          "barpolar": [
           {
            "marker": {
             "line": {
              "color": "white",
              "width": 0.5
             },
             "pattern": {
              "fillmode": "overlay",
              "size": 10,
              "solidity": 0.2
             }
            },
            "type": "barpolar"
           }
          ],
          "carpet": [
           {
            "aaxis": {
             "endlinecolor": "rgb(36,36,36)",
             "gridcolor": "white",
             "linecolor": "white",
             "minorgridcolor": "white",
             "startlinecolor": "rgb(36,36,36)"
            },
            "baxis": {
             "endlinecolor": "rgb(36,36,36)",
             "gridcolor": "white",
             "linecolor": "white",
             "minorgridcolor": "white",
             "startlinecolor": "rgb(36,36,36)"
            },
            "type": "carpet"
           }
          ],
          "choropleth": [
           {
            "colorbar": {
             "outlinewidth": 1,
             "tickcolor": "rgb(36,36,36)",
             "ticks": "outside"
            },
            "type": "choropleth"
           }
          ],
          "contour": [
           {
            "colorbar": {
             "outlinewidth": 1,
             "tickcolor": "rgb(36,36,36)",
             "ticks": "outside"
            },
            "colorscale": [
             [
              0,
              "#440154"
             ],
             [
              0.1111111111111111,
              "#482878"
             ],
             [
              0.2222222222222222,
              "#3e4989"
             ],
             [
              0.3333333333333333,
              "#31688e"
             ],
             [
              0.4444444444444444,
              "#26828e"
             ],
             [
              0.5555555555555556,
              "#1f9e89"
             ],
             [
              0.6666666666666666,
              "#35b779"
             ],
             [
              0.7777777777777778,
              "#6ece58"
             ],
             [
              0.8888888888888888,
              "#b5de2b"
             ],
             [
              1,
              "#fde725"
             ]
            ],
            "type": "contour"
           }
          ],
          "contourcarpet": [
           {
            "colorbar": {
             "outlinewidth": 1,
             "tickcolor": "rgb(36,36,36)",
             "ticks": "outside"
            },
            "type": "contourcarpet"
           }
          ],
          "heatmap": [
           {
            "colorbar": {
             "outlinewidth": 1,
             "tickcolor": "rgb(36,36,36)",
             "ticks": "outside"
            },
            "colorscale": [
             [
              0,
              "#440154"
             ],
             [
              0.1111111111111111,
              "#482878"
             ],
             [
              0.2222222222222222,
              "#3e4989"
             ],
             [
              0.3333333333333333,
              "#31688e"
             ],
             [
              0.4444444444444444,
              "#26828e"
             ],
             [
              0.5555555555555556,
              "#1f9e89"
             ],
             [
              0.6666666666666666,
              "#35b779"
             ],
             [
              0.7777777777777778,
              "#6ece58"
             ],
             [
              0.8888888888888888,
              "#b5de2b"
             ],
             [
              1,
              "#fde725"
             ]
            ],
            "type": "heatmap"
           }
          ],
          "heatmapgl": [
           {
            "colorbar": {
             "outlinewidth": 1,
             "tickcolor": "rgb(36,36,36)",
             "ticks": "outside"
            },
            "colorscale": [
             [
              0,
              "#440154"
             ],
             [
              0.1111111111111111,
              "#482878"
             ],
             [
              0.2222222222222222,
              "#3e4989"
             ],
             [
              0.3333333333333333,
              "#31688e"
             ],
             [
              0.4444444444444444,
              "#26828e"
             ],
             [
              0.5555555555555556,
              "#1f9e89"
             ],
             [
              0.6666666666666666,
              "#35b779"
             ],
             [
              0.7777777777777778,
              "#6ece58"
             ],
             [
              0.8888888888888888,
              "#b5de2b"
             ],
             [
              1,
              "#fde725"
             ]
            ],
            "type": "heatmapgl"
           }
          ],
          "histogram": [
           {
            "marker": {
             "line": {
              "color": "white",
              "width": 0.6
             }
            },
            "type": "histogram"
           }
          ],
          "histogram2d": [
           {
            "colorbar": {
             "outlinewidth": 1,
             "tickcolor": "rgb(36,36,36)",
             "ticks": "outside"
            },
            "colorscale": [
             [
              0,
              "#440154"
             ],
             [
              0.1111111111111111,
              "#482878"
             ],
             [
              0.2222222222222222,
              "#3e4989"
             ],
             [
              0.3333333333333333,
              "#31688e"
             ],
             [
              0.4444444444444444,
              "#26828e"
             ],
             [
              0.5555555555555556,
              "#1f9e89"
             ],
             [
              0.6666666666666666,
              "#35b779"
             ],
             [
              0.7777777777777778,
              "#6ece58"
             ],
             [
              0.8888888888888888,
              "#b5de2b"
             ],
             [
              1,
              "#fde725"
             ]
            ],
            "type": "histogram2d"
           }
          ],
          "histogram2dcontour": [
           {
            "colorbar": {
             "outlinewidth": 1,
             "tickcolor": "rgb(36,36,36)",
             "ticks": "outside"
            },
            "colorscale": [
             [
              0,
              "#440154"
             ],
             [
              0.1111111111111111,
              "#482878"
             ],
             [
              0.2222222222222222,
              "#3e4989"
             ],
             [
              0.3333333333333333,
              "#31688e"
             ],
             [
              0.4444444444444444,
              "#26828e"
             ],
             [
              0.5555555555555556,
              "#1f9e89"
             ],
             [
              0.6666666666666666,
              "#35b779"
             ],
             [
              0.7777777777777778,
              "#6ece58"
             ],
             [
              0.8888888888888888,
              "#b5de2b"
             ],
             [
              1,
              "#fde725"
             ]
            ],
            "type": "histogram2dcontour"
           }
          ],
          "mesh3d": [
           {
            "colorbar": {
             "outlinewidth": 1,
             "tickcolor": "rgb(36,36,36)",
             "ticks": "outside"
            },
            "type": "mesh3d"
           }
          ],
          "parcoords": [
           {
            "line": {
             "colorbar": {
              "outlinewidth": 1,
              "tickcolor": "rgb(36,36,36)",
              "ticks": "outside"
             }
            },
            "type": "parcoords"
           }
          ],
          "pie": [
           {
            "automargin": true,
            "type": "pie"
           }
          ],
          "scatter": [
           {
            "fillpattern": {
             "fillmode": "overlay",
             "size": 10,
             "solidity": 0.2
            },
            "type": "scatter"
           }
          ],
          "scatter3d": [
           {
            "line": {
             "colorbar": {
              "outlinewidth": 1,
              "tickcolor": "rgb(36,36,36)",
              "ticks": "outside"
             }
            },
            "marker": {
             "colorbar": {
              "outlinewidth": 1,
              "tickcolor": "rgb(36,36,36)",
              "ticks": "outside"
             }
            },
            "type": "scatter3d"
           }
          ],
          "scattercarpet": [
           {
            "marker": {
             "colorbar": {
              "outlinewidth": 1,
              "tickcolor": "rgb(36,36,36)",
              "ticks": "outside"
             }
            },
            "type": "scattercarpet"
           }
          ],
          "scattergeo": [
           {
            "marker": {
             "colorbar": {
              "outlinewidth": 1,
              "tickcolor": "rgb(36,36,36)",
              "ticks": "outside"
             }
            },
            "type": "scattergeo"
           }
          ],
          "scattergl": [
           {
            "marker": {
             "colorbar": {
              "outlinewidth": 1,
              "tickcolor": "rgb(36,36,36)",
              "ticks": "outside"
             }
            },
            "type": "scattergl"
           }
          ],
          "scattermapbox": [
           {
            "marker": {
             "colorbar": {
              "outlinewidth": 1,
              "tickcolor": "rgb(36,36,36)",
              "ticks": "outside"
             }
            },
            "type": "scattermapbox"
           }
          ],
          "scatterpolar": [
           {
            "marker": {
             "colorbar": {
              "outlinewidth": 1,
              "tickcolor": "rgb(36,36,36)",
              "ticks": "outside"
             }
            },
            "type": "scatterpolar"
           }
          ],
          "scatterpolargl": [
           {
            "marker": {
             "colorbar": {
              "outlinewidth": 1,
              "tickcolor": "rgb(36,36,36)",
              "ticks": "outside"
             }
            },
            "type": "scatterpolargl"
           }
          ],
          "scatterternary": [
           {
            "marker": {
             "colorbar": {
              "outlinewidth": 1,
              "tickcolor": "rgb(36,36,36)",
              "ticks": "outside"
             }
            },
            "type": "scatterternary"
           }
          ],
          "surface": [
           {
            "colorbar": {
             "outlinewidth": 1,
             "tickcolor": "rgb(36,36,36)",
             "ticks": "outside"
            },
            "colorscale": [
             [
              0,
              "#440154"
             ],
             [
              0.1111111111111111,
              "#482878"
             ],
             [
              0.2222222222222222,
              "#3e4989"
             ],
             [
              0.3333333333333333,
              "#31688e"
             ],
             [
              0.4444444444444444,
              "#26828e"
             ],
             [
              0.5555555555555556,
              "#1f9e89"
             ],
             [
              0.6666666666666666,
              "#35b779"
             ],
             [
              0.7777777777777778,
              "#6ece58"
             ],
             [
              0.8888888888888888,
              "#b5de2b"
             ],
             [
              1,
              "#fde725"
             ]
            ],
            "type": "surface"
           }
          ],
          "table": [
           {
            "cells": {
             "fill": {
              "color": "rgb(237,237,237)"
             },
             "line": {
              "color": "white"
             }
            },
            "header": {
             "fill": {
              "color": "rgb(217,217,217)"
             },
             "line": {
              "color": "white"
             }
            },
            "type": "table"
           }
          ]
         },
         "layout": {
          "annotationdefaults": {
           "arrowhead": 0,
           "arrowwidth": 1
          },
          "autotypenumbers": "strict",
          "coloraxis": {
           "colorbar": {
            "outlinewidth": 1,
            "tickcolor": "rgb(36,36,36)",
            "ticks": "outside"
           }
          },
          "colorscale": {
           "diverging": [
            [
             0,
             "rgb(103,0,31)"
            ],
            [
             0.1,
             "rgb(178,24,43)"
            ],
            [
             0.2,
             "rgb(214,96,77)"
            ],
            [
             0.3,
             "rgb(244,165,130)"
            ],
            [
             0.4,
             "rgb(253,219,199)"
            ],
            [
             0.5,
             "rgb(247,247,247)"
            ],
            [
             0.6,
             "rgb(209,229,240)"
            ],
            [
             0.7,
             "rgb(146,197,222)"
            ],
            [
             0.8,
             "rgb(67,147,195)"
            ],
            [
             0.9,
             "rgb(33,102,172)"
            ],
            [
             1,
             "rgb(5,48,97)"
            ]
           ],
           "sequential": [
            [
             0,
             "#440154"
            ],
            [
             0.1111111111111111,
             "#482878"
            ],
            [
             0.2222222222222222,
             "#3e4989"
            ],
            [
             0.3333333333333333,
             "#31688e"
            ],
            [
             0.4444444444444444,
             "#26828e"
            ],
            [
             0.5555555555555556,
             "#1f9e89"
            ],
            [
             0.6666666666666666,
             "#35b779"
            ],
            [
             0.7777777777777778,
             "#6ece58"
            ],
            [
             0.8888888888888888,
             "#b5de2b"
            ],
            [
             1,
             "#fde725"
            ]
           ],
           "sequentialminus": [
            [
             0,
             "#440154"
            ],
            [
             0.1111111111111111,
             "#482878"
            ],
            [
             0.2222222222222222,
             "#3e4989"
            ],
            [
             0.3333333333333333,
             "#31688e"
            ],
            [
             0.4444444444444444,
             "#26828e"
            ],
            [
             0.5555555555555556,
             "#1f9e89"
            ],
            [
             0.6666666666666666,
             "#35b779"
            ],
            [
             0.7777777777777778,
             "#6ece58"
            ],
            [
             0.8888888888888888,
             "#b5de2b"
            ],
            [
             1,
             "#fde725"
            ]
           ]
          },
          "colorway": [
           "#1F77B4",
           "#FF7F0E",
           "#2CA02C",
           "#D62728",
           "#9467BD",
           "#8C564B",
           "#E377C2",
           "#7F7F7F",
           "#BCBD22",
           "#17BECF"
          ],
          "font": {
           "color": "rgb(36,36,36)"
          },
          "geo": {
           "bgcolor": "white",
           "lakecolor": "white",
           "landcolor": "white",
           "showlakes": true,
           "showland": true,
           "subunitcolor": "white"
          },
          "hoverlabel": {
           "align": "left"
          },
          "hovermode": "closest",
          "mapbox": {
           "style": "light"
          },
          "paper_bgcolor": "white",
          "plot_bgcolor": "white",
          "polar": {
           "angularaxis": {
            "gridcolor": "rgb(232,232,232)",
            "linecolor": "rgb(36,36,36)",
            "showgrid": false,
            "showline": true,
            "ticks": "outside"
           },
           "bgcolor": "white",
           "radialaxis": {
            "gridcolor": "rgb(232,232,232)",
            "linecolor": "rgb(36,36,36)",
            "showgrid": false,
            "showline": true,
            "ticks": "outside"
           }
          },
          "scene": {
           "xaxis": {
            "backgroundcolor": "white",
            "gridcolor": "rgb(232,232,232)",
            "gridwidth": 2,
            "linecolor": "rgb(36,36,36)",
            "showbackground": true,
            "showgrid": false,
            "showline": true,
            "ticks": "outside",
            "zeroline": false,
            "zerolinecolor": "rgb(36,36,36)"
           },
           "yaxis": {
            "backgroundcolor": "white",
            "gridcolor": "rgb(232,232,232)",
            "gridwidth": 2,
            "linecolor": "rgb(36,36,36)",
            "showbackground": true,
            "showgrid": false,
            "showline": true,
            "ticks": "outside",
            "zeroline": false,
            "zerolinecolor": "rgb(36,36,36)"
           },
           "zaxis": {
            "backgroundcolor": "white",
            "gridcolor": "rgb(232,232,232)",
            "gridwidth": 2,
            "linecolor": "rgb(36,36,36)",
            "showbackground": true,
            "showgrid": false,
            "showline": true,
            "ticks": "outside",
            "zeroline": false,
            "zerolinecolor": "rgb(36,36,36)"
           }
          },
          "shapedefaults": {
           "fillcolor": "black",
           "line": {
            "width": 0
           },
           "opacity": 0.3
          },
          "ternary": {
           "aaxis": {
            "gridcolor": "rgb(232,232,232)",
            "linecolor": "rgb(36,36,36)",
            "showgrid": false,
            "showline": true,
            "ticks": "outside"
           },
           "baxis": {
            "gridcolor": "rgb(232,232,232)",
            "linecolor": "rgb(36,36,36)",
            "showgrid": false,
            "showline": true,
            "ticks": "outside"
           },
           "bgcolor": "white",
           "caxis": {
            "gridcolor": "rgb(232,232,232)",
            "linecolor": "rgb(36,36,36)",
            "showgrid": false,
            "showline": true,
            "ticks": "outside"
           }
          },
          "title": {
           "x": 0.05
          },
          "xaxis": {
           "automargin": true,
           "gridcolor": "rgb(232,232,232)",
           "linecolor": "rgb(36,36,36)",
           "showgrid": false,
           "showline": true,
           "ticks": "outside",
           "title": {
            "standoff": 15
           },
           "zeroline": false,
           "zerolinecolor": "rgb(36,36,36)"
          },
          "yaxis": {
           "automargin": true,
           "gridcolor": "rgb(232,232,232)",
           "linecolor": "rgb(36,36,36)",
           "showgrid": false,
           "showline": true,
           "ticks": "outside",
           "title": {
            "standoff": 15
           },
           "zeroline": false,
           "zerolinecolor": "rgb(36,36,36)"
          }
         }
        },
        "width": 800,
        "xaxis": {
         "anchor": "y",
         "domain": [
          0,
          1
         ],
         "title": {
          "text": "Leaving species"
         }
        },
        "yaxis": {
         "anchor": "x",
         "domain": [
          0,
          1
         ],
         "title": {
          "text": "Count in dataset"
         }
        }
       }
      }
     },
     "metadata": {},
     "output_type": "display_data"
    }
   ],
   "source": [
    "fig = px.histogram(x=leaving_species, nbins=20, template=\"simple_white\")\n",
    "# Set x-label\n",
    "fig.update_xaxes(title_text=\"Leaving species\")\n",
    "fig.update_yaxes(title_text=\"Count in dataset\")\n",
    "# Shorten aspect ratio\n",
    "fig.update_layout(height=500, width=800)\n",
    "fig.show()"
   ]
  },
  {
   "cell_type": "code",
   "execution_count": 20,
   "metadata": {},
   "outputs": [
    {
     "data": {
      "application/vnd.plotly.v1+json": {
       "config": {
        "plotlyServerURL": "https://plot.ly"
       },
       "data": [
        {
         "alignmentgroup": "True",
         "bingroup": "x",
         "hovertemplate": "x=%{x}<br>count=%{y}<extra></extra>",
         "legendgroup": "",
         "marker": {
          "color": "#1F77B4",
          "pattern": {
           "shape": ""
          }
         },
         "name": "",
         "nbinsx": 20,
         "offsetgroup": "",
         "orientation": "v",
         "showlegend": false,
         "type": "histogram",
         "x": [
          0.04152123895452037,
          0.2925191044634994,
          0.024672169143545468,
          0.0050275566322892954,
          0.17602279618498773,
          0.15977286939334043,
          0.2277282555525499,
          0.08867476950631373,
          0.2491830374842089,
          0.12551812086026767,
          0.1472261401214421,
          0.32315698358935524,
          0.014507198061252885,
          0.09172544614594644,
          0.013689789801962974,
          0.28197724208651354,
          0.09667235640550907,
          0.14099463203858853,
          0.28055244847157174,
          0.2331335143894406,
          0.3782860543740462,
          0.114980073531229,
          0.09119142542548761,
          0.11468801643007545,
          0.07791647593161828,
          0.24813808217292352,
          0.004327266174217539,
          0.46578592603742014,
          0.5126327597687081,
          0.3193697654681054,
          0.5115272210198586,
          0.29576083497570016,
          0.499512449857272,
          0.09673937805202894,
          0.32606518958519215,
          0.1784321630592889,
          0.13647620043589012,
          0.005270412810265332,
          0.37593270486645325,
          0.43637702466534,
          0.08998107385408066,
          0.1783621535995328,
          0.20678771711034472,
          0.07444039007701198,
          0.31329474190242035,
          0.18368009109715008,
          0.4817003663634398,
          0.0056660690837273715,
          0.3959063955508122,
          0.3627417623577081,
          0.36052937327022394,
          0.07340519548195212,
          0.019265571505771587,
          0.11045313292746507,
          0.29571219190323866,
          0.491054770120271,
          0.27527110756545464,
          0.18232158714214183,
          0.018782550357135074,
          0.1308506110085282,
          0.09235196383019352,
          0.04170458927422189,
          0.11792982858175818,
          0.1868422201415597,
          0.31544035969415063,
          0.41182993809747276,
          0.16194549991701607,
          0.004029263401692057,
          0.3947149803887118,
          0.3373587773882056,
          0.5108968039567708,
          0.2212783706568066,
          0.18839039562616464,
          0.14998715427987763,
          0.058281994211854884,
          0.026619562857884936,
          0.059215320267879706,
          0.3975077883395893,
          0.19492424398195862,
          0.3380439410402235,
          0.1575216115598098,
          0.21593491432148776,
          0.17043484010403434,
          0.122277198526347,
          0.04666896923519684,
          0.040998943609523684,
          0.26682399128754547,
          0.2770725557484343,
          0.18263848005644476,
          0.08628928063677717,
          0.31402111448122993,
          0.21732442837322172,
          0.3028029294311652,
          0.26709084791094756,
          0.2839656841864959,
          0.1179489717873681,
          0.009568021297283074,
          0.40812627797977274,
          0.15090181332760555,
          0.23670532717850018,
          0.47000529361465293,
          0.2804639652066473,
          0.0225921498356227,
          0.1879217584137938,
          0.07286397462013156,
          0.2561438896327587,
          0.3787182392112628,
          0.21531424165600999,
          0.4280838513614178,
          0.10425629214264075,
          0.16913294399130732,
          0.2737742908571117,
          0.27821730610131223,
          0.0765722416206946,
          0.18699883527571215,
          0.22930047229304112,
          0.07512365709135176,
          0.20240122808131777,
          0.1403356212311059,
          0.13865205551647206,
          0.25894961754672924,
          0.00870345841662776,
          0.39384928551739773,
          0.1510403301672707,
          0.33351120441220694,
          0.21061476181696154,
          0.05297893046264616,
          0.19656875592528666,
          0.058802852807151515,
          0.08274590646317583,
          0.22825570201320222,
          0.15963442330376815,
          0.2930771555674701,
          0.17627182662797863,
          0.029964454467223556,
          0.22035562983555812,
          0.13314475670691506,
          0.08066084217247073,
          0.2438555596784058,
          0.19984599456804286,
          0.2012350161007546,
          0.18421932553951745,
          0.0024488560309129815,
          0.3571033536523383,
          0.1176697802394854,
          0.38569477327567375,
          0.048190322453169836,
          0.34351584056052453,
          0.054779619444847716,
          0.30774947232698036,
          0.16799897751020135,
          0.12977627555643934,
          0.14813134319806476,
          0.23212507674942714,
          0.22549562119450872,
          0.09647314729007384,
          0.22797158248623803,
          0.07257050254186885,
          0.08486282440393322,
          0.2650183335142554,
          0.222356167400191,
          0.23836195907677651,
          0.09141620235922002,
          0.1294373142063414,
          0.28236191040187314,
          0.0804789258924963,
          0.4052033451804076,
          0.3302530137362168,
          0.10955978310547333,
          0.20950444474852406,
          0.20612111162532426,
          0.26833250073411924,
          0.4981028184265241,
          0.05650469614462235,
          0.497604537129409,
          0.11690154296374035,
          0.3142623706289953,
          0.1588515217889845,
          0.28874948394139205,
          0.026859238038057585,
          0.5613332004704762,
          0.12620088175312968,
          0.058144696448571634,
          0.1713040724536974,
          0.15093867114997994,
          0.18075037450076628,
          0.17202191154114363,
          0.17737977629683876,
          0.21077950499525716,
          0.2436611805855013,
          0.20745187901646828,
          0.5023062782274276,
          0.5991378348523589,
          0.1344960224324486,
          0.40881243484615765,
          0.07473351384641116,
          0.011335613067393013,
          0.09073700615735208,
          0.13004107499482745,
          0.3458317063842961,
          0.13525281732382236,
          0.08475033525816898,
          0.14792977486246825,
          0.2984108076398348,
          0.1858000050150919,
          0.24024457610351208,
          0.2559102826017423,
          0.5133813286717622,
          0.027470601686591118,
          0.3937359800278584,
          0.15583632334800845,
          0.09905894190457899,
          0.27858807212086695,
          0.4812722632373649,
          0.2544250089613091,
          0.2434706056511549,
          0.19379995658068983,
          0.2995505864761834,
          0.19426201135693164,
          0.041802201964698214,
          0.10030411315430927,
          0.07984020118768599,
          0.3385136258891578,
          0.15077906548643116,
          0.18909066976252717,
          0.20527901718917674,
          0.25622694694405734,
          0.15121021355481823,
          0.13324820078895655,
          0.5091439498702974,
          0.26991249993223737,
          0.3688568438030953,
          0.5828026003581768,
          0.18083291752818573,
          0.017117994499499238,
          0.15568244840486073,
          0.2476213542755512,
          0.01160891334753881,
          0.060691222308317555,
          0.3237606518628915,
          0.13194460668328092,
          0.340739092769364,
          0.269476878294023,
          0.2898343093863198,
          0.2936006400476692,
          0.20424943630153639,
          0.2484381448450763,
          0.16131900129693372,
          0.2028259570002736,
          0.12333029820967194,
          0.27030458335075713,
          0.34981729550925555,
          0.074140485228301,
          0.0022009086026255685,
          0.01664931102888008,
          0.05184268367077961,
          0.3505848198641259,
          0.09616137011483328,
          0.35038030724964736,
          0.3114627761572051,
          0.3604128269036159,
          0.3182526319484033,
          0.48685044499035646,
          0.09113335632619388,
          0.23935221406975424,
          0.28987059305019003,
          0.2879353492087765,
          0.30092392063751194,
          0.32243900300945716,
          0.0033057180841425397,
          0.24308394817698015,
          0.12876170991894006,
          0.31097976045171627,
          0.1939374693181458,
          0.05410368045103846,
          0.2137569149794494,
          0.13140620764575983,
          0.26222325341192515,
          0.23526433734680338,
          0.3158045949805191,
          0.045653960046896605,
          0.6316184499942933,
          0.25494921454334585,
          0.2589872481723373,
          0.09316205767759561,
          0.16210661037502522,
          0.11063510361416812,
          0.512348455207204,
          0.10540247111839345,
          0.20464633069698362,
          0.4489989525992162,
          0.030463269106195415,
          0.2273255596943427,
          0.07511716445401247,
          0.004261849997962492,
          0.02563051878352808,
          0.13663632583729335,
          0.1201559077163154,
          0.17089392886283264,
          0.17132515039437912,
          0.1109242654123949,
          0.15568955329500428,
          0.2611372143399504,
          0.07255787644378776,
          0.24199911456810422,
          0.03553588779360254,
          0.29727194582770616,
          0.10134163432611194,
          0.039470814760027,
          0.06506448389750318,
          0.018934270166451994,
          0.5849459541624025,
          0.26281573236028216,
          0.22339233071777326,
          0.5378801068612016,
          0.3204018851781269,
          0.032353429116806685,
          0.04648836454191381,
          0.19696763402712059,
          0.27191901583331574,
          0.02750160361627507,
          0.11502088788317487,
          0.23004897588605647,
          0.2677638126970697,
          0.4830078653019313,
          0.09322424385998382,
          0.07334749917408574,
          0.357407416394604,
          0.23816271459557556,
          0.36684570196272315,
          0.010728570579003699,
          0.22612905327883728,
          0.06534845102406504,
          0.10353753058318649,
          0.037604040210409514,
          0.22216774488660893,
          0.06058601220558185,
          0.04467375966299855,
          0.05096183750311397,
          0.12659931086410844,
          0.40219867754273064,
          0.5732248210670154,
          0.08530512370474617,
          0.1889811793054671,
          0.09554342130782345,
          0.26939950543868996,
          0.14231910815947005,
          0.0812401916267097,
          0.2946900614922581,
          0.012313862391416422,
          0.35719474852643085,
          0.17685174752146807,
          0.03219149960814306,
          0.02920926230829948,
          0.12386009029885747,
          0.10239750412460637,
          0.24046117873330616,
          0.15001966373410314,
          0.22099530421264718,
          0.039133096978155514,
          0.3342604590420522,
          0.007161024523251456,
          0.35979466312707375,
          0.301127042751258,
          0.24189490856603094,
          0.1348690469979069,
          0.3249151221230815,
          0.20301551423768918,
          0.1780111403253258,
          0.04534536932343467,
          0.08854367593839728,
          0.10829175973660604,
          0.01986499480312348,
          0.31134627877583293,
          0.4513467101657934,
          0.23816350916830656,
          0.3330980947559482,
          0.09494171769971099,
          0.21001619567539176,
          0.059314998294943896,
          0.13620861727214306,
          0.2329106531374428,
          0.003798355741939426,
          0.45302734795573707,
          0.083741747950928,
          0.1964219994793784,
          0.25285642766190486,
          0.06323510594134349,
          0.11394142579954104,
          0.4950771490398592,
          0.22339099736158455,
          0.07196109810478385,
          0.26813086436458994,
          0.537538277434743,
          0.5050334196698456,
          0.08258412660936544,
          0.037816123033783074,
          0.03631714029293959,
          0.3149766423015534,
          0.2943834816924683,
          0.24064250452533328,
          0.3088763475234919,
          0.33964912981742335,
          0.12136829469395828,
          0.18110861783895305,
          0.055830351740969605,
          0.08831052605754384,
          0.08686247215080409,
          0.17977553748589606,
          0.06735229749351229,
          0.0570419904041298,
          0.10111094980138663,
          0.04276374893656775,
          0.04631185788766877,
          0.3219278534475515,
          0.19122616219199126,
          0.33083831159964283,
          0.29253061759796356,
          0.14984144819752046,
          0.0759075055684412,
          0.27568626352043185,
          0.0802247280075002,
          0.13654797590551296,
          0.2195430515895182,
          0.09904291712300206,
          0.11838730639775497,
          0.102719866543904,
          0.15750394321057434,
          0.21615707351415758,
          0.11766001952944703,
          0.21240690370070386,
          0.18068042492491584,
          0.1497542438604011,
          0.09105259565819254,
          0.03591547846884028,
          0.08796525438693974,
          0.18290560879082937,
          0.28996492404076313,
          0.027926324374376272,
          0.24654001189296315,
          0.14681673665636324,
          0.1300975141289182,
          0.05523864287040544,
          0.3993431310204581,
          0.09278981408241277,
          0.00532004909864058,
          0.25951686609935715,
          0.14948346880791483,
          0.5101954032698038,
          0.29473558342143297,
          0.23938238605166073,
          0.04907707076868066,
          0.24739191875291938,
          0.0273389094621388,
          0.0060303751217355315,
          0.10692735363065903,
          0.2033366956656243,
          0.12524027900884438,
          0.22970927439161115,
          0.17021219110386202,
          0.2702691976639568,
          0.03294119234100124,
          0.08001440848247361,
          0.265691358164175,
          0.10524378517511646,
          0.26963692478293194,
          0.06079576845375938,
          0.04453435572173146,
          0.23430405025558884,
          0.37182323862582084,
          0.335609436292877,
          0.27496016306033877,
          0.042793401188353765,
          0.018045154448270234,
          0.3365990545381123,
          0.34511597346091266,
          0.37678604849003067,
          0.05240222867054095,
          0.17179613595299012,
          0.23592452638617836,
          0.07828291806558792,
          0.2424764784811541,
          0.14785853000462099,
          0.20418357114680052,
          0.2015438408316182,
          0.29435655058299015,
          0.0129951592987315,
          0.027978398806234612,
          0.07525289756986543,
          0.13448872161682918,
          0.16763145781395666,
          0.1814878166694262,
          0.1000052804401935,
          0.228607942523099,
          0.20356713528273138,
          0.09266731930197727,
          0.2748411132448493,
          0.23617886304591942,
          0.48976146736579834,
          0.09949235669519219,
          0.2669118160414173,
          0.03390171073583167,
          0.07189801124618034,
          0.2527154427484047,
          0.11193852630786748,
          0.10115350296447527,
          0.35992410496802385,
          0.33586100555670223,
          0.033374724136862065,
          0.5240799313567367,
          0.1870339570263057,
          0.3518622556604634,
          0.09661914998453883,
          0.08578603870014745,
          0.290290769503839,
          0.042284774111652094,
          0.16851943336361044,
          0.24234428283900983,
          0.2779942271574349,
          0.3053037020658544,
          0.11080707958652469,
          0.08658132410144581,
          0.4084511111797848,
          0.17074726763411324,
          0.3386113310930372,
          0.3065948115829154,
          0.10627075649956354,
          0.2216615695558459,
          0.32611977834758704,
          0.3829550873916713,
          0.013534363804559787,
          0.22965711015941628,
          0.32510131059343206,
          0.16962262648856716,
          0.3004374191519766,
          0.0813209305283073,
          0.10406314572548012,
          0.18296725618975987,
          0.5307579374660732,
          0.16853927861926757,
          0.1782233074981542,
          0.4336746074878926,
          0.5974047063032285,
          0.02961531333885009,
          0.3316859898113111,
          0.28114198859038164,
          0.027584277256038073,
          0.36064366381327567,
          0.1135265038643398,
          0.482444693018844,
          0.017471935720051488,
          0.32154899204119314,
          0.06544527185797047,
          0.31175632714950885,
          0.13826213540191842,
          0.37899388783300836,
          0.28551289911716704,
          0.23603766316907404,
          0.06317296874264443,
          0.16641246662914067,
          0.19305440270042346,
          0.2649309196553918,
          0.19146541558157953,
          0.07971888738005155,
          0.23994078546913536,
          0.10536170299840049,
          0.197509467144839,
          0.31194345168813586,
          0.1913084086042093,
          0.29539519558459687,
          0.09257244952794648,
          0.3922855396805784,
          0.1524506690865732,
          0.37285588623609817,
          0.16665563029469246,
          0.5829367062404548,
          0.1575190999531673,
          0.042622453817784914,
          0.12211344857169906,
          0.10020057383651748,
          0.39783077116481186,
          0.09931891676203732,
          0.1328555459311863,
          0.33470283182458604,
          0.055927825638139535,
          0.1060790549991447,
          0.24283675722093645,
          0.23482010058547775,
          0.08552478762176345,
          0.09797020346598083,
          0.12167762014182165,
          0.11330428478931107,
          0.047222587610736305,
          0.040274679920217715,
          0.1385239796890502,
          0.21887417123069777,
          0.09638981242309813,
          0.1675020404571172,
          0.02842521792738921,
          0.3903797902597751,
          0.17116971894918787,
          0.17992740694697265,
          0.5085479633723966,
          0.2487703387229584,
          0.15342802044744785,
          0.28778341443456756,
          0.34075533796671453,
          0.2851406636797452,
          0.5101372797483136,
          0.12583658387597613,
          0.12945419342754033,
          0.29630572121205323,
          0.2394958493723758,
          0.3487078247149451,
          0.24506910314164554,
          0.04874806062487029,
          0.06496440584625836,
          0.061399284343907956,
          0.5697412956189513,
          0.16659915034240752,
          0.2001777258649886,
          0.061531548007610744,
          0.2793824867654744,
          0.09943363180409955,
          0.03275976858623621,
          0.06306007957888671,
          0.36981619754374034,
          0.32637876271457245,
          0.11043148353979892,
          0.1321870683003323,
          0.3319803544219492,
          0.22164342772236398,
          0.06048824441555777,
          0.09554381315413481,
          0.28541810552090896,
          0.1096789581009862,
          0.32609862966145275,
          0.2822972262168448,
          0.045354389898406434,
          0.015566765905540429,
          0.06274638400729822,
          0.21224710755792053,
          0.40591428073705316,
          0.11037924856369831,
          0.07709081717514947,
          0.09630355777063183,
          0.2522997425683688,
          0.029948478663148627,
          0.24996786282611388,
          0.31117750831477936,
          0.07998576577604452,
          0.11779882752724478,
          0.2600644462622794,
          0.28565957119351215,
          0.17482984629962176,
          0.20124956603059738,
          0.4071142239473692,
          0.3417645837850081,
          0.23571460415061085,
          0.04093131242326608,
          0.11027598950691615,
          0.11704085436994935,
          0.03125517758421453,
          0.31605538327870925,
          0.4118189746312149,
          0.1155919351403857,
          0.3205563397244733,
          0.12338393185973393,
          0.12848544631430903,
          0.4931987416096212,
          0.1641194012262036,
          0.15657093281071385,
          0.07361473947521062,
          0.159651482119453,
          0.1566780721976397,
          0.5948540415908907,
          0.14697725934258518,
          0.17644423524937283,
          0.10342448906078973,
          0.32025715053754583,
          0.12261260334939908,
          0.18790345059137512,
          0.07470848208922447,
          0.12126094849835467,
          0.2558016737969493,
          0.14129254501387106,
          0.06324569389227994,
          0.0692700498547355,
          0.07149087175159136,
          0.42102118237986935,
          0.18682360755236574,
          0.08647905011828426,
          0.26597678927937735,
          0.07492006422344044,
          0.49426468236055954,
          0.4558963940443013,
          0.3052444302242623,
          0.08293124593705212,
          0.04070033674814212,
          0.4904231040535431,
          0.06862635363648942,
          0.18340989836092897,
          0.11916446903747009,
          0.296216301874212,
          0.21244005261109797,
          0.01299422597909774,
          0.3739059355262293,
          0.3073481696903061,
          0.11296167169497838,
          0.26518218415244177,
          0.4859556067234558,
          0.10278991953028044,
          0.29899209999000026,
          0.2951353241237435,
          0.15678117887258103,
          0.10834468316339188,
          0.06880899918070289,
          0.18544887743942304,
          0.09127365279519598,
          0.010015866285503825,
          0.01646430081671724,
          0.2505761652168132,
          0.3648807705006643,
          0.2407460737858513,
          0.11156506362392841,
          0.08727173139953706,
          0.46739438561894703,
          0.27578792253617584,
          0.33141534536498124,
          0.1485901054113097,
          0.26288188323928363,
          0.24301034409278446,
          0.26073490216410633,
          0.07634469184325832,
          0.06443406409041325,
          0.11617585882169494,
          0.08796479450824239,
          0.12100153418457064,
          0.03341525550081069,
          0.14301151276330992,
          0.23593764499709452,
          0.17494246062386254,
          0.290792400520869,
          0.22813008608793325,
          0.0688299192902089,
          0.1285208864279463,
          0.1790692877292482,
          0.09042514463265666,
          0.11270272541455915,
          0.1725410503662604,
          0.161787287476547,
          0.25734697847665916,
          0.49172198241958837,
          0.0025647874239162947,
          0.15514442759418076,
          0.22451007920643978,
          0.19811699126286153,
          0.19301117741299914,
          0.3652808322991933,
          0.5536671598228591,
          0.16328147829534706,
          0.0546043917215013,
          0.14642715940288506,
          0.14328197216581906,
          0.5235379893915317,
          0.15699100042151656,
          0.28206918391729263,
          0.4970872677324189,
          0.2931651490217984,
          0.2158893107574714,
          0.026535983084837813,
          0.038218677388710945,
          0.08732984947323921,
          0.09109042220618291,
          0.35630513484762594,
          0.10660949743234106,
          0.030810981636442712,
          0.00998778685747059,
          0.0742800986851252,
          0.11510927045218658,
          0.03803515564156529,
          0.17880705159735186,
          0.07460951971775662,
          0.33304055628080437,
          0.32143786618196957,
          0.29446654444691467,
          0.23955510760687201,
          0.38450915413782594,
          0.4887166236119725,
          0.2611597072716624,
          0.07420335713284004,
          0.23713565619932636,
          0.43533331562297334,
          0.2550732168266679,
          0.047922061726579736,
          0.4990292627135116,
          0.028080659193127775,
          0.285627859048286,
          0.10470513579301656,
          0.16595188942698022,
          0.013127697814325531,
          0.36598217583852305,
          0.061851673622659885,
          0.1880028320125186,
          0.3007329348050638,
          0.13596115148586316,
          0.24122972623444214,
          0.16934504314257726,
          0.0749187118170081,
          0.34085872490730584,
          0.3164259588159358,
          0.3862413928769282,
          0.04823875055455219,
          0.26402418729246424,
          0.04491017762892538,
          0.48277239157596297,
          0.16145471808643708,
          0.31892177354119156,
          0.07302624155136324,
          0.3220177707506562,
          0.2978481387651588,
          0.05622284877375127,
          0.21492245484341088,
          0.2659185188161004,
          0.19177941048607633,
          0.34259753519469494,
          0.2321425301322238,
          0.033144842353456314,
          0.30349146185179493,
          0.19784904346699492,
          0.11942128738278245,
          0.5349322919718773,
          0.05714485488915977,
          0.5308907399132337,
          0.1816892435141177,
          0.3730463604961869,
          0.2539697706378787,
          0.11381754052456024,
          0.23402655398140107,
          0.18337255889654708,
          0.3899155803419685,
          0.15189031046229043,
          0.009920705347153289,
          0.006120020315404513,
          0.11927933373438557,
          0.2816809590702468,
          0.2089466412714252,
          0.26373619014687605,
          0.2681605084493342,
          0.14142933664020865,
          0.22503885358941378,
          0.045012571358243283,
          0.2577610405306375,
          0.22611568977113042,
          0.1994612473463761,
          0.4241384752218954,
          0.07946779432591362,
          0.25699707270900024,
          0.1366094001709629,
          0.10677963932841558,
          0.17307735685300182,
          0.17426854615927448,
          0.24140537573290505,
          0.23611954495071935,
          0.05628022126459872,
          0.06716539336601858,
          0.2870886451643251,
          0.29043867155059544,
          0.2727166577509896,
          0.191156473833094,
          0.38594602688642826,
          0.18383599601111994,
          0.2312524701864578,
          0.008777881556118285,
          0.35020949593611655,
          0.09298549115645956,
          0.1480801477007666,
          0.04288516886624794,
          0.1809802943831125,
          0.04595616154199847,
          0.06368534281479901,
          0.019788155292740757,
          0.010195363478425942,
          0.33516627982390756,
          0.1045781865100121,
          0.0688734439089947,
          0.1233705901184308,
          0.018225723763413245,
          0.10126916496574974,
          0.183571414267705,
          0.052644233140522946,
          0.09917969787232493,
          0.20174165128546634,
          0.013489021474511233,
          0.08708453066302908,
          0.2251878713051197,
          0.13810827950282717,
          0.22355115813648743,
          0.3291320842249983,
          0.13047707214836318,
          0.2493692069089562,
          0.06078999963751141,
          0.1779420723955553,
          0.271707153424169,
          0.202661641041789,
          0.4814072670889788,
          0.3731433473190291,
          0.08884043515197701,
          0.009738378165983514,
          0.5340130369306754,
          0.44523597982482344,
          0.07638263540577703,
          0.2948314001531292,
          0.1843868415429555,
          0.31965835582398816,
          0.23184571921879485,
          0.25105437266462827,
          0.05718981625764563,
          0.2799217892247599,
          0.07530567133561089,
          0.20271820807361,
          0.18377844393197376,
          0.3606860863640208,
          0.2707156712016887,
          0.17701488250405806,
          0.0038538778502634785,
          0.3284801266263714,
          0.4919918595027387,
          0.04156904392299016,
          0.11190975024354577,
          0.3060945220844755,
          0.3387040756589487,
          0.19865321340014808,
          0.3407199169064145,
          0.1767055625132635,
          0.2182269130407113,
          0.03716761039546183,
          0.1690041361742056,
          0.05711792920426788,
          0.3636131797839282,
          0.058145360407412305,
          0.30103936222301275,
          0.3015664413276515,
          0.22619803142064557,
          0.03001596289833879,
          0.20528286759670247,
          0.12893789274688547,
          0.26847782586110086,
          0.16622885235621765,
          0.237541767096768,
          0.08690157762969307,
          0.47947803152054974,
          0.03303791793296921,
          0.5566335600871855,
          0.04586051623929316,
          0.24320565109775116,
          0.40311695025431427,
          0.20606326838185832,
          0.2646772469513978,
          0.20815134769380433,
          0.2884023863909367,
          0.08635796488882487,
          0.05115844519919587,
          0.21774171497637235,
          0.042948976843703766,
          0.2301094450314396,
          0.1353248785238979,
          0.23530747011463748,
          0.021331032715262994,
          0.010490402923372602,
          0.3195682698095994,
          0.4317077630695399,
          0.17906084675128794,
          0.21817005757001137,
          0.2609553307204091,
          0.482511031653186,
          0.2058643313804992,
          0.255955156898426,
          0.23289927333302904,
          0.08614776237213949,
          0.22053097728031226,
          0.08362770230930737,
          0.18454079267779708,
          0.1908257929043397,
          0.04097344382206574,
          0.05849779411579731,
          0.28939036105768595,
          0.16560449799449817,
          0.11639254309870489,
          0.026875388004298208,
          0.08270104304660038,
          0.33918223957704985,
          0.5291302339861172,
          0.2988732488207871,
          0.03425984522189149,
          0.016757500777810255,
          0.19951899263793163,
          0.1092991034818077,
          0.04826536057090546,
          0.29602604802835014,
          0.5960653319513746,
          0.1003084179989314,
          0.06783880442528895,
          0.1100715068336171,
          0.19972410661737217,
          0.05901652204745267,
          0.20245795293194022,
          0.2776907358482325,
          0.3540399910461867,
          0.28917882247329213,
          0.20168027601607982,
          0.2681276670234223,
          0.05115496758619108,
          0.2785469230625131,
          0.14075467112950993,
          0.1972487739032499,
          0.17581395424177645,
          0.06086050977714436,
          0.19759362107948383,
          0.31133092066771,
          0.20648649523179463,
          0.6286825645760423,
          0.09839011324870138,
          0.12139070872245672,
          0.14856601788480084,
          0.09069097810824626,
          0.052283097226397034,
          0.15545652314793287,
          0.1920138637865794,
          0.20542462803269002,
          0.31593563140853215,
          0.2622923295133778,
          0.01587010482207441,
          0.018517538668468305,
          0.13066787294163096,
          0.246998689736645,
          0.3012907981521472,
          0.5771968561880187,
          0.2995950662088489,
          0.23087804695941244,
          0.06974980019595137,
          0.08357872725433196,
          0.2908651828150483,
          0.22785010270204112,
          0.049528972982385594,
          0.2624145467319491,
          0.24237950253223306
         ],
         "xaxis": "x",
         "yaxis": "y"
        }
       ],
       "layout": {
        "barmode": "relative",
        "height": 500,
        "legend": {
         "tracegroupgap": 0
        },
        "margin": {
         "t": 60
        },
        "template": {
         "data": {
          "bar": [
           {
            "error_x": {
             "color": "rgb(36,36,36)"
            },
            "error_y": {
             "color": "rgb(36,36,36)"
            },
            "marker": {
             "line": {
              "color": "white",
              "width": 0.5
             },
             "pattern": {
              "fillmode": "overlay",
              "size": 10,
              "solidity": 0.2
             }
            },
            "type": "bar"
           }
          ],
          "barpolar": [
           {
            "marker": {
             "line": {
              "color": "white",
              "width": 0.5
             },
             "pattern": {
              "fillmode": "overlay",
              "size": 10,
              "solidity": 0.2
             }
            },
            "type": "barpolar"
           }
          ],
          "carpet": [
           {
            "aaxis": {
             "endlinecolor": "rgb(36,36,36)",
             "gridcolor": "white",
             "linecolor": "white",
             "minorgridcolor": "white",
             "startlinecolor": "rgb(36,36,36)"
            },
            "baxis": {
             "endlinecolor": "rgb(36,36,36)",
             "gridcolor": "white",
             "linecolor": "white",
             "minorgridcolor": "white",
             "startlinecolor": "rgb(36,36,36)"
            },
            "type": "carpet"
           }
          ],
          "choropleth": [
           {
            "colorbar": {
             "outlinewidth": 1,
             "tickcolor": "rgb(36,36,36)",
             "ticks": "outside"
            },
            "type": "choropleth"
           }
          ],
          "contour": [
           {
            "colorbar": {
             "outlinewidth": 1,
             "tickcolor": "rgb(36,36,36)",
             "ticks": "outside"
            },
            "colorscale": [
             [
              0,
              "#440154"
             ],
             [
              0.1111111111111111,
              "#482878"
             ],
             [
              0.2222222222222222,
              "#3e4989"
             ],
             [
              0.3333333333333333,
              "#31688e"
             ],
             [
              0.4444444444444444,
              "#26828e"
             ],
             [
              0.5555555555555556,
              "#1f9e89"
             ],
             [
              0.6666666666666666,
              "#35b779"
             ],
             [
              0.7777777777777778,
              "#6ece58"
             ],
             [
              0.8888888888888888,
              "#b5de2b"
             ],
             [
              1,
              "#fde725"
             ]
            ],
            "type": "contour"
           }
          ],
          "contourcarpet": [
           {
            "colorbar": {
             "outlinewidth": 1,
             "tickcolor": "rgb(36,36,36)",
             "ticks": "outside"
            },
            "type": "contourcarpet"
           }
          ],
          "heatmap": [
           {
            "colorbar": {
             "outlinewidth": 1,
             "tickcolor": "rgb(36,36,36)",
             "ticks": "outside"
            },
            "colorscale": [
             [
              0,
              "#440154"
             ],
             [
              0.1111111111111111,
              "#482878"
             ],
             [
              0.2222222222222222,
              "#3e4989"
             ],
             [
              0.3333333333333333,
              "#31688e"
             ],
             [
              0.4444444444444444,
              "#26828e"
             ],
             [
              0.5555555555555556,
              "#1f9e89"
             ],
             [
              0.6666666666666666,
              "#35b779"
             ],
             [
              0.7777777777777778,
              "#6ece58"
             ],
             [
              0.8888888888888888,
              "#b5de2b"
             ],
             [
              1,
              "#fde725"
             ]
            ],
            "type": "heatmap"
           }
          ],
          "heatmapgl": [
           {
            "colorbar": {
             "outlinewidth": 1,
             "tickcolor": "rgb(36,36,36)",
             "ticks": "outside"
            },
            "colorscale": [
             [
              0,
              "#440154"
             ],
             [
              0.1111111111111111,
              "#482878"
             ],
             [
              0.2222222222222222,
              "#3e4989"
             ],
             [
              0.3333333333333333,
              "#31688e"
             ],
             [
              0.4444444444444444,
              "#26828e"
             ],
             [
              0.5555555555555556,
              "#1f9e89"
             ],
             [
              0.6666666666666666,
              "#35b779"
             ],
             [
              0.7777777777777778,
              "#6ece58"
             ],
             [
              0.8888888888888888,
              "#b5de2b"
             ],
             [
              1,
              "#fde725"
             ]
            ],
            "type": "heatmapgl"
           }
          ],
          "histogram": [
           {
            "marker": {
             "line": {
              "color": "white",
              "width": 0.6
             }
            },
            "type": "histogram"
           }
          ],
          "histogram2d": [
           {
            "colorbar": {
             "outlinewidth": 1,
             "tickcolor": "rgb(36,36,36)",
             "ticks": "outside"
            },
            "colorscale": [
             [
              0,
              "#440154"
             ],
             [
              0.1111111111111111,
              "#482878"
             ],
             [
              0.2222222222222222,
              "#3e4989"
             ],
             [
              0.3333333333333333,
              "#31688e"
             ],
             [
              0.4444444444444444,
              "#26828e"
             ],
             [
              0.5555555555555556,
              "#1f9e89"
             ],
             [
              0.6666666666666666,
              "#35b779"
             ],
             [
              0.7777777777777778,
              "#6ece58"
             ],
             [
              0.8888888888888888,
              "#b5de2b"
             ],
             [
              1,
              "#fde725"
             ]
            ],
            "type": "histogram2d"
           }
          ],
          "histogram2dcontour": [
           {
            "colorbar": {
             "outlinewidth": 1,
             "tickcolor": "rgb(36,36,36)",
             "ticks": "outside"
            },
            "colorscale": [
             [
              0,
              "#440154"
             ],
             [
              0.1111111111111111,
              "#482878"
             ],
             [
              0.2222222222222222,
              "#3e4989"
             ],
             [
              0.3333333333333333,
              "#31688e"
             ],
             [
              0.4444444444444444,
              "#26828e"
             ],
             [
              0.5555555555555556,
              "#1f9e89"
             ],
             [
              0.6666666666666666,
              "#35b779"
             ],
             [
              0.7777777777777778,
              "#6ece58"
             ],
             [
              0.8888888888888888,
              "#b5de2b"
             ],
             [
              1,
              "#fde725"
             ]
            ],
            "type": "histogram2dcontour"
           }
          ],
          "mesh3d": [
           {
            "colorbar": {
             "outlinewidth": 1,
             "tickcolor": "rgb(36,36,36)",
             "ticks": "outside"
            },
            "type": "mesh3d"
           }
          ],
          "parcoords": [
           {
            "line": {
             "colorbar": {
              "outlinewidth": 1,
              "tickcolor": "rgb(36,36,36)",
              "ticks": "outside"
             }
            },
            "type": "parcoords"
           }
          ],
          "pie": [
           {
            "automargin": true,
            "type": "pie"
           }
          ],
          "scatter": [
           {
            "fillpattern": {
             "fillmode": "overlay",
             "size": 10,
             "solidity": 0.2
            },
            "type": "scatter"
           }
          ],
          "scatter3d": [
           {
            "line": {
             "colorbar": {
              "outlinewidth": 1,
              "tickcolor": "rgb(36,36,36)",
              "ticks": "outside"
             }
            },
            "marker": {
             "colorbar": {
              "outlinewidth": 1,
              "tickcolor": "rgb(36,36,36)",
              "ticks": "outside"
             }
            },
            "type": "scatter3d"
           }
          ],
          "scattercarpet": [
           {
            "marker": {
             "colorbar": {
              "outlinewidth": 1,
              "tickcolor": "rgb(36,36,36)",
              "ticks": "outside"
             }
            },
            "type": "scattercarpet"
           }
          ],
          "scattergeo": [
           {
            "marker": {
             "colorbar": {
              "outlinewidth": 1,
              "tickcolor": "rgb(36,36,36)",
              "ticks": "outside"
             }
            },
            "type": "scattergeo"
           }
          ],
          "scattergl": [
           {
            "marker": {
             "colorbar": {
              "outlinewidth": 1,
              "tickcolor": "rgb(36,36,36)",
              "ticks": "outside"
             }
            },
            "type": "scattergl"
           }
          ],
          "scattermapbox": [
           {
            "marker": {
             "colorbar": {
              "outlinewidth": 1,
              "tickcolor": "rgb(36,36,36)",
              "ticks": "outside"
             }
            },
            "type": "scattermapbox"
           }
          ],
          "scatterpolar": [
           {
            "marker": {
             "colorbar": {
              "outlinewidth": 1,
              "tickcolor": "rgb(36,36,36)",
              "ticks": "outside"
             }
            },
            "type": "scatterpolar"
           }
          ],
          "scatterpolargl": [
           {
            "marker": {
             "colorbar": {
              "outlinewidth": 1,
              "tickcolor": "rgb(36,36,36)",
              "ticks": "outside"
             }
            },
            "type": "scatterpolargl"
           }
          ],
          "scatterternary": [
           {
            "marker": {
             "colorbar": {
              "outlinewidth": 1,
              "tickcolor": "rgb(36,36,36)",
              "ticks": "outside"
             }
            },
            "type": "scatterternary"
           }
          ],
          "surface": [
           {
            "colorbar": {
             "outlinewidth": 1,
             "tickcolor": "rgb(36,36,36)",
             "ticks": "outside"
            },
            "colorscale": [
             [
              0,
              "#440154"
             ],
             [
              0.1111111111111111,
              "#482878"
             ],
             [
              0.2222222222222222,
              "#3e4989"
             ],
             [
              0.3333333333333333,
              "#31688e"
             ],
             [
              0.4444444444444444,
              "#26828e"
             ],
             [
              0.5555555555555556,
              "#1f9e89"
             ],
             [
              0.6666666666666666,
              "#35b779"
             ],
             [
              0.7777777777777778,
              "#6ece58"
             ],
             [
              0.8888888888888888,
              "#b5de2b"
             ],
             [
              1,
              "#fde725"
             ]
            ],
            "type": "surface"
           }
          ],
          "table": [
           {
            "cells": {
             "fill": {
              "color": "rgb(237,237,237)"
             },
             "line": {
              "color": "white"
             }
            },
            "header": {
             "fill": {
              "color": "rgb(217,217,217)"
             },
             "line": {
              "color": "white"
             }
            },
            "type": "table"
           }
          ]
         },
         "layout": {
          "annotationdefaults": {
           "arrowhead": 0,
           "arrowwidth": 1
          },
          "autotypenumbers": "strict",
          "coloraxis": {
           "colorbar": {
            "outlinewidth": 1,
            "tickcolor": "rgb(36,36,36)",
            "ticks": "outside"
           }
          },
          "colorscale": {
           "diverging": [
            [
             0,
             "rgb(103,0,31)"
            ],
            [
             0.1,
             "rgb(178,24,43)"
            ],
            [
             0.2,
             "rgb(214,96,77)"
            ],
            [
             0.3,
             "rgb(244,165,130)"
            ],
            [
             0.4,
             "rgb(253,219,199)"
            ],
            [
             0.5,
             "rgb(247,247,247)"
            ],
            [
             0.6,
             "rgb(209,229,240)"
            ],
            [
             0.7,
             "rgb(146,197,222)"
            ],
            [
             0.8,
             "rgb(67,147,195)"
            ],
            [
             0.9,
             "rgb(33,102,172)"
            ],
            [
             1,
             "rgb(5,48,97)"
            ]
           ],
           "sequential": [
            [
             0,
             "#440154"
            ],
            [
             0.1111111111111111,
             "#482878"
            ],
            [
             0.2222222222222222,
             "#3e4989"
            ],
            [
             0.3333333333333333,
             "#31688e"
            ],
            [
             0.4444444444444444,
             "#26828e"
            ],
            [
             0.5555555555555556,
             "#1f9e89"
            ],
            [
             0.6666666666666666,
             "#35b779"
            ],
            [
             0.7777777777777778,
             "#6ece58"
            ],
            [
             0.8888888888888888,
             "#b5de2b"
            ],
            [
             1,
             "#fde725"
            ]
           ],
           "sequentialminus": [
            [
             0,
             "#440154"
            ],
            [
             0.1111111111111111,
             "#482878"
            ],
            [
             0.2222222222222222,
             "#3e4989"
            ],
            [
             0.3333333333333333,
             "#31688e"
            ],
            [
             0.4444444444444444,
             "#26828e"
            ],
            [
             0.5555555555555556,
             "#1f9e89"
            ],
            [
             0.6666666666666666,
             "#35b779"
            ],
            [
             0.7777777777777778,
             "#6ece58"
            ],
            [
             0.8888888888888888,
             "#b5de2b"
            ],
            [
             1,
             "#fde725"
            ]
           ]
          },
          "colorway": [
           "#1F77B4",
           "#FF7F0E",
           "#2CA02C",
           "#D62728",
           "#9467BD",
           "#8C564B",
           "#E377C2",
           "#7F7F7F",
           "#BCBD22",
           "#17BECF"
          ],
          "font": {
           "color": "rgb(36,36,36)"
          },
          "geo": {
           "bgcolor": "white",
           "lakecolor": "white",
           "landcolor": "white",
           "showlakes": true,
           "showland": true,
           "subunitcolor": "white"
          },
          "hoverlabel": {
           "align": "left"
          },
          "hovermode": "closest",
          "mapbox": {
           "style": "light"
          },
          "paper_bgcolor": "white",
          "plot_bgcolor": "white",
          "polar": {
           "angularaxis": {
            "gridcolor": "rgb(232,232,232)",
            "linecolor": "rgb(36,36,36)",
            "showgrid": false,
            "showline": true,
            "ticks": "outside"
           },
           "bgcolor": "white",
           "radialaxis": {
            "gridcolor": "rgb(232,232,232)",
            "linecolor": "rgb(36,36,36)",
            "showgrid": false,
            "showline": true,
            "ticks": "outside"
           }
          },
          "scene": {
           "xaxis": {
            "backgroundcolor": "white",
            "gridcolor": "rgb(232,232,232)",
            "gridwidth": 2,
            "linecolor": "rgb(36,36,36)",
            "showbackground": true,
            "showgrid": false,
            "showline": true,
            "ticks": "outside",
            "zeroline": false,
            "zerolinecolor": "rgb(36,36,36)"
           },
           "yaxis": {
            "backgroundcolor": "white",
            "gridcolor": "rgb(232,232,232)",
            "gridwidth": 2,
            "linecolor": "rgb(36,36,36)",
            "showbackground": true,
            "showgrid": false,
            "showline": true,
            "ticks": "outside",
            "zeroline": false,
            "zerolinecolor": "rgb(36,36,36)"
           },
           "zaxis": {
            "backgroundcolor": "white",
            "gridcolor": "rgb(232,232,232)",
            "gridwidth": 2,
            "linecolor": "rgb(36,36,36)",
            "showbackground": true,
            "showgrid": false,
            "showline": true,
            "ticks": "outside",
            "zeroline": false,
            "zerolinecolor": "rgb(36,36,36)"
           }
          },
          "shapedefaults": {
           "fillcolor": "black",
           "line": {
            "width": 0
           },
           "opacity": 0.3
          },
          "ternary": {
           "aaxis": {
            "gridcolor": "rgb(232,232,232)",
            "linecolor": "rgb(36,36,36)",
            "showgrid": false,
            "showline": true,
            "ticks": "outside"
           },
           "baxis": {
            "gridcolor": "rgb(232,232,232)",
            "linecolor": "rgb(36,36,36)",
            "showgrid": false,
            "showline": true,
            "ticks": "outside"
           },
           "bgcolor": "white",
           "caxis": {
            "gridcolor": "rgb(232,232,232)",
            "linecolor": "rgb(36,36,36)",
            "showgrid": false,
            "showline": true,
            "ticks": "outside"
           }
          },
          "title": {
           "x": 0.05
          },
          "xaxis": {
           "automargin": true,
           "gridcolor": "rgb(232,232,232)",
           "linecolor": "rgb(36,36,36)",
           "showgrid": false,
           "showline": true,
           "ticks": "outside",
           "title": {
            "standoff": 15
           },
           "zeroline": false,
           "zerolinecolor": "rgb(36,36,36)"
          },
          "yaxis": {
           "automargin": true,
           "gridcolor": "rgb(232,232,232)",
           "linecolor": "rgb(36,36,36)",
           "showgrid": false,
           "showline": true,
           "ticks": "outside",
           "title": {
            "standoff": 15
           },
           "zeroline": false,
           "zerolinecolor": "rgb(36,36,36)"
          }
         }
        },
        "width": 800,
        "xaxis": {
         "anchor": "y",
         "domain": [
          0,
          1
         ],
         "title": {
          "text": "Barrier height [eV]"
         }
        },
        "yaxis": {
         "anchor": "x",
         "domain": [
          0,
          1
         ],
         "title": {
          "text": "Count in dataset"
         }
        }
       }
      }
     },
     "metadata": {},
     "output_type": "display_data"
    }
   ],
   "source": [
    "fig = px.histogram(x=barriers, nbins=20, template=\"simple_white\")\n",
    "# Set x-label\n",
    "fig.update_xaxes(title_text=\"Barrier height [eV]\")\n",
    "fig.update_yaxes(title_text=\"Count in dataset\")\n",
    "# Shorten aspect ratio\n",
    "fig.update_layout(height=500, width=800)\n",
    "fig.show()"
   ]
  }
 ],
 "metadata": {
  "kernelspec": {
   "display_name": "molml",
   "language": "python",
   "name": "python3"
  },
  "language_info": {
   "codemirror_mode": {
    "name": "ipython",
    "version": 3
   },
   "file_extension": ".py",
   "mimetype": "text/x-python",
   "name": "python",
   "nbconvert_exporter": "python",
   "pygments_lexer": "ipython3",
   "version": "3.9.15"
  },
  "orig_nbformat": 4
 },
 "nbformat": 4,
 "nbformat_minor": 2
}
